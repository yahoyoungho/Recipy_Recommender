{
 "cells": [
  {
   "cell_type": "code",
   "execution_count": 65,
   "id": "architectural-commissioner",
   "metadata": {
    "ExecuteTime": {
     "end_time": "2021-03-09T06:52:50.245413Z",
     "start_time": "2021-03-09T06:52:50.242404Z"
    }
   },
   "outputs": [],
   "source": [
    "import pandas as pd\n",
    "pd.set_option(\"display.max_columns\",None)\n",
    "import numpy as np\n",
    "import pickle\n",
    "import matplotlib.pyplot as plt\n",
    "import seaborn as sns\n",
    "from collections import Counter"
   ]
  },
  {
   "cell_type": "code",
   "execution_count": 3,
   "id": "thrown-tonight",
   "metadata": {
    "ExecuteTime": {
     "end_time": "2021-03-09T04:33:17.624336Z",
     "start_time": "2021-03-09T04:33:09.715960Z"
    }
   },
   "outputs": [],
   "source": [
    "# load all the df\n",
    "ingr_map_df = pd.read_pickle(\"src/data/kaggle_food_data/ingr_map.pkl\")\n",
    "raw_recipes_df = pd.read_csv(\"src/data/kaggle_food_data/RAW_recipes.csv\")\n",
    "raw_interaction_df = pd.read_csv(\"src/data/kaggle_food_data/RAW_interactions.csv\") "
   ]
  },
  {
   "cell_type": "code",
   "execution_count": 4,
   "id": "british-gateway",
   "metadata": {
    "ExecuteTime": {
     "end_time": "2021-03-09T04:33:18.766915Z",
     "start_time": "2021-03-09T04:33:18.761928Z"
    }
   },
   "outputs": [],
   "source": [
    "raw_dfs = [raw_interaction_df, raw_recipes_df]"
   ]
  },
  {
   "cell_type": "markdown",
   "id": "worth-chicago",
   "metadata": {},
   "source": [
    "## observing all df"
   ]
  },
  {
   "cell_type": "code",
   "execution_count": 5,
   "id": "little-stupid",
   "metadata": {
    "ExecuteTime": {
     "end_time": "2021-03-09T04:33:21.263321Z",
     "start_time": "2021-03-09T04:33:21.240324Z"
    }
   },
   "outputs": [
    {
     "data": {
      "text/html": [
       "<div>\n",
       "<style scoped>\n",
       "    .dataframe tbody tr th:only-of-type {\n",
       "        vertical-align: middle;\n",
       "    }\n",
       "\n",
       "    .dataframe tbody tr th {\n",
       "        vertical-align: top;\n",
       "    }\n",
       "\n",
       "    .dataframe thead th {\n",
       "        text-align: right;\n",
       "    }\n",
       "</style>\n",
       "<table border=\"1\" class=\"dataframe\">\n",
       "  <thead>\n",
       "    <tr style=\"text-align: right;\">\n",
       "      <th></th>\n",
       "      <th>raw_ingr</th>\n",
       "      <th>raw_words</th>\n",
       "      <th>processed</th>\n",
       "      <th>len_proc</th>\n",
       "      <th>replaced</th>\n",
       "      <th>count</th>\n",
       "      <th>id</th>\n",
       "    </tr>\n",
       "  </thead>\n",
       "  <tbody>\n",
       "    <tr>\n",
       "      <th>0</th>\n",
       "      <td>medium heads bibb or red leaf lettuce, washed,...</td>\n",
       "      <td>13</td>\n",
       "      <td>medium heads bibb or red leaf lettuce, washed,...</td>\n",
       "      <td>73</td>\n",
       "      <td>lettuce</td>\n",
       "      <td>4507</td>\n",
       "      <td>4308</td>\n",
       "    </tr>\n",
       "    <tr>\n",
       "      <th>1</th>\n",
       "      <td>mixed baby lettuces and spring greens</td>\n",
       "      <td>6</td>\n",
       "      <td>mixed baby lettuces and spring green</td>\n",
       "      <td>36</td>\n",
       "      <td>lettuce</td>\n",
       "      <td>4507</td>\n",
       "      <td>4308</td>\n",
       "    </tr>\n",
       "    <tr>\n",
       "      <th>2</th>\n",
       "      <td>romaine lettuce leaf</td>\n",
       "      <td>3</td>\n",
       "      <td>romaine lettuce leaf</td>\n",
       "      <td>20</td>\n",
       "      <td>lettuce</td>\n",
       "      <td>4507</td>\n",
       "      <td>4308</td>\n",
       "    </tr>\n",
       "    <tr>\n",
       "      <th>3</th>\n",
       "      <td>iceberg lettuce leaf</td>\n",
       "      <td>3</td>\n",
       "      <td>iceberg lettuce leaf</td>\n",
       "      <td>20</td>\n",
       "      <td>lettuce</td>\n",
       "      <td>4507</td>\n",
       "      <td>4308</td>\n",
       "    </tr>\n",
       "    <tr>\n",
       "      <th>4</th>\n",
       "      <td>red romaine lettuce</td>\n",
       "      <td>3</td>\n",
       "      <td>red romaine lettuce</td>\n",
       "      <td>19</td>\n",
       "      <td>lettuce</td>\n",
       "      <td>4507</td>\n",
       "      <td>4308</td>\n",
       "    </tr>\n",
       "  </tbody>\n",
       "</table>\n",
       "</div>"
      ],
      "text/plain": [
       "                                            raw_ingr  raw_words  \\\n",
       "0  medium heads bibb or red leaf lettuce, washed,...         13   \n",
       "1              mixed baby lettuces and spring greens          6   \n",
       "2                               romaine lettuce leaf          3   \n",
       "3                               iceberg lettuce leaf          3   \n",
       "4                                red romaine lettuce          3   \n",
       "\n",
       "                                           processed  len_proc replaced  \\\n",
       "0  medium heads bibb or red leaf lettuce, washed,...        73  lettuce   \n",
       "1               mixed baby lettuces and spring green        36  lettuce   \n",
       "2                               romaine lettuce leaf        20  lettuce   \n",
       "3                               iceberg lettuce leaf        20  lettuce   \n",
       "4                                red romaine lettuce        19  lettuce   \n",
       "\n",
       "   count    id  \n",
       "0   4507  4308  \n",
       "1   4507  4308  \n",
       "2   4507  4308  \n",
       "3   4507  4308  \n",
       "4   4507  4308  "
      ]
     },
     "execution_count": 5,
     "metadata": {},
     "output_type": "execute_result"
    }
   ],
   "source": [
    "ingr_map_df.head()"
   ]
  },
  {
   "cell_type": "markdown",
   "id": "demanding-guess",
   "metadata": {},
   "source": [
    "id: map number to replaced variable"
   ]
  },
  {
   "cell_type": "code",
   "execution_count": 8,
   "id": "offensive-premium",
   "metadata": {
    "ExecuteTime": {
     "end_time": "2021-03-07T06:47:01.565130Z",
     "start_time": "2021-03-07T06:47:01.550168Z"
    }
   },
   "outputs": [
    {
     "data": {
      "text/html": [
       "<div>\n",
       "<style scoped>\n",
       "    .dataframe tbody tr th:only-of-type {\n",
       "        vertical-align: middle;\n",
       "    }\n",
       "\n",
       "    .dataframe tbody tr th {\n",
       "        vertical-align: top;\n",
       "    }\n",
       "\n",
       "    .dataframe thead th {\n",
       "        text-align: right;\n",
       "    }\n",
       "</style>\n",
       "<table border=\"1\" class=\"dataframe\">\n",
       "  <thead>\n",
       "    <tr style=\"text-align: right;\">\n",
       "      <th></th>\n",
       "      <th>name</th>\n",
       "      <th>id</th>\n",
       "      <th>minutes</th>\n",
       "      <th>contributor_id</th>\n",
       "      <th>submitted</th>\n",
       "      <th>tags</th>\n",
       "      <th>nutrition</th>\n",
       "      <th>n_steps</th>\n",
       "      <th>steps</th>\n",
       "      <th>description</th>\n",
       "      <th>ingredients</th>\n",
       "      <th>n_ingredients</th>\n",
       "    </tr>\n",
       "  </thead>\n",
       "  <tbody>\n",
       "    <tr>\n",
       "      <th>0</th>\n",
       "      <td>arriba   baked winter squash mexican style</td>\n",
       "      <td>137739</td>\n",
       "      <td>55</td>\n",
       "      <td>47892</td>\n",
       "      <td>2005-09-16</td>\n",
       "      <td>['60-minutes-or-less', 'time-to-make', 'course...</td>\n",
       "      <td>[51.5, 0.0, 13.0, 0.0, 2.0, 0.0, 4.0]</td>\n",
       "      <td>11</td>\n",
       "      <td>['make a choice and proceed with recipe', 'dep...</td>\n",
       "      <td>autumn is my favorite time of year to cook! th...</td>\n",
       "      <td>['winter squash', 'mexican seasoning', 'mixed ...</td>\n",
       "      <td>7</td>\n",
       "    </tr>\n",
       "    <tr>\n",
       "      <th>1</th>\n",
       "      <td>a bit different  breakfast pizza</td>\n",
       "      <td>31490</td>\n",
       "      <td>30</td>\n",
       "      <td>26278</td>\n",
       "      <td>2002-06-17</td>\n",
       "      <td>['30-minutes-or-less', 'time-to-make', 'course...</td>\n",
       "      <td>[173.4, 18.0, 0.0, 17.0, 22.0, 35.0, 1.0]</td>\n",
       "      <td>9</td>\n",
       "      <td>['preheat oven to 425 degrees f', 'press dough...</td>\n",
       "      <td>this recipe calls for the crust to be prebaked...</td>\n",
       "      <td>['prepared pizza crust', 'sausage patty', 'egg...</td>\n",
       "      <td>6</td>\n",
       "    </tr>\n",
       "    <tr>\n",
       "      <th>2</th>\n",
       "      <td>all in the kitchen  chili</td>\n",
       "      <td>112140</td>\n",
       "      <td>130</td>\n",
       "      <td>196586</td>\n",
       "      <td>2005-02-25</td>\n",
       "      <td>['time-to-make', 'course', 'preparation', 'mai...</td>\n",
       "      <td>[269.8, 22.0, 32.0, 48.0, 39.0, 27.0, 5.0]</td>\n",
       "      <td>6</td>\n",
       "      <td>['brown ground beef in large pot', 'add choppe...</td>\n",
       "      <td>this modified version of 'mom's' chili was a h...</td>\n",
       "      <td>['ground beef', 'yellow onions', 'diced tomato...</td>\n",
       "      <td>13</td>\n",
       "    </tr>\n",
       "    <tr>\n",
       "      <th>3</th>\n",
       "      <td>alouette  potatoes</td>\n",
       "      <td>59389</td>\n",
       "      <td>45</td>\n",
       "      <td>68585</td>\n",
       "      <td>2003-04-14</td>\n",
       "      <td>['60-minutes-or-less', 'time-to-make', 'course...</td>\n",
       "      <td>[368.1, 17.0, 10.0, 2.0, 14.0, 8.0, 20.0]</td>\n",
       "      <td>11</td>\n",
       "      <td>['place potatoes in a large pot of lightly sal...</td>\n",
       "      <td>this is a super easy, great tasting, make ahea...</td>\n",
       "      <td>['spreadable cheese with garlic and herbs', 'n...</td>\n",
       "      <td>11</td>\n",
       "    </tr>\n",
       "    <tr>\n",
       "      <th>4</th>\n",
       "      <td>amish  tomato ketchup  for canning</td>\n",
       "      <td>44061</td>\n",
       "      <td>190</td>\n",
       "      <td>41706</td>\n",
       "      <td>2002-10-25</td>\n",
       "      <td>['weeknight', 'time-to-make', 'course', 'main-...</td>\n",
       "      <td>[352.9, 1.0, 337.0, 23.0, 3.0, 0.0, 28.0]</td>\n",
       "      <td>5</td>\n",
       "      <td>['mix all ingredients&amp; boil for 2 1 / 2 hours ...</td>\n",
       "      <td>my dh's amish mother raised him on this recipe...</td>\n",
       "      <td>['tomato juice', 'apple cider vinegar', 'sugar...</td>\n",
       "      <td>8</td>\n",
       "    </tr>\n",
       "  </tbody>\n",
       "</table>\n",
       "</div>"
      ],
      "text/plain": [
       "                                         name      id  minutes  \\\n",
       "0  arriba   baked winter squash mexican style  137739       55   \n",
       "1            a bit different  breakfast pizza   31490       30   \n",
       "2                   all in the kitchen  chili  112140      130   \n",
       "3                          alouette  potatoes   59389       45   \n",
       "4          amish  tomato ketchup  for canning   44061      190   \n",
       "\n",
       "   contributor_id   submitted  \\\n",
       "0           47892  2005-09-16   \n",
       "1           26278  2002-06-17   \n",
       "2          196586  2005-02-25   \n",
       "3           68585  2003-04-14   \n",
       "4           41706  2002-10-25   \n",
       "\n",
       "                                                tags  \\\n",
       "0  ['60-minutes-or-less', 'time-to-make', 'course...   \n",
       "1  ['30-minutes-or-less', 'time-to-make', 'course...   \n",
       "2  ['time-to-make', 'course', 'preparation', 'mai...   \n",
       "3  ['60-minutes-or-less', 'time-to-make', 'course...   \n",
       "4  ['weeknight', 'time-to-make', 'course', 'main-...   \n",
       "\n",
       "                                    nutrition  n_steps  \\\n",
       "0       [51.5, 0.0, 13.0, 0.0, 2.0, 0.0, 4.0]       11   \n",
       "1   [173.4, 18.0, 0.0, 17.0, 22.0, 35.0, 1.0]        9   \n",
       "2  [269.8, 22.0, 32.0, 48.0, 39.0, 27.0, 5.0]        6   \n",
       "3   [368.1, 17.0, 10.0, 2.0, 14.0, 8.0, 20.0]       11   \n",
       "4   [352.9, 1.0, 337.0, 23.0, 3.0, 0.0, 28.0]        5   \n",
       "\n",
       "                                               steps  \\\n",
       "0  ['make a choice and proceed with recipe', 'dep...   \n",
       "1  ['preheat oven to 425 degrees f', 'press dough...   \n",
       "2  ['brown ground beef in large pot', 'add choppe...   \n",
       "3  ['place potatoes in a large pot of lightly sal...   \n",
       "4  ['mix all ingredients& boil for 2 1 / 2 hours ...   \n",
       "\n",
       "                                         description  \\\n",
       "0  autumn is my favorite time of year to cook! th...   \n",
       "1  this recipe calls for the crust to be prebaked...   \n",
       "2  this modified version of 'mom's' chili was a h...   \n",
       "3  this is a super easy, great tasting, make ahea...   \n",
       "4  my dh's amish mother raised him on this recipe...   \n",
       "\n",
       "                                         ingredients  n_ingredients  \n",
       "0  ['winter squash', 'mexican seasoning', 'mixed ...              7  \n",
       "1  ['prepared pizza crust', 'sausage patty', 'egg...              6  \n",
       "2  ['ground beef', 'yellow onions', 'diced tomato...             13  \n",
       "3  ['spreadable cheese with garlic and herbs', 'n...             11  \n",
       "4  ['tomato juice', 'apple cider vinegar', 'sugar...              8  "
      ]
     },
     "execution_count": 8,
     "metadata": {},
     "output_type": "execute_result"
    }
   ],
   "source": [
    "raw_recipes_df.head()"
   ]
  },
  {
   "cell_type": "markdown",
   "id": "republican-agency",
   "metadata": {},
   "source": [
    "- name: recipe name\n",
    "- id: recipe id\n",
    "- minutes: minutes to prepare recipe\n",
    "- contributor_id: user id who submitted recipe\n",
    "- submitted: date recipe was submitted\n",
    "- tags: tags for recipe\n",
    "- nutrition: (calories (#), total fat (PDV), sugar (PDV) , sodium (PDV) , protein (PDV) , saturated fat (PDV) , and carbohydrates (PDV))\n",
    "- n_steps: num of steps in recipe\n",
    "- steps: text for recipe step, in order\n",
    "- description: user-provided description"
   ]
  },
  {
   "cell_type": "code",
   "execution_count": 9,
   "id": "frank-consortium",
   "metadata": {
    "ExecuteTime": {
     "end_time": "2021-03-07T06:47:02.195378Z",
     "start_time": "2021-03-07T06:47:02.185404Z"
    }
   },
   "outputs": [
    {
     "data": {
      "text/html": [
       "<div>\n",
       "<style scoped>\n",
       "    .dataframe tbody tr th:only-of-type {\n",
       "        vertical-align: middle;\n",
       "    }\n",
       "\n",
       "    .dataframe tbody tr th {\n",
       "        vertical-align: top;\n",
       "    }\n",
       "\n",
       "    .dataframe thead th {\n",
       "        text-align: right;\n",
       "    }\n",
       "</style>\n",
       "<table border=\"1\" class=\"dataframe\">\n",
       "  <thead>\n",
       "    <tr style=\"text-align: right;\">\n",
       "      <th></th>\n",
       "      <th>user_id</th>\n",
       "      <th>recipe_id</th>\n",
       "      <th>date</th>\n",
       "      <th>rating</th>\n",
       "      <th>review</th>\n",
       "    </tr>\n",
       "  </thead>\n",
       "  <tbody>\n",
       "    <tr>\n",
       "      <th>0</th>\n",
       "      <td>38094</td>\n",
       "      <td>40893</td>\n",
       "      <td>2003-02-17</td>\n",
       "      <td>4</td>\n",
       "      <td>Great with a salad. Cooked on top of stove for...</td>\n",
       "    </tr>\n",
       "    <tr>\n",
       "      <th>1</th>\n",
       "      <td>1293707</td>\n",
       "      <td>40893</td>\n",
       "      <td>2011-12-21</td>\n",
       "      <td>5</td>\n",
       "      <td>So simple, so delicious! Great for chilly fall...</td>\n",
       "    </tr>\n",
       "    <tr>\n",
       "      <th>2</th>\n",
       "      <td>8937</td>\n",
       "      <td>44394</td>\n",
       "      <td>2002-12-01</td>\n",
       "      <td>4</td>\n",
       "      <td>This worked very well and is EASY.  I used not...</td>\n",
       "    </tr>\n",
       "    <tr>\n",
       "      <th>3</th>\n",
       "      <td>126440</td>\n",
       "      <td>85009</td>\n",
       "      <td>2010-02-27</td>\n",
       "      <td>5</td>\n",
       "      <td>I made the Mexican topping and took it to bunk...</td>\n",
       "    </tr>\n",
       "    <tr>\n",
       "      <th>4</th>\n",
       "      <td>57222</td>\n",
       "      <td>85009</td>\n",
       "      <td>2011-10-01</td>\n",
       "      <td>5</td>\n",
       "      <td>Made the cheddar bacon topping, adding a sprin...</td>\n",
       "    </tr>\n",
       "  </tbody>\n",
       "</table>\n",
       "</div>"
      ],
      "text/plain": [
       "   user_id  recipe_id        date  rating  \\\n",
       "0    38094      40893  2003-02-17       4   \n",
       "1  1293707      40893  2011-12-21       5   \n",
       "2     8937      44394  2002-12-01       4   \n",
       "3   126440      85009  2010-02-27       5   \n",
       "4    57222      85009  2011-10-01       5   \n",
       "\n",
       "                                              review  \n",
       "0  Great with a salad. Cooked on top of stove for...  \n",
       "1  So simple, so delicious! Great for chilly fall...  \n",
       "2  This worked very well and is EASY.  I used not...  \n",
       "3  I made the Mexican topping and took it to bunk...  \n",
       "4  Made the cheddar bacon topping, adding a sprin...  "
      ]
     },
     "execution_count": 9,
     "metadata": {},
     "output_type": "execute_result"
    }
   ],
   "source": [
    "raw_interaction_df.head()"
   ]
  },
  {
   "cell_type": "markdown",
   "id": "twelve-sleeve",
   "metadata": {},
   "source": [
    "# EDA"
   ]
  },
  {
   "cell_type": "code",
   "execution_count": 35,
   "id": "large-editor",
   "metadata": {
    "ExecuteTime": {
     "end_time": "2021-03-09T05:56:59.115119Z",
     "start_time": "2021-03-09T05:56:58.886914Z"
    }
   },
   "outputs": [
    {
     "name": "stdout",
     "output_type": "stream",
     "text": [
      "<class 'pandas.core.frame.DataFrame'>\n",
      "RangeIndex: 231637 entries, 0 to 231636\n",
      "Data columns (total 12 columns):\n",
      " #   Column          Non-Null Count   Dtype \n",
      "---  ------          --------------   ----- \n",
      " 0   name            231636 non-null  object\n",
      " 1   id              231637 non-null  int64 \n",
      " 2   minutes         231637 non-null  int64 \n",
      " 3   contributor_id  231637 non-null  int64 \n",
      " 4   submitted       231637 non-null  object\n",
      " 5   tags            231637 non-null  object\n",
      " 6   nutrition       231637 non-null  object\n",
      " 7   n_steps         231637 non-null  int64 \n",
      " 8   steps           231637 non-null  object\n",
      " 9   description     226658 non-null  object\n",
      " 10  ingredients     231637 non-null  object\n",
      " 11  n_ingredients   231637 non-null  int64 \n",
      "dtypes: int64(5), object(7)\n",
      "memory usage: 21.2+ MB\n"
     ]
    }
   ],
   "source": [
    "raw_recipes_df.info()"
   ]
  },
  {
   "cell_type": "code",
   "execution_count": 36,
   "id": "disabled-williams",
   "metadata": {
    "ExecuteTime": {
     "end_time": "2021-03-09T05:57:07.157239Z",
     "start_time": "2021-03-09T05:57:06.882070Z"
    }
   },
   "outputs": [
    {
     "name": "stdout",
     "output_type": "stream",
     "text": [
      "<class 'pandas.core.frame.DataFrame'>\n",
      "RangeIndex: 1132367 entries, 0 to 1132366\n",
      "Data columns (total 5 columns):\n",
      " #   Column     Non-Null Count    Dtype \n",
      "---  ------     --------------    ----- \n",
      " 0   user_id    1132367 non-null  int64 \n",
      " 1   recipe_id  1132367 non-null  int64 \n",
      " 2   date       1132367 non-null  object\n",
      " 3   rating     1132367 non-null  int64 \n",
      " 4   review     1132198 non-null  object\n",
      "dtypes: int64(3), object(2)\n",
      "memory usage: 43.2+ MB\n"
     ]
    }
   ],
   "source": [
    "raw_interaction_df.info()"
   ]
  },
  {
   "cell_type": "code",
   "execution_count": 37,
   "id": "featured-definition",
   "metadata": {
    "ExecuteTime": {
     "end_time": "2021-03-08T03:39:28.669988Z",
     "start_time": "2021-03-08T03:39:28.401204Z"
    }
   },
   "outputs": [
    {
     "data": {
      "image/png": "[encoded data removed]",
      "text/plain": [
       "<Figure size 432x288 with 1 Axes>"
      ]
     },
     "metadata": {
      "needs_background": "light"
     },
     "output_type": "display_data"
    }
   ],
   "source": [
    "raw_interaction_df.groupby([\"recipe_id\"])[[\"rating\"]].agg(\"mean\").plot.hist()\n",
    "plt.title(\"average rating for all recipes\".title(), fontsize = 14)\n",
    "plt.xlabel(\"ratings\".title());"
   ]
  },
  {
   "cell_type": "code",
   "execution_count": 46,
   "id": "alien-deviation",
   "metadata": {
    "ExecuteTime": {
     "end_time": "2021-03-09T06:04:15.516881Z",
     "start_time": "2021-03-09T06:04:15.370273Z"
    }
   },
   "outputs": [
    {
     "data": {
      "image/png": "[encoded data removed]",
      "text/plain": [
       "<Figure size 432x288 with 1 Axes>"
      ]
     },
     "metadata": {
      "needs_background": "light"
     },
     "output_type": "display_data"
    }
   ],
   "source": [
    "plt.hist(raw_recipes_df[\"n_ingredients\"], bins=43, edgecolor = \"black\")\n",
    "plt.title(\"Histogram of number of ingredients used for each recipe\".title(), fontsize = 14);\n",
    "plt.xlabel(\"number of ingredients used\".title())\n",
    "plt.ylabel(\"frequency\".title());"
   ]
  },
  {
   "cell_type": "code",
   "execution_count": 51,
   "id": "acknowledged-length",
   "metadata": {
    "ExecuteTime": {
     "end_time": "2021-03-09T06:06:47.706707Z",
     "start_time": "2021-03-09T06:06:47.562987Z"
    }
   },
   "outputs": [
    {
     "data": {
      "image/png": "[encoded data removed]",
      "text/plain": [
       "<Figure size 432x288 with 1 Axes>"
      ]
     },
     "metadata": {
      "needs_background": "light"
     },
     "output_type": "display_data"
    }
   ],
   "source": [
    "plt.hist(raw_recipes_df[\"n_steps\"], bins=25, edgecolor = \"black\")\n",
    "plt.title(\"Histogram of number of steps in each recipe\".title(), fontsize = 14);\n",
    "plt.xlabel(\"number of steps\".title())\n",
    "plt.ylabel(\"frequency\".title());"
   ]
  },
  {
   "cell_type": "code",
   "execution_count": 27,
   "id": "instrumental-burke",
   "metadata": {
    "ExecuteTime": {
     "end_time": "2021-03-08T02:48:41.651507Z",
     "start_time": "2021-03-08T02:48:41.644527Z"
    },
    "scrolled": true
   },
   "outputs": [
    {
     "data": {
      "text/plain": [
       "True"
      ]
     },
     "execution_count": 27,
     "metadata": {},
     "output_type": "execute_result"
    }
   ],
   "source": [
    "len(ingr_map_df[\"id\"].unique()) == len(ingr_map_df[\"replaced\"].unique())"
   ]
  },
  {
   "cell_type": "code",
   "execution_count": 42,
   "id": "elementary-minority",
   "metadata": {
    "ExecuteTime": {
     "end_time": "2021-03-08T06:44:09.468458Z",
     "start_time": "2021-03-08T06:44:09.457494Z"
    }
   },
   "outputs": [
    {
     "data": {
      "text/html": [
       "<div>\n",
       "<style scoped>\n",
       "    .dataframe tbody tr th:only-of-type {\n",
       "        vertical-align: middle;\n",
       "    }\n",
       "\n",
       "    .dataframe tbody tr th {\n",
       "        vertical-align: top;\n",
       "    }\n",
       "\n",
       "    .dataframe thead th {\n",
       "        text-align: right;\n",
       "    }\n",
       "</style>\n",
       "<table border=\"1\" class=\"dataframe\">\n",
       "  <thead>\n",
       "    <tr style=\"text-align: right;\">\n",
       "      <th></th>\n",
       "      <th>name</th>\n",
       "      <th>id</th>\n",
       "      <th>minutes</th>\n",
       "      <th>contributor_id</th>\n",
       "      <th>submitted</th>\n",
       "      <th>tags</th>\n",
       "      <th>nutrition</th>\n",
       "      <th>n_steps</th>\n",
       "      <th>steps</th>\n",
       "      <th>description</th>\n",
       "      <th>ingredients</th>\n",
       "      <th>n_ingredients</th>\n",
       "    </tr>\n",
       "  </thead>\n",
       "  <tbody>\n",
       "    <tr>\n",
       "      <th>0</th>\n",
       "      <td>arriba   baked winter squash mexican style</td>\n",
       "      <td>137739</td>\n",
       "      <td>55</td>\n",
       "      <td>47892</td>\n",
       "      <td>2005-09-16</td>\n",
       "      <td>['60-minutes-or-less', 'time-to-make', 'course...</td>\n",
       "      <td>[51.5, 0.0, 13.0, 0.0, 2.0, 0.0, 4.0]</td>\n",
       "      <td>11</td>\n",
       "      <td>['make a choice and proceed with recipe', 'dep...</td>\n",
       "      <td>autumn is my favorite time of year to cook! th...</td>\n",
       "      <td>['winter squash', 'mexican seasoning', 'mixed ...</td>\n",
       "      <td>7</td>\n",
       "    </tr>\n",
       "    <tr>\n",
       "      <th>1</th>\n",
       "      <td>a bit different  breakfast pizza</td>\n",
       "      <td>31490</td>\n",
       "      <td>30</td>\n",
       "      <td>26278</td>\n",
       "      <td>2002-06-17</td>\n",
       "      <td>['30-minutes-or-less', 'time-to-make', 'course...</td>\n",
       "      <td>[173.4, 18.0, 0.0, 17.0, 22.0, 35.0, 1.0]</td>\n",
       "      <td>9</td>\n",
       "      <td>['preheat oven to 425 degrees f', 'press dough...</td>\n",
       "      <td>this recipe calls for the crust to be prebaked...</td>\n",
       "      <td>['prepared pizza crust', 'sausage patty', 'egg...</td>\n",
       "      <td>6</td>\n",
       "    </tr>\n",
       "    <tr>\n",
       "      <th>2</th>\n",
       "      <td>all in the kitchen  chili</td>\n",
       "      <td>112140</td>\n",
       "      <td>130</td>\n",
       "      <td>196586</td>\n",
       "      <td>2005-02-25</td>\n",
       "      <td>['time-to-make', 'course', 'preparation', 'mai...</td>\n",
       "      <td>[269.8, 22.0, 32.0, 48.0, 39.0, 27.0, 5.0]</td>\n",
       "      <td>6</td>\n",
       "      <td>['brown ground beef in large pot', 'add choppe...</td>\n",
       "      <td>this modified version of 'mom's' chili was a h...</td>\n",
       "      <td>['ground beef', 'yellow onions', 'diced tomato...</td>\n",
       "      <td>13</td>\n",
       "    </tr>\n",
       "    <tr>\n",
       "      <th>3</th>\n",
       "      <td>alouette  potatoes</td>\n",
       "      <td>59389</td>\n",
       "      <td>45</td>\n",
       "      <td>68585</td>\n",
       "      <td>2003-04-14</td>\n",
       "      <td>['60-minutes-or-less', 'time-to-make', 'course...</td>\n",
       "      <td>[368.1, 17.0, 10.0, 2.0, 14.0, 8.0, 20.0]</td>\n",
       "      <td>11</td>\n",
       "      <td>['place potatoes in a large pot of lightly sal...</td>\n",
       "      <td>this is a super easy, great tasting, make ahea...</td>\n",
       "      <td>['spreadable cheese with garlic and herbs', 'n...</td>\n",
       "      <td>11</td>\n",
       "    </tr>\n",
       "    <tr>\n",
       "      <th>4</th>\n",
       "      <td>amish  tomato ketchup  for canning</td>\n",
       "      <td>44061</td>\n",
       "      <td>190</td>\n",
       "      <td>41706</td>\n",
       "      <td>2002-10-25</td>\n",
       "      <td>['weeknight', 'time-to-make', 'course', 'main-...</td>\n",
       "      <td>[352.9, 1.0, 337.0, 23.0, 3.0, 0.0, 28.0]</td>\n",
       "      <td>5</td>\n",
       "      <td>['mix all ingredients&amp; boil for 2 1 / 2 hours ...</td>\n",
       "      <td>my dh's amish mother raised him on this recipe...</td>\n",
       "      <td>['tomato juice', 'apple cider vinegar', 'sugar...</td>\n",
       "      <td>8</td>\n",
       "    </tr>\n",
       "  </tbody>\n",
       "</table>\n",
       "</div>"
      ],
      "text/plain": [
       "                                         name      id  minutes  \\\n",
       "0  arriba   baked winter squash mexican style  137739       55   \n",
       "1            a bit different  breakfast pizza   31490       30   \n",
       "2                   all in the kitchen  chili  112140      130   \n",
       "3                          alouette  potatoes   59389       45   \n",
       "4          amish  tomato ketchup  for canning   44061      190   \n",
       "\n",
       "   contributor_id   submitted  \\\n",
       "0           47892  2005-09-16   \n",
       "1           26278  2002-06-17   \n",
       "2          196586  2005-02-25   \n",
       "3           68585  2003-04-14   \n",
       "4           41706  2002-10-25   \n",
       "\n",
       "                                                tags  \\\n",
       "0  ['60-minutes-or-less', 'time-to-make', 'course...   \n",
       "1  ['30-minutes-or-less', 'time-to-make', 'course...   \n",
       "2  ['time-to-make', 'course', 'preparation', 'mai...   \n",
       "3  ['60-minutes-or-less', 'time-to-make', 'course...   \n",
       "4  ['weeknight', 'time-to-make', 'course', 'main-...   \n",
       "\n",
       "                                    nutrition  n_steps  \\\n",
       "0       [51.5, 0.0, 13.0, 0.0, 2.0, 0.0, 4.0]       11   \n",
       "1   [173.4, 18.0, 0.0, 17.0, 22.0, 35.0, 1.0]        9   \n",
       "2  [269.8, 22.0, 32.0, 48.0, 39.0, 27.0, 5.0]        6   \n",
       "3   [368.1, 17.0, 10.0, 2.0, 14.0, 8.0, 20.0]       11   \n",
       "4   [352.9, 1.0, 337.0, 23.0, 3.0, 0.0, 28.0]        5   \n",
       "\n",
       "                                               steps  \\\n",
       "0  ['make a choice and proceed with recipe', 'dep...   \n",
       "1  ['preheat oven to 425 degrees f', 'press dough...   \n",
       "2  ['brown ground beef in large pot', 'add choppe...   \n",
       "3  ['place potatoes in a large pot of lightly sal...   \n",
       "4  ['mix all ingredients& boil for 2 1 / 2 hours ...   \n",
       "\n",
       "                                         description  \\\n",
       "0  autumn is my favorite time of year to cook! th...   \n",
       "1  this recipe calls for the crust to be prebaked...   \n",
       "2  this modified version of 'mom's' chili was a h...   \n",
       "3  this is a super easy, great tasting, make ahea...   \n",
       "4  my dh's amish mother raised him on this recipe...   \n",
       "\n",
       "                                         ingredients  n_ingredients  \n",
       "0  ['winter squash', 'mexican seasoning', 'mixed ...              7  \n",
       "1  ['prepared pizza crust', 'sausage patty', 'egg...              6  \n",
       "2  ['ground beef', 'yellow onions', 'diced tomato...             13  \n",
       "3  ['spreadable cheese with garlic and herbs', 'n...             11  \n",
       "4  ['tomato juice', 'apple cider vinegar', 'sugar...              8  "
      ]
     },
     "execution_count": 42,
     "metadata": {},
     "output_type": "execute_result"
    }
   ],
   "source": [
    "raw_recipes_df.head()"
   ]
  },
  {
   "cell_type": "code",
   "execution_count": 83,
   "id": "demographic-target",
   "metadata": {
    "ExecuteTime": {
     "end_time": "2021-03-09T07:28:49.070904Z",
     "start_time": "2021-03-09T07:28:49.066443Z"
    }
   },
   "outputs": [],
   "source": [
    "def prep_ingr(ingrs):\n",
    "    toreturn = []\n",
    "    ingrs = ingrs.strip(\"[]\").replace(\"'\",\"\").replace('\"',\"\").split(\", \")\n",
    "    for ingr in ingrs:\n",
    "        toreturn.append(\"_\".join(ingr.split(\" \")))\n",
    "    return \" \".join(toreturn)"
   ]
  },
  {
   "cell_type": "code",
   "execution_count": 84,
   "id": "special-disclosure",
   "metadata": {
    "ExecuteTime": {
     "end_time": "2021-03-09T07:28:51.064569Z",
     "start_time": "2021-03-09T07:28:49.943511Z"
    }
   },
   "outputs": [],
   "source": [
    "raw_recipes_df[\"processed_ingrs\"] = raw_recipes_df[\"ingredients\"].apply(prep_ingr)"
   ]
  },
  {
   "cell_type": "code",
   "execution_count": 85,
   "id": "competitive-coffee",
   "metadata": {
    "ExecuteTime": {
     "end_time": "2021-03-09T07:28:51.084583Z",
     "start_time": "2021-03-09T07:28:51.065566Z"
    }
   },
   "outputs": [
    {
     "data": {
      "text/html": [
       "<div>\n",
       "<style scoped>\n",
       "    .dataframe tbody tr th:only-of-type {\n",
       "        vertical-align: middle;\n",
       "    }\n",
       "\n",
       "    .dataframe tbody tr th {\n",
       "        vertical-align: top;\n",
       "    }\n",
       "\n",
       "    .dataframe thead th {\n",
       "        text-align: right;\n",
       "    }\n",
       "</style>\n",
       "<table border=\"1\" class=\"dataframe\">\n",
       "  <thead>\n",
       "    <tr style=\"text-align: right;\">\n",
       "      <th></th>\n",
       "      <th>name</th>\n",
       "      <th>id</th>\n",
       "      <th>minutes</th>\n",
       "      <th>contributor_id</th>\n",
       "      <th>submitted</th>\n",
       "      <th>tags</th>\n",
       "      <th>nutrition</th>\n",
       "      <th>n_steps</th>\n",
       "      <th>steps</th>\n",
       "      <th>description</th>\n",
       "      <th>ingredients</th>\n",
       "      <th>n_ingredients</th>\n",
       "      <th>processed_ingrs</th>\n",
       "    </tr>\n",
       "  </thead>\n",
       "  <tbody>\n",
       "    <tr>\n",
       "      <th>0</th>\n",
       "      <td>arriba   baked winter squash mexican style</td>\n",
       "      <td>137739</td>\n",
       "      <td>55</td>\n",
       "      <td>47892</td>\n",
       "      <td>2005-09-16</td>\n",
       "      <td>['60-minutes-or-less', 'time-to-make', 'course...</td>\n",
       "      <td>[51.5, 0.0, 13.0, 0.0, 2.0, 0.0, 4.0]</td>\n",
       "      <td>11</td>\n",
       "      <td>['make a choice and proceed with recipe', 'dep...</td>\n",
       "      <td>autumn is my favorite time of year to cook! th...</td>\n",
       "      <td>['winter squash', 'mexican seasoning', 'mixed ...</td>\n",
       "      <td>7</td>\n",
       "      <td>winter_squash mexican_seasoning mixed_spice ho...</td>\n",
       "    </tr>\n",
       "    <tr>\n",
       "      <th>1</th>\n",
       "      <td>a bit different  breakfast pizza</td>\n",
       "      <td>31490</td>\n",
       "      <td>30</td>\n",
       "      <td>26278</td>\n",
       "      <td>2002-06-17</td>\n",
       "      <td>['30-minutes-or-less', 'time-to-make', 'course...</td>\n",
       "      <td>[173.4, 18.0, 0.0, 17.0, 22.0, 35.0, 1.0]</td>\n",
       "      <td>9</td>\n",
       "      <td>['preheat oven to 425 degrees f', 'press dough...</td>\n",
       "      <td>this recipe calls for the crust to be prebaked...</td>\n",
       "      <td>['prepared pizza crust', 'sausage patty', 'egg...</td>\n",
       "      <td>6</td>\n",
       "      <td>prepared_pizza_crust sausage_patty eggs milk s...</td>\n",
       "    </tr>\n",
       "    <tr>\n",
       "      <th>2</th>\n",
       "      <td>all in the kitchen  chili</td>\n",
       "      <td>112140</td>\n",
       "      <td>130</td>\n",
       "      <td>196586</td>\n",
       "      <td>2005-02-25</td>\n",
       "      <td>['time-to-make', 'course', 'preparation', 'mai...</td>\n",
       "      <td>[269.8, 22.0, 32.0, 48.0, 39.0, 27.0, 5.0]</td>\n",
       "      <td>6</td>\n",
       "      <td>['brown ground beef in large pot', 'add choppe...</td>\n",
       "      <td>this modified version of 'mom's' chili was a h...</td>\n",
       "      <td>['ground beef', 'yellow onions', 'diced tomato...</td>\n",
       "      <td>13</td>\n",
       "      <td>ground_beef yellow_onions diced_tomatoes tomat...</td>\n",
       "    </tr>\n",
       "    <tr>\n",
       "      <th>3</th>\n",
       "      <td>alouette  potatoes</td>\n",
       "      <td>59389</td>\n",
       "      <td>45</td>\n",
       "      <td>68585</td>\n",
       "      <td>2003-04-14</td>\n",
       "      <td>['60-minutes-or-less', 'time-to-make', 'course...</td>\n",
       "      <td>[368.1, 17.0, 10.0, 2.0, 14.0, 8.0, 20.0]</td>\n",
       "      <td>11</td>\n",
       "      <td>['place potatoes in a large pot of lightly sal...</td>\n",
       "      <td>this is a super easy, great tasting, make ahea...</td>\n",
       "      <td>['spreadable cheese with garlic and herbs', 'n...</td>\n",
       "      <td>11</td>\n",
       "      <td>spreadable_cheese_with_garlic_and_herbs new_po...</td>\n",
       "    </tr>\n",
       "    <tr>\n",
       "      <th>4</th>\n",
       "      <td>amish  tomato ketchup  for canning</td>\n",
       "      <td>44061</td>\n",
       "      <td>190</td>\n",
       "      <td>41706</td>\n",
       "      <td>2002-10-25</td>\n",
       "      <td>['weeknight', 'time-to-make', 'course', 'main-...</td>\n",
       "      <td>[352.9, 1.0, 337.0, 23.0, 3.0, 0.0, 28.0]</td>\n",
       "      <td>5</td>\n",
       "      <td>['mix all ingredients&amp; boil for 2 1 / 2 hours ...</td>\n",
       "      <td>my dh's amish mother raised him on this recipe...</td>\n",
       "      <td>['tomato juice', 'apple cider vinegar', 'sugar...</td>\n",
       "      <td>8</td>\n",
       "      <td>tomato_juice apple_cider_vinegar sugar salt pe...</td>\n",
       "    </tr>\n",
       "  </tbody>\n",
       "</table>\n",
       "</div>"
      ],
      "text/plain": [
       "                                         name      id  minutes  \\\n",
       "0  arriba   baked winter squash mexican style  137739       55   \n",
       "1            a bit different  breakfast pizza   31490       30   \n",
       "2                   all in the kitchen  chili  112140      130   \n",
       "3                          alouette  potatoes   59389       45   \n",
       "4          amish  tomato ketchup  for canning   44061      190   \n",
       "\n",
       "   contributor_id   submitted  \\\n",
       "0           47892  2005-09-16   \n",
       "1           26278  2002-06-17   \n",
       "2          196586  2005-02-25   \n",
       "3           68585  2003-04-14   \n",
       "4           41706  2002-10-25   \n",
       "\n",
       "                                                tags  \\\n",
       "0  ['60-minutes-or-less', 'time-to-make', 'course...   \n",
       "1  ['30-minutes-or-less', 'time-to-make', 'course...   \n",
       "2  ['time-to-make', 'course', 'preparation', 'mai...   \n",
       "3  ['60-minutes-or-less', 'time-to-make', 'course...   \n",
       "4  ['weeknight', 'time-to-make', 'course', 'main-...   \n",
       "\n",
       "                                    nutrition  n_steps  \\\n",
       "0       [51.5, 0.0, 13.0, 0.0, 2.0, 0.0, 4.0]       11   \n",
       "1   [173.4, 18.0, 0.0, 17.0, 22.0, 35.0, 1.0]        9   \n",
       "2  [269.8, 22.0, 32.0, 48.0, 39.0, 27.0, 5.0]        6   \n",
       "3   [368.1, 17.0, 10.0, 2.0, 14.0, 8.0, 20.0]       11   \n",
       "4   [352.9, 1.0, 337.0, 23.0, 3.0, 0.0, 28.0]        5   \n",
       "\n",
       "                                               steps  \\\n",
       "0  ['make a choice and proceed with recipe', 'dep...   \n",
       "1  ['preheat oven to 425 degrees f', 'press dough...   \n",
       "2  ['brown ground beef in large pot', 'add choppe...   \n",
       "3  ['place potatoes in a large pot of lightly sal...   \n",
       "4  ['mix all ingredients& boil for 2 1 / 2 hours ...   \n",
       "\n",
       "                                         description  \\\n",
       "0  autumn is my favorite time of year to cook! th...   \n",
       "1  this recipe calls for the crust to be prebaked...   \n",
       "2  this modified version of 'mom's' chili was a h...   \n",
       "3  this is a super easy, great tasting, make ahea...   \n",
       "4  my dh's amish mother raised him on this recipe...   \n",
       "\n",
       "                                         ingredients  n_ingredients  \\\n",
       "0  ['winter squash', 'mexican seasoning', 'mixed ...              7   \n",
       "1  ['prepared pizza crust', 'sausage patty', 'egg...              6   \n",
       "2  ['ground beef', 'yellow onions', 'diced tomato...             13   \n",
       "3  ['spreadable cheese with garlic and herbs', 'n...             11   \n",
       "4  ['tomato juice', 'apple cider vinegar', 'sugar...              8   \n",
       "\n",
       "                                     processed_ingrs  \n",
       "0  winter_squash mexican_seasoning mixed_spice ho...  \n",
       "1  prepared_pizza_crust sausage_patty eggs milk s...  \n",
       "2  ground_beef yellow_onions diced_tomatoes tomat...  \n",
       "3  spreadable_cheese_with_garlic_and_herbs new_po...  \n",
       "4  tomato_juice apple_cider_vinegar sugar salt pe...  "
      ]
     },
     "execution_count": 85,
     "metadata": {},
     "output_type": "execute_result"
    }
   ],
   "source": [
    "raw_recipes_df.head()"
   ]
  },
  {
   "cell_type": "code",
   "execution_count": 86,
   "id": "metropolitan-soundtrack",
   "metadata": {
    "ExecuteTime": {
     "end_time": "2021-03-09T07:28:52.404881Z",
     "start_time": "2021-03-09T07:28:51.821278Z"
    }
   },
   "outputs": [],
   "source": [
    "ingr_list = []\n",
    "for ingr in raw_recipes_df[\"processed_ingrs\"].values:\n",
    "    [ingr_list.append(i) for i in ingr.split(\" \")]\n",
    "ingr_counts = Counter(ingr_list)"
   ]
  },
  {
   "cell_type": "code",
   "execution_count": 87,
   "id": "certain-minimum",
   "metadata": {
    "ExecuteTime": {
     "end_time": "2021-03-09T07:28:53.007277Z",
     "start_time": "2021-03-09T07:28:53.003717Z"
    }
   },
   "outputs": [],
   "source": [
    "ingr_names = list(ingr_counts.keys())"
   ]
  },
  {
   "cell_type": "code",
   "execution_count": 114,
   "id": "global-partner",
   "metadata": {
    "ExecuteTime": {
     "end_time": "2021-03-09T08:00:52.421600Z",
     "start_time": "2021-03-09T08:00:51.849092Z"
    }
   },
   "outputs": [],
   "source": [
    "ingr_count_df = pd.DataFrame(ingr_counts, index = [\"counts\"])\n",
    "ingr_count_df = ingr_count_df.T"
   ]
  },
  {
   "cell_type": "code",
   "execution_count": 115,
   "id": "novel-supervisor",
   "metadata": {
    "ExecuteTime": {
     "end_time": "2021-03-09T08:00:52.430537Z",
     "start_time": "2021-03-09T08:00:52.422583Z"
    }
   },
   "outputs": [],
   "source": [
    "ingr_count_df.sort_values(\"counts\", inplace = True, ascending=False)\n",
    "ingr_count_df.reset_index(inplace= True)\n",
    "ingr_count_df.columns = [\"ingredients\",\"counts\"]"
   ]
  },
  {
   "cell_type": "code",
   "execution_count": 126,
   "id": "bibliographic-oracle",
   "metadata": {
    "ExecuteTime": {
     "end_time": "2021-03-10T04:17:50.866176Z",
     "start_time": "2021-03-10T04:17:50.676655Z"
    }
   },
   "outputs": [
    {
     "data": {
      "image/png": "[encoded data removed]",
      "text/plain": [
       "<Figure size 432x288 with 1 Axes>"
      ]
     },
     "metadata": {
      "needs_background": "light"
     },
     "output_type": "display_data"
    }
   ],
   "source": [
    "sns.barplot(data = ingr_count_df.iloc[:20,:],x = \"counts\", y = \"ingredients\")\n",
    "plt.title(\"20 most used ingredients\".title());"
   ]
  },
  {
   "cell_type": "code",
   "execution_count": 125,
   "id": "rising-brake",
   "metadata": {
    "ExecuteTime": {
     "end_time": "2021-03-10T04:17:25.229594Z",
     "start_time": "2021-03-10T04:17:25.011554Z"
    }
   },
   "outputs": [
    {
     "data": {
      "image/png": "[encoded data removed]",
      "text/plain": [
       "<Figure size 432x288 with 1 Axes>"
      ]
     },
     "metadata": {
      "needs_background": "light"
     },
     "output_type": "display_data"
    }
   ],
   "source": [
    "sns.barplot(data = ingr_count_df.iloc[-20:,:],x = \"counts\", y = \"ingredients\")\n",
    "plt.title(\"20 least used ingredients\".title());"
   ]
  },
  {
   "cell_type": "code",
   "execution_count": 140,
   "id": "spare-disorder",
   "metadata": {
    "ExecuteTime": {
     "end_time": "2021-03-10T04:25:00.743508Z",
     "start_time": "2021-03-10T04:24:58.392889Z"
    }
   },
   "outputs": [],
   "source": [
    "tags_list = []\n",
    "for t in raw_recipes_df[\"tags\"]:\n",
    "    [tags_list.append(x.replace(\"'\",\"\").replace('\"',\"\").strip(\"[]\")) for x in t.split(\", \")]\n",
    "tag_counts = Counter(tags_list)"
   ]
  },
  {
   "cell_type": "code",
   "execution_count": 149,
   "id": "criminal-roots",
   "metadata": {
    "ExecuteTime": {
     "end_time": "2021-03-10T04:29:56.572721Z",
     "start_time": "2021-03-10T04:29:56.541789Z"
    }
   },
   "outputs": [],
   "source": [
    "tag_counts_df = pd.DataFrame(tag_counts, index = [\"counts\"]).T\n",
    "tag_counts_df.reset_index(inplace=True)\n",
    "tag_counts_df.columns = [\"tags\",\"counts\"]\n",
    "tag_counts_df.sort_values(\"counts\", ascending=False, inplace=True)"
   ]
  },
  {
   "cell_type": "code",
   "execution_count": 155,
   "id": "thermal-hopkins",
   "metadata": {
    "ExecuteTime": {
     "end_time": "2021-03-10T04:32:07.939015Z",
     "start_time": "2021-03-10T04:32:07.739795Z"
    }
   },
   "outputs": [
    {
     "data": {
      "image/png": "[encoded data removed]",
      "text/plain": [
       "<Figure size 432x288 with 1 Axes>"
      ]
     },
     "metadata": {
      "needs_background": "light"
     },
     "output_type": "display_data"
    }
   ],
   "source": [
    "sns.barplot(data =tag_counts_df.iloc[:20,:], x = \"counts\", y= \"tags\")\n",
    "plt.title(\"20 most common tags\".title(), fontsize = 14);"
   ]
  },
  {
   "cell_type": "code",
   "execution_count": 156,
   "id": "finished-lighter",
   "metadata": {
    "ExecuteTime": {
     "end_time": "2021-03-10T04:32:23.815857Z",
     "start_time": "2021-03-10T04:32:23.607444Z"
    }
   },
   "outputs": [
    {
     "data": {
      "image/png": "[encoded data removed]",
      "text/plain": [
       "<Figure size 432x288 with 1 Axes>"
      ]
     },
     "metadata": {
      "needs_background": "light"
     },
     "output_type": "display_data"
    }
   ],
   "source": [
    "sns.barplot(data =tag_counts_df.iloc[-20:,:], x = \"counts\", y= \"tags\")\n",
    "plt.title(\"20 least common tags\".title(), fontsize = 14);"
   ]
  },
  {
   "cell_type": "markdown",
   "id": "frequent-auction",
   "metadata": {},
   "source": [
    "# most popular recipes"
   ]
  },
  {
   "cell_type": "code",
   "execution_count": 157,
   "id": "humanitarian-marathon",
   "metadata": {
    "ExecuteTime": {
     "end_time": "2021-03-10T04:37:29.955984Z",
     "start_time": "2021-03-10T04:37:29.943055Z"
    }
   },
   "outputs": [
    {
     "data": {
      "text/html": [
       "<div>\n",
       "<style scoped>\n",
       "    .dataframe tbody tr th:only-of-type {\n",
       "        vertical-align: middle;\n",
       "    }\n",
       "\n",
       "    .dataframe tbody tr th {\n",
       "        vertical-align: top;\n",
       "    }\n",
       "\n",
       "    .dataframe thead th {\n",
       "        text-align: right;\n",
       "    }\n",
       "</style>\n",
       "<table border=\"1\" class=\"dataframe\">\n",
       "  <thead>\n",
       "    <tr style=\"text-align: right;\">\n",
       "      <th></th>\n",
       "      <th>user_id</th>\n",
       "      <th>recipe_id</th>\n",
       "      <th>date</th>\n",
       "      <th>rating</th>\n",
       "      <th>review</th>\n",
       "    </tr>\n",
       "  </thead>\n",
       "  <tbody>\n",
       "    <tr>\n",
       "      <th>0</th>\n",
       "      <td>38094</td>\n",
       "      <td>40893</td>\n",
       "      <td>2003-02-17</td>\n",
       "      <td>4</td>\n",
       "      <td>Great with a salad. Cooked on top of stove for...</td>\n",
       "    </tr>\n",
       "    <tr>\n",
       "      <th>1</th>\n",
       "      <td>1293707</td>\n",
       "      <td>40893</td>\n",
       "      <td>2011-12-21</td>\n",
       "      <td>5</td>\n",
       "      <td>So simple, so delicious! Great for chilly fall...</td>\n",
       "    </tr>\n",
       "    <tr>\n",
       "      <th>2</th>\n",
       "      <td>8937</td>\n",
       "      <td>44394</td>\n",
       "      <td>2002-12-01</td>\n",
       "      <td>4</td>\n",
       "      <td>This worked very well and is EASY.  I used not...</td>\n",
       "    </tr>\n",
       "    <tr>\n",
       "      <th>3</th>\n",
       "      <td>126440</td>\n",
       "      <td>85009</td>\n",
       "      <td>2010-02-27</td>\n",
       "      <td>5</td>\n",
       "      <td>I made the Mexican topping and took it to bunk...</td>\n",
       "    </tr>\n",
       "    <tr>\n",
       "      <th>4</th>\n",
       "      <td>57222</td>\n",
       "      <td>85009</td>\n",
       "      <td>2011-10-01</td>\n",
       "      <td>5</td>\n",
       "      <td>Made the cheddar bacon topping, adding a sprin...</td>\n",
       "    </tr>\n",
       "    <tr>\n",
       "      <th>...</th>\n",
       "      <td>...</td>\n",
       "      <td>...</td>\n",
       "      <td>...</td>\n",
       "      <td>...</td>\n",
       "      <td>...</td>\n",
       "    </tr>\n",
       "    <tr>\n",
       "      <th>1132362</th>\n",
       "      <td>116593</td>\n",
       "      <td>72730</td>\n",
       "      <td>2003-12-09</td>\n",
       "      <td>0</td>\n",
       "      <td>Another approach is to start making sauce with...</td>\n",
       "    </tr>\n",
       "    <tr>\n",
       "      <th>1132363</th>\n",
       "      <td>583662</td>\n",
       "      <td>386618</td>\n",
       "      <td>2009-09-29</td>\n",
       "      <td>5</td>\n",
       "      <td>These were so delicious!  My husband and I tru...</td>\n",
       "    </tr>\n",
       "    <tr>\n",
       "      <th>1132364</th>\n",
       "      <td>157126</td>\n",
       "      <td>78003</td>\n",
       "      <td>2008-06-23</td>\n",
       "      <td>5</td>\n",
       "      <td>WOW!  Sometimes I don't take the time to rate ...</td>\n",
       "    </tr>\n",
       "    <tr>\n",
       "      <th>1132365</th>\n",
       "      <td>53932</td>\n",
       "      <td>78003</td>\n",
       "      <td>2009-01-11</td>\n",
       "      <td>4</td>\n",
       "      <td>Very good!  I used regular port as well.  The ...</td>\n",
       "    </tr>\n",
       "    <tr>\n",
       "      <th>1132366</th>\n",
       "      <td>2001868099</td>\n",
       "      <td>78003</td>\n",
       "      <td>2017-12-18</td>\n",
       "      <td>5</td>\n",
       "      <td>I am so glad I googled and found this here. Th...</td>\n",
       "    </tr>\n",
       "  </tbody>\n",
       "</table>\n",
       "<p>1132367 rows × 5 columns</p>\n",
       "</div>"
      ],
      "text/plain": [
       "            user_id  recipe_id        date  rating  \\\n",
       "0             38094      40893  2003-02-17       4   \n",
       "1           1293707      40893  2011-12-21       5   \n",
       "2              8937      44394  2002-12-01       4   \n",
       "3            126440      85009  2010-02-27       5   \n",
       "4             57222      85009  2011-10-01       5   \n",
       "...             ...        ...         ...     ...   \n",
       "1132362      116593      72730  2003-12-09       0   \n",
       "1132363      583662     386618  2009-09-29       5   \n",
       "1132364      157126      78003  2008-06-23       5   \n",
       "1132365       53932      78003  2009-01-11       4   \n",
       "1132366  2001868099      78003  2017-12-18       5   \n",
       "\n",
       "                                                    review  \n",
       "0        Great with a salad. Cooked on top of stove for...  \n",
       "1        So simple, so delicious! Great for chilly fall...  \n",
       "2        This worked very well and is EASY.  I used not...  \n",
       "3        I made the Mexican topping and took it to bunk...  \n",
       "4        Made the cheddar bacon topping, adding a sprin...  \n",
       "...                                                    ...  \n",
       "1132362  Another approach is to start making sauce with...  \n",
       "1132363  These were so delicious!  My husband and I tru...  \n",
       "1132364  WOW!  Sometimes I don't take the time to rate ...  \n",
       "1132365  Very good!  I used regular port as well.  The ...  \n",
       "1132366  I am so glad I googled and found this here. Th...  \n",
       "\n",
       "[1132367 rows x 5 columns]"
      ]
     },
     "execution_count": 157,
     "metadata": {},
     "output_type": "execute_result"
    }
   ],
   "source": [
    "raw_interaction_df"
   ]
  },
  {
   "cell_type": "code",
   "execution_count": 181,
   "id": "divine-rogers",
   "metadata": {
    "ExecuteTime": {
     "end_time": "2021-03-10T05:03:39.269691Z",
     "start_time": "2021-03-10T05:03:39.135106Z"
    }
   },
   "outputs": [],
   "source": [
    "recipe_rating_df = raw_interaction_df.groupby(\"recipe_id\")[[\"rating\"]].count().reset_index()"
   ]
  },
  {
   "cell_type": "code",
   "execution_count": 183,
   "id": "dedicated-gateway",
   "metadata": {
    "ExecuteTime": {
     "end_time": "2021-03-10T05:04:48.535755Z",
     "start_time": "2021-03-10T05:04:48.523784Z"
    }
   },
   "outputs": [
    {
     "data": {
      "text/html": [
       "<div>\n",
       "<style scoped>\n",
       "    .dataframe tbody tr th:only-of-type {\n",
       "        vertical-align: middle;\n",
       "    }\n",
       "\n",
       "    .dataframe tbody tr th {\n",
       "        vertical-align: top;\n",
       "    }\n",
       "\n",
       "    .dataframe thead th {\n",
       "        text-align: right;\n",
       "    }\n",
       "</style>\n",
       "<table border=\"1\" class=\"dataframe\">\n",
       "  <thead>\n",
       "    <tr style=\"text-align: right;\">\n",
       "      <th></th>\n",
       "      <th>recipe_id</th>\n",
       "      <th>counts</th>\n",
       "    </tr>\n",
       "  </thead>\n",
       "  <tbody>\n",
       "    <tr>\n",
       "      <th>0</th>\n",
       "      <td>38</td>\n",
       "      <td>4</td>\n",
       "    </tr>\n",
       "    <tr>\n",
       "      <th>1</th>\n",
       "      <td>39</td>\n",
       "      <td>1</td>\n",
       "    </tr>\n",
       "    <tr>\n",
       "      <th>2</th>\n",
       "      <td>40</td>\n",
       "      <td>9</td>\n",
       "    </tr>\n",
       "    <tr>\n",
       "      <th>3</th>\n",
       "      <td>41</td>\n",
       "      <td>2</td>\n",
       "    </tr>\n",
       "    <tr>\n",
       "      <th>4</th>\n",
       "      <td>43</td>\n",
       "      <td>1</td>\n",
       "    </tr>\n",
       "    <tr>\n",
       "      <th>...</th>\n",
       "      <td>...</td>\n",
       "      <td>...</td>\n",
       "    </tr>\n",
       "    <tr>\n",
       "      <th>231632</th>\n",
       "      <td>537459</td>\n",
       "      <td>1</td>\n",
       "    </tr>\n",
       "    <tr>\n",
       "      <th>231633</th>\n",
       "      <td>537485</td>\n",
       "      <td>1</td>\n",
       "    </tr>\n",
       "    <tr>\n",
       "      <th>231634</th>\n",
       "      <td>537543</td>\n",
       "      <td>1</td>\n",
       "    </tr>\n",
       "    <tr>\n",
       "      <th>231635</th>\n",
       "      <td>537671</td>\n",
       "      <td>1</td>\n",
       "    </tr>\n",
       "    <tr>\n",
       "      <th>231636</th>\n",
       "      <td>537716</td>\n",
       "      <td>1</td>\n",
       "    </tr>\n",
       "  </tbody>\n",
       "</table>\n",
       "<p>231637 rows × 2 columns</p>\n",
       "</div>"
      ],
      "text/plain": [
       "        recipe_id  counts\n",
       "0              38       4\n",
       "1              39       1\n",
       "2              40       9\n",
       "3              41       2\n",
       "4              43       1\n",
       "...           ...     ...\n",
       "231632     537459       1\n",
       "231633     537485       1\n",
       "231634     537543       1\n",
       "231635     537671       1\n",
       "231636     537716       1\n",
       "\n",
       "[231637 rows x 2 columns]"
      ]
     },
     "execution_count": 183,
     "metadata": {},
     "output_type": "execute_result"
    }
   ],
   "source": [
    "recipe_rating_df.columns = [\"recipe_id\",\"counts\"]\n",
    "recipe_rating_df"
   ]
  },
  {
   "cell_type": "code",
   "execution_count": 184,
   "id": "statewide-tucson",
   "metadata": {
    "ExecuteTime": {
     "end_time": "2021-03-10T05:04:54.889939Z",
     "start_time": "2021-03-10T05:04:54.376641Z"
    }
   },
   "outputs": [],
   "source": [
    "joined_recipe_df = recipe_rating_df.join(raw_recipes_df.set_index(\"id\"), how=\"inner\")"
   ]
  },
  {
   "cell_type": "code",
   "execution_count": 185,
   "id": "unlikely-proxy",
   "metadata": {
    "ExecuteTime": {
     "end_time": "2021-03-10T05:04:54.947781Z",
     "start_time": "2021-03-10T05:04:54.892927Z"
    }
   },
   "outputs": [
    {
     "data": {
      "text/html": [
       "<div>\n",
       "<style scoped>\n",
       "    .dataframe tbody tr th:only-of-type {\n",
       "        vertical-align: middle;\n",
       "    }\n",
       "\n",
       "    .dataframe tbody tr th {\n",
       "        vertical-align: top;\n",
       "    }\n",
       "\n",
       "    .dataframe thead th {\n",
       "        text-align: right;\n",
       "    }\n",
       "</style>\n",
       "<table border=\"1\" class=\"dataframe\">\n",
       "  <thead>\n",
       "    <tr style=\"text-align: right;\">\n",
       "      <th></th>\n",
       "      <th>recipe_id</th>\n",
       "      <th>counts</th>\n",
       "      <th>name</th>\n",
       "      <th>minutes</th>\n",
       "      <th>contributor_id</th>\n",
       "      <th>submitted</th>\n",
       "      <th>tags</th>\n",
       "      <th>nutrition</th>\n",
       "      <th>n_steps</th>\n",
       "      <th>steps</th>\n",
       "      <th>description</th>\n",
       "      <th>ingredients</th>\n",
       "      <th>n_ingredients</th>\n",
       "      <th>processed_ingrs</th>\n",
       "    </tr>\n",
       "  </thead>\n",
       "  <tbody>\n",
       "    <tr>\n",
       "      <th>38</th>\n",
       "      <td>120</td>\n",
       "      <td>5</td>\n",
       "      <td>low fat berry blue frozen dessert</td>\n",
       "      <td>1485</td>\n",
       "      <td>1533</td>\n",
       "      <td>1999-08-09</td>\n",
       "      <td>['weeknight', 'time-to-make', 'course', 'prepa...</td>\n",
       "      <td>[170.9, 3.0, 120.0, 1.0, 6.0, 6.0, 12.0]</td>\n",
       "      <td>13</td>\n",
       "      <td>['toss 2 cups berries with sugar', 'let stand ...</td>\n",
       "      <td>this is yummy and low-fat, it always turns out...</td>\n",
       "      <td>['blueberries', 'granulated sugar', 'vanilla y...</td>\n",
       "      <td>4</td>\n",
       "      <td>blueberries granulated_sugar vanilla_yogurt le...</td>\n",
       "    </tr>\n",
       "    <tr>\n",
       "      <th>39</th>\n",
       "      <td>122</td>\n",
       "      <td>2</td>\n",
       "      <td>biryani</td>\n",
       "      <td>265</td>\n",
       "      <td>1567</td>\n",
       "      <td>1999-08-29</td>\n",
       "      <td>['weeknight', 'time-to-make', 'course', 'main-...</td>\n",
       "      <td>[1110.7, 90.0, 81.0, 15.0, 126.0, 82.0, 28.0]</td>\n",
       "      <td>17</td>\n",
       "      <td>['soak saffron in warm milk for 5 minutes and ...</td>\n",
       "      <td>delhi, india</td>\n",
       "      <td>['saffron', 'milk', 'hot green chili peppers',...</td>\n",
       "      <td>26</td>\n",
       "      <td>saffron milk hot_green_chili_peppers onions ga...</td>\n",
       "    </tr>\n",
       "    <tr>\n",
       "      <th>40</th>\n",
       "      <td>123</td>\n",
       "      <td>2</td>\n",
       "      <td>best lemonade</td>\n",
       "      <td>35</td>\n",
       "      <td>1566</td>\n",
       "      <td>1999-09-05</td>\n",
       "      <td>['60-minutes-or-less', 'time-to-make', 'course...</td>\n",
       "      <td>[311.1, 0.0, 308.0, 0.0, 0.0, 0.0, 27.0]</td>\n",
       "      <td>8</td>\n",
       "      <td>['into a 1 quart jar with tight fitting lid , ...</td>\n",
       "      <td>this is from one of my  first good house keepi...</td>\n",
       "      <td>['sugar', 'lemons, rind of', 'fresh water', 'f...</td>\n",
       "      <td>6</td>\n",
       "      <td>sugar lemons rind_of fresh_water fresh_lemon_j...</td>\n",
       "    </tr>\n",
       "    <tr>\n",
       "      <th>41</th>\n",
       "      <td>124</td>\n",
       "      <td>1</td>\n",
       "      <td>carina s tofu vegetable kebabs</td>\n",
       "      <td>1460</td>\n",
       "      <td>1586</td>\n",
       "      <td>1999-09-03</td>\n",
       "      <td>['weeknight', 'time-to-make', 'course', 'main-...</td>\n",
       "      <td>[536.1, 36.0, 128.0, 64.0, 58.0, 19.0, 21.0]</td>\n",
       "      <td>18</td>\n",
       "      <td>['drain the tofu , carefully squeezing out exc...</td>\n",
       "      <td>this dish is best prepared a day in advance to...</td>\n",
       "      <td>['extra firm tofu', 'eggplant', 'zucchini', 'r...</td>\n",
       "      <td>15</td>\n",
       "      <td>extra_firm_tofu eggplant zucchini red_pepper m...</td>\n",
       "    </tr>\n",
       "    <tr>\n",
       "      <th>43</th>\n",
       "      <td>128</td>\n",
       "      <td>2</td>\n",
       "      <td>best blackbottom pie</td>\n",
       "      <td>140</td>\n",
       "      <td>34879</td>\n",
       "      <td>1999-08-21</td>\n",
       "      <td>['weeknight', 'time-to-make', 'course', 'cuisi...</td>\n",
       "      <td>[437.9, 29.0, 170.0, 11.0, 13.0, 54.0, 19.0]</td>\n",
       "      <td>35</td>\n",
       "      <td>['graham cracker crust: in small bowl , combin...</td>\n",
       "      <td>sweet, chocolatey,  yummy</td>\n",
       "      <td>['graham cracker crumbs', 'sugar', 'butter', '...</td>\n",
       "      <td>15</td>\n",
       "      <td>graham_cracker_crumbs sugar butter cornstarch ...</td>\n",
       "    </tr>\n",
       "    <tr>\n",
       "      <th>...</th>\n",
       "      <td>...</td>\n",
       "      <td>...</td>\n",
       "      <td>...</td>\n",
       "      <td>...</td>\n",
       "      <td>...</td>\n",
       "      <td>...</td>\n",
       "      <td>...</td>\n",
       "      <td>...</td>\n",
       "      <td>...</td>\n",
       "      <td>...</td>\n",
       "      <td>...</td>\n",
       "      <td>...</td>\n",
       "      <td>...</td>\n",
       "      <td>...</td>\n",
       "    </tr>\n",
       "    <tr>\n",
       "      <th>231627</th>\n",
       "      <td>537323</td>\n",
       "      <td>1</td>\n",
       "      <td>zucchini and carrot casserole</td>\n",
       "      <td>50</td>\n",
       "      <td>62562</td>\n",
       "      <td>2007-06-01</td>\n",
       "      <td>['60-minutes-or-less', 'time-to-make', 'course...</td>\n",
       "      <td>[538.2, 68.0, 24.0, 43.0, 32.0, 130.0, 7.0]</td>\n",
       "      <td>11</td>\n",
       "      <td>['preheat oven to 350 degrees', 'saute onion ,...</td>\n",
       "      <td>this is one of my all-time favorite casseroles...</td>\n",
       "      <td>['zucchini', 'carrots', 'butter', 'onion', 'mu...</td>\n",
       "      <td>10</td>\n",
       "      <td>zucchini carrots butter onion mushrooms cream_...</td>\n",
       "    </tr>\n",
       "    <tr>\n",
       "      <th>231629</th>\n",
       "      <td>537351</td>\n",
       "      <td>1</td>\n",
       "      <td>curried sweet potatoes cauliflower and green b...</td>\n",
       "      <td>44</td>\n",
       "      <td>283251</td>\n",
       "      <td>2007-06-01</td>\n",
       "      <td>['60-minutes-or-less', 'time-to-make', 'course...</td>\n",
       "      <td>[96.3, 2.0, 17.0, 9.0, 5.0, 1.0, 6.0]</td>\n",
       "      <td>8</td>\n",
       "      <td>['in a large nonstick skillet , heat oil over ...</td>\n",
       "      <td>this is from 365 meatless main dishes. i would...</td>\n",
       "      <td>['vegetable oil', 'onion', 'red bell pepper', ...</td>\n",
       "      <td>11</td>\n",
       "      <td>vegetable_oil onion red_bell_pepper flour curr...</td>\n",
       "    </tr>\n",
       "    <tr>\n",
       "      <th>231631</th>\n",
       "      <td>537458</td>\n",
       "      <td>1</td>\n",
       "      <td>yeah  man   a jamaican drink</td>\n",
       "      <td>10</td>\n",
       "      <td>68960</td>\n",
       "      <td>2007-06-01</td>\n",
       "      <td>['15-minutes-or-less', 'time-to-make', 'course...</td>\n",
       "      <td>[260.3, 0.0, 0.0, 1.0, 0.0, 0.0, 0.0]</td>\n",
       "      <td>4</td>\n",
       "      <td>['combine all the ingredients , except for the...</td>\n",
       "      <td>this is a dorinda recipe.  one cup equals 240 ...</td>\n",
       "      <td>['rum', 'coconut liqueur', 'angostura bitters'...</td>\n",
       "      <td>6</td>\n",
       "      <td>rum coconut_liqueur angostura_bitters club_sod...</td>\n",
       "    </tr>\n",
       "    <tr>\n",
       "      <th>231632</th>\n",
       "      <td>537459</td>\n",
       "      <td>1</td>\n",
       "      <td>mexican layered beef and bean casserole</td>\n",
       "      <td>65</td>\n",
       "      <td>89831</td>\n",
       "      <td>2007-06-01</td>\n",
       "      <td>['time-to-make', 'course', 'main-ingredient', ...</td>\n",
       "      <td>[932.4, 83.0, 50.0, 74.0, 90.0, 136.0, 23.0]</td>\n",
       "      <td>14</td>\n",
       "      <td>['grease a 13 x 9-inch baking dish', 'in a ski...</td>\n",
       "      <td>this is delicious creamy ground beef, bean and...</td>\n",
       "      <td>['ground beef', 'fresh garlic', 'onion', 'gree...</td>\n",
       "      <td>15</td>\n",
       "      <td>ground_beef fresh_garlic onion green_bell_pepp...</td>\n",
       "    </tr>\n",
       "    <tr>\n",
       "      <th>231636</th>\n",
       "      <td>537716</td>\n",
       "      <td>1</td>\n",
       "      <td>cajun fried cucumbers</td>\n",
       "      <td>15</td>\n",
       "      <td>47510</td>\n",
       "      <td>2007-06-01</td>\n",
       "      <td>['15-minutes-or-less', 'time-to-make', 'course...</td>\n",
       "      <td>[202.8, 17.0, 18.0, 7.0, 11.0, 20.0, 6.0]</td>\n",
       "      <td>5</td>\n",
       "      <td>['season cucumbers with salt , pepper and caju...</td>\n",
       "      <td>from alabama living comes this recipe for deli...</td>\n",
       "      <td>['cucumbers', 'salt and pepper', 'cajun season...</td>\n",
       "      <td>6</td>\n",
       "      <td>cucumbers salt_and_pepper cajun_seasoning eggs...</td>\n",
       "    </tr>\n",
       "  </tbody>\n",
       "</table>\n",
       "<p>128101 rows × 14 columns</p>\n",
       "</div>"
      ],
      "text/plain": [
       "        recipe_id  counts                                               name  \\\n",
       "38            120       5                  low fat berry blue frozen dessert   \n",
       "39            122       2                                            biryani   \n",
       "40            123       2                                      best lemonade   \n",
       "41            124       1                     carina s tofu vegetable kebabs   \n",
       "43            128       2                               best blackbottom pie   \n",
       "...           ...     ...                                                ...   \n",
       "231627     537323       1                      zucchini and carrot casserole   \n",
       "231629     537351       1  curried sweet potatoes cauliflower and green b...   \n",
       "231631     537458       1                       yeah  man   a jamaican drink   \n",
       "231632     537459       1            mexican layered beef and bean casserole   \n",
       "231636     537716       1                              cajun fried cucumbers   \n",
       "\n",
       "        minutes  contributor_id   submitted  \\\n",
       "38         1485            1533  1999-08-09   \n",
       "39          265            1567  1999-08-29   \n",
       "40           35            1566  1999-09-05   \n",
       "41         1460            1586  1999-09-03   \n",
       "43          140           34879  1999-08-21   \n",
       "...         ...             ...         ...   \n",
       "231627       50           62562  2007-06-01   \n",
       "231629       44          283251  2007-06-01   \n",
       "231631       10           68960  2007-06-01   \n",
       "231632       65           89831  2007-06-01   \n",
       "231636       15           47510  2007-06-01   \n",
       "\n",
       "                                                     tags  \\\n",
       "38      ['weeknight', 'time-to-make', 'course', 'prepa...   \n",
       "39      ['weeknight', 'time-to-make', 'course', 'main-...   \n",
       "40      ['60-minutes-or-less', 'time-to-make', 'course...   \n",
       "41      ['weeknight', 'time-to-make', 'course', 'main-...   \n",
       "43      ['weeknight', 'time-to-make', 'course', 'cuisi...   \n",
       "...                                                   ...   \n",
       "231627  ['60-minutes-or-less', 'time-to-make', 'course...   \n",
       "231629  ['60-minutes-or-less', 'time-to-make', 'course...   \n",
       "231631  ['15-minutes-or-less', 'time-to-make', 'course...   \n",
       "231632  ['time-to-make', 'course', 'main-ingredient', ...   \n",
       "231636  ['15-minutes-or-less', 'time-to-make', 'course...   \n",
       "\n",
       "                                            nutrition  n_steps  \\\n",
       "38           [170.9, 3.0, 120.0, 1.0, 6.0, 6.0, 12.0]       13   \n",
       "39      [1110.7, 90.0, 81.0, 15.0, 126.0, 82.0, 28.0]       17   \n",
       "40           [311.1, 0.0, 308.0, 0.0, 0.0, 0.0, 27.0]        8   \n",
       "41       [536.1, 36.0, 128.0, 64.0, 58.0, 19.0, 21.0]       18   \n",
       "43       [437.9, 29.0, 170.0, 11.0, 13.0, 54.0, 19.0]       35   \n",
       "...                                               ...      ...   \n",
       "231627    [538.2, 68.0, 24.0, 43.0, 32.0, 130.0, 7.0]       11   \n",
       "231629          [96.3, 2.0, 17.0, 9.0, 5.0, 1.0, 6.0]        8   \n",
       "231631          [260.3, 0.0, 0.0, 1.0, 0.0, 0.0, 0.0]        4   \n",
       "231632   [932.4, 83.0, 50.0, 74.0, 90.0, 136.0, 23.0]       14   \n",
       "231636      [202.8, 17.0, 18.0, 7.0, 11.0, 20.0, 6.0]        5   \n",
       "\n",
       "                                                    steps  \\\n",
       "38      ['toss 2 cups berries with sugar', 'let stand ...   \n",
       "39      ['soak saffron in warm milk for 5 minutes and ...   \n",
       "40      ['into a 1 quart jar with tight fitting lid , ...   \n",
       "41      ['drain the tofu , carefully squeezing out exc...   \n",
       "43      ['graham cracker crust: in small bowl , combin...   \n",
       "...                                                   ...   \n",
       "231627  ['preheat oven to 350 degrees', 'saute onion ,...   \n",
       "231629  ['in a large nonstick skillet , heat oil over ...   \n",
       "231631  ['combine all the ingredients , except for the...   \n",
       "231632  ['grease a 13 x 9-inch baking dish', 'in a ski...   \n",
       "231636  ['season cucumbers with salt , pepper and caju...   \n",
       "\n",
       "                                              description  \\\n",
       "38      this is yummy and low-fat, it always turns out...   \n",
       "39                                           delhi, india   \n",
       "40      this is from one of my  first good house keepi...   \n",
       "41      this dish is best prepared a day in advance to...   \n",
       "43                              sweet, chocolatey,  yummy   \n",
       "...                                                   ...   \n",
       "231627  this is one of my all-time favorite casseroles...   \n",
       "231629  this is from 365 meatless main dishes. i would...   \n",
       "231631  this is a dorinda recipe.  one cup equals 240 ...   \n",
       "231632  this is delicious creamy ground beef, bean and...   \n",
       "231636  from alabama living comes this recipe for deli...   \n",
       "\n",
       "                                              ingredients  n_ingredients  \\\n",
       "38      ['blueberries', 'granulated sugar', 'vanilla y...              4   \n",
       "39      ['saffron', 'milk', 'hot green chili peppers',...             26   \n",
       "40      ['sugar', 'lemons, rind of', 'fresh water', 'f...              6   \n",
       "41      ['extra firm tofu', 'eggplant', 'zucchini', 'r...             15   \n",
       "43      ['graham cracker crumbs', 'sugar', 'butter', '...             15   \n",
       "...                                                   ...            ...   \n",
       "231627  ['zucchini', 'carrots', 'butter', 'onion', 'mu...             10   \n",
       "231629  ['vegetable oil', 'onion', 'red bell pepper', ...             11   \n",
       "231631  ['rum', 'coconut liqueur', 'angostura bitters'...              6   \n",
       "231632  ['ground beef', 'fresh garlic', 'onion', 'gree...             15   \n",
       "231636  ['cucumbers', 'salt and pepper', 'cajun season...              6   \n",
       "\n",
       "                                          processed_ingrs  \n",
       "38      blueberries granulated_sugar vanilla_yogurt le...  \n",
       "39      saffron milk hot_green_chili_peppers onions ga...  \n",
       "40      sugar lemons rind_of fresh_water fresh_lemon_j...  \n",
       "41      extra_firm_tofu eggplant zucchini red_pepper m...  \n",
       "43      graham_cracker_crumbs sugar butter cornstarch ...  \n",
       "...                                                   ...  \n",
       "231627  zucchini carrots butter onion mushrooms cream_...  \n",
       "231629  vegetable_oil onion red_bell_pepper flour curr...  \n",
       "231631  rum coconut_liqueur angostura_bitters club_sod...  \n",
       "231632  ground_beef fresh_garlic onion green_bell_pepp...  \n",
       "231636  cucumbers salt_and_pepper cajun_seasoning eggs...  \n",
       "\n",
       "[128101 rows x 14 columns]"
      ]
     },
     "execution_count": 185,
     "metadata": {},
     "output_type": "execute_result"
    }
   ],
   "source": [
    "joined_recipe_df"
   ]
  },
  {
   "cell_type": "code",
   "execution_count": 191,
   "id": "simple-married",
   "metadata": {
    "ExecuteTime": {
     "end_time": "2021-03-10T05:07:37.990926Z",
     "start_time": "2021-03-10T05:07:36.588651Z"
    }
   },
   "outputs": [
    {
     "data": {
      "image/png": "[encoded data removed]",
      "text/plain": [
       "<Figure size 432x288 with 1 Axes>"
      ]
     },
     "metadata": {
      "needs_background": "light"
     },
     "output_type": "display_data"
    }
   ],
   "source": [
    "sns.barplot(data = joined_recipe_df.sort_values(\"counts\", ascending = False).iloc[:20,:], x = \"counts\", y = \"name\");\n",
    "plt.title(\"most popular recipes by number of ratings\".title(), fontsize = 14);"
   ]
  },
  {
   "cell_type": "code",
   "execution_count": 192,
   "id": "distinct-institute",
   "metadata": {
    "ExecuteTime": {
     "end_time": "2021-03-10T05:07:38.431436Z",
     "start_time": "2021-03-10T05:07:37.992859Z"
    }
   },
   "outputs": [
    {
     "data": {
      "image/png": "[encoded data removed]",
      "text/plain": [
       "<Figure size 432x288 with 1 Axes>"
      ]
     },
     "metadata": {
      "needs_background": "light"
     },
     "output_type": "display_data"
    }
   ],
   "source": [
    "sns.barplot(data = joined_recipe_df.sort_values(\"counts\").iloc[:20,:], x = \"counts\", y = \"name\");\n",
    "plt.title(\"least popular recipes by number of ratings\".title(), fontsize = 14);"
   ]
  },
  {
   "cell_type": "code",
   "execution_count": null,
   "id": "three-maria",
   "metadata": {},
   "outputs": [],
   "source": []
  }
 ],
 "metadata": {
  "kernelspec": {
   "display_name": "Python 3",
   "language": "python",
   "name": "python3"
  },
  "language_info": {
   "codemirror_mode": {
    "name": "ipython",
    "version": 3
   },
   "file_extension": ".py",
   "mimetype": "text/x-python",
   "name": "python",
   "nbconvert_exporter": "python",
   "pygments_lexer": "ipython3",
   "version": "3.7.9"
  }
 },
 "nbformat": 4,
 "nbformat_minor": 5
}
