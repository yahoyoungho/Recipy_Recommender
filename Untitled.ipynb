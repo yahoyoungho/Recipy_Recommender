{
 "cells": [
  {
   "cell_type": "code",
   "execution_count": 2,
   "id": "electric-liability",
   "metadata": {
    "ExecuteTime": {
     "end_time": "2021-03-15T12:05:29.056125Z",
     "start_time": "2021-03-15T12:05:29.040122Z"
    }
   },
   "outputs": [],
   "source": [
    "import pandas as pd\n",
    "import numpy as np\n",
    "from collections import Counter\n",
    "import random\n",
    "import seaborn as sns\n",
    "import matplotlib.pyplot as plt\n",
    "from scipy.sparse import coo_matrix\n",
    "import pickle\n",
    "from surprise import NormalPredictor\n",
    "from surprise import Dataset\n",
    "from surprise import Reader\n",
    "from surprise.model_selection import cross_validate,train_test_split,KFold\n",
    "from surprise import SVD,SVDpp, NMF,SlopeOne,CoClustering\n",
    "from surprise import accuracy\n",
    "from collections import defaultdict\n",
    "\n",
    "my_seed = 789\n",
    "random.seed(my_seed)"
   ]
  },
  {
   "cell_type": "code",
   "execution_count": 7,
   "id": "conservative-acrylic",
   "metadata": {
    "ExecuteTime": {
     "end_time": "2021-03-15T12:08:45.499301Z",
     "start_time": "2021-03-15T12:08:39.405470Z"
    }
   },
   "outputs": [],
   "source": [
    "interaction = pd.read_csv(\"src/data/kaggle_food_data/RAW_interactions.csv\")\n",
    "recipes = pd.read_pickle(\"src/data/kaggle_food_data/raw_recipes.pkl\")"
   ]
  },
  {
   "cell_type": "code",
   "execution_count": 9,
   "id": "behavioral-albany",
   "metadata": {
    "ExecuteTime": {
     "end_time": "2021-03-15T12:09:01.232761Z",
     "start_time": "2021-03-15T12:09:01.127863Z"
    }
   },
   "outputs": [
    {
     "name": "stdout",
     "output_type": "stream",
     "text": [
      "<class 'pandas.core.frame.DataFrame'>\n",
      "RangeIndex: 231637 entries, 0 to 231636\n",
      "Data columns (total 12 columns):\n",
      " #   Column          Non-Null Count   Dtype \n",
      "---  ------          --------------   ----- \n",
      " 0   name            231636 non-null  object\n",
      " 1   id              231637 non-null  int64 \n",
      " 2   minutes         231637 non-null  int64 \n",
      " 3   contributor_id  231637 non-null  int64 \n",
      " 4   submitted       231637 non-null  object\n",
      " 5   tags            231637 non-null  object\n",
      " 6   nutrition       231637 non-null  object\n",
      " 7   n_steps         231637 non-null  int64 \n",
      " 8   steps           231637 non-null  object\n",
      " 9   description     226658 non-null  object\n",
      " 10  ingredients     231637 non-null  object\n",
      " 11  n_ingredients   231637 non-null  int64 \n",
      "dtypes: int64(5), object(7)\n",
      "memory usage: 21.2+ MB\n"
     ]
    }
   ],
   "source": [
    "recipes.info()"
   ]
  },
  {
   "cell_type": "code",
   "execution_count": 6,
   "id": "anticipated-garbage",
   "metadata": {
    "ExecuteTime": {
     "end_time": "2021-03-15T12:08:20.671078Z",
     "start_time": "2021-03-15T12:08:20.650116Z"
    }
   },
   "outputs": [
    {
     "data": {
      "text/html": [
       "<div>\n",
       "<style scoped>\n",
       "    .dataframe tbody tr th:only-of-type {\n",
       "        vertical-align: middle;\n",
       "    }\n",
       "\n",
       "    .dataframe tbody tr th {\n",
       "        vertical-align: top;\n",
       "    }\n",
       "\n",
       "    .dataframe thead th {\n",
       "        text-align: right;\n",
       "    }\n",
       "</style>\n",
       "<table border=\"1\" class=\"dataframe\">\n",
       "  <thead>\n",
       "    <tr style=\"text-align: right;\">\n",
       "      <th></th>\n",
       "      <th>user_id</th>\n",
       "      <th>recipe_id</th>\n",
       "      <th>date</th>\n",
       "      <th>rating</th>\n",
       "      <th>review</th>\n",
       "    </tr>\n",
       "  </thead>\n",
       "  <tbody>\n",
       "    <tr>\n",
       "      <th>0</th>\n",
       "      <td>38094</td>\n",
       "      <td>40893</td>\n",
       "      <td>2003-02-17</td>\n",
       "      <td>4</td>\n",
       "      <td>Great with a salad. Cooked on top of stove for...</td>\n",
       "    </tr>\n",
       "    <tr>\n",
       "      <th>1</th>\n",
       "      <td>1293707</td>\n",
       "      <td>40893</td>\n",
       "      <td>2011-12-21</td>\n",
       "      <td>5</td>\n",
       "      <td>So simple, so delicious! Great for chilly fall...</td>\n",
       "    </tr>\n",
       "    <tr>\n",
       "      <th>2</th>\n",
       "      <td>8937</td>\n",
       "      <td>44394</td>\n",
       "      <td>2002-12-01</td>\n",
       "      <td>4</td>\n",
       "      <td>This worked very well and is EASY.  I used not...</td>\n",
       "    </tr>\n",
       "    <tr>\n",
       "      <th>3</th>\n",
       "      <td>126440</td>\n",
       "      <td>85009</td>\n",
       "      <td>2010-02-27</td>\n",
       "      <td>5</td>\n",
       "      <td>I made the Mexican topping and took it to bunk...</td>\n",
       "    </tr>\n",
       "    <tr>\n",
       "      <th>4</th>\n",
       "      <td>57222</td>\n",
       "      <td>85009</td>\n",
       "      <td>2011-10-01</td>\n",
       "      <td>5</td>\n",
       "      <td>Made the cheddar bacon topping, adding a sprin...</td>\n",
       "    </tr>\n",
       "  </tbody>\n",
       "</table>\n",
       "</div>"
      ],
      "text/plain": [
       "   user_id  recipe_id        date  rating  \\\n",
       "0    38094      40893  2003-02-17       4   \n",
       "1  1293707      40893  2011-12-21       5   \n",
       "2     8937      44394  2002-12-01       4   \n",
       "3   126440      85009  2010-02-27       5   \n",
       "4    57222      85009  2011-10-01       5   \n",
       "\n",
       "                                              review  \n",
       "0  Great with a salad. Cooked on top of stove for...  \n",
       "1  So simple, so delicious! Great for chilly fall...  \n",
       "2  This worked very well and is EASY.  I used not...  \n",
       "3  I made the Mexican topping and took it to bunk...  \n",
       "4  Made the cheddar bacon topping, adding a sprin...  "
      ]
     },
     "execution_count": 6,
     "metadata": {},
     "output_type": "execute_result"
    }
   ],
   "source": [
    "interaction.head()"
   ]
  },
  {
   "cell_type": "code",
   "execution_count": 10,
   "id": "changing-costa",
   "metadata": {
    "ExecuteTime": {
     "end_time": "2021-03-15T12:09:21.843559Z",
     "start_time": "2021-03-15T12:09:21.812880Z"
    }
   },
   "outputs": [
    {
     "data": {
      "text/html": [
       "<div>\n",
       "<style scoped>\n",
       "    .dataframe tbody tr th:only-of-type {\n",
       "        vertical-align: middle;\n",
       "    }\n",
       "\n",
       "    .dataframe tbody tr th {\n",
       "        vertical-align: top;\n",
       "    }\n",
       "\n",
       "    .dataframe thead th {\n",
       "        text-align: right;\n",
       "    }\n",
       "</style>\n",
       "<table border=\"1\" class=\"dataframe\">\n",
       "  <thead>\n",
       "    <tr style=\"text-align: right;\">\n",
       "      <th></th>\n",
       "      <th>name</th>\n",
       "      <th>id</th>\n",
       "      <th>minutes</th>\n",
       "      <th>contributor_id</th>\n",
       "      <th>submitted</th>\n",
       "      <th>tags</th>\n",
       "      <th>nutrition</th>\n",
       "      <th>n_steps</th>\n",
       "      <th>steps</th>\n",
       "      <th>description</th>\n",
       "      <th>ingredients</th>\n",
       "      <th>n_ingredients</th>\n",
       "    </tr>\n",
       "  </thead>\n",
       "  <tbody>\n",
       "    <tr>\n",
       "      <th>0</th>\n",
       "      <td>arriba   baked winter squash mexican style</td>\n",
       "      <td>137739</td>\n",
       "      <td>55</td>\n",
       "      <td>47892</td>\n",
       "      <td>2005-09-16</td>\n",
       "      <td>[60-minutes-or-less, time-to-make, course, mai...</td>\n",
       "      <td>[51.5, 0.0, 13.0, 0.0, 2.0, 0.0, 4.0]</td>\n",
       "      <td>11</td>\n",
       "      <td>[make a choice and proceed with recipe, depend...</td>\n",
       "      <td>autumn is my favorite time of year to cook! th...</td>\n",
       "      <td>[winter squash, mexican seasoning, mixed spice...</td>\n",
       "      <td>7</td>\n",
       "    </tr>\n",
       "    <tr>\n",
       "      <th>1</th>\n",
       "      <td>a bit different  breakfast pizza</td>\n",
       "      <td>31490</td>\n",
       "      <td>30</td>\n",
       "      <td>26278</td>\n",
       "      <td>2002-06-17</td>\n",
       "      <td>[30-minutes-or-less, time-to-make, course, mai...</td>\n",
       "      <td>[173.4, 18.0, 0.0, 17.0, 22.0, 35.0, 1.0]</td>\n",
       "      <td>9</td>\n",
       "      <td>[preheat oven to 425 degrees f, press dough in...</td>\n",
       "      <td>this recipe calls for the crust to be prebaked...</td>\n",
       "      <td>[prepared pizza crust, sausage patty, eggs, mi...</td>\n",
       "      <td>6</td>\n",
       "    </tr>\n",
       "    <tr>\n",
       "      <th>2</th>\n",
       "      <td>all in the kitchen  chili</td>\n",
       "      <td>112140</td>\n",
       "      <td>130</td>\n",
       "      <td>196586</td>\n",
       "      <td>2005-02-25</td>\n",
       "      <td>[time-to-make, course, preparation, main-dish,...</td>\n",
       "      <td>[269.8, 22.0, 32.0, 48.0, 39.0, 27.0, 5.0]</td>\n",
       "      <td>6</td>\n",
       "      <td>[brown ground beef in large pot, add chopped o...</td>\n",
       "      <td>this modified version of 'mom's' chili was a h...</td>\n",
       "      <td>[ground beef, yellow onions, diced tomatoes, t...</td>\n",
       "      <td>13</td>\n",
       "    </tr>\n",
       "    <tr>\n",
       "      <th>3</th>\n",
       "      <td>alouette  potatoes</td>\n",
       "      <td>59389</td>\n",
       "      <td>45</td>\n",
       "      <td>68585</td>\n",
       "      <td>2003-04-14</td>\n",
       "      <td>[60-minutes-or-less, time-to-make, course, mai...</td>\n",
       "      <td>[368.1, 17.0, 10.0, 2.0, 14.0, 8.0, 20.0]</td>\n",
       "      <td>11</td>\n",
       "      <td>[place potatoes in a large pot of lightly salt...</td>\n",
       "      <td>this is a super easy, great tasting, make ahea...</td>\n",
       "      <td>[spreadable cheese with garlic and herbs, new ...</td>\n",
       "      <td>11</td>\n",
       "    </tr>\n",
       "    <tr>\n",
       "      <th>4</th>\n",
       "      <td>amish  tomato ketchup  for canning</td>\n",
       "      <td>44061</td>\n",
       "      <td>190</td>\n",
       "      <td>41706</td>\n",
       "      <td>2002-10-25</td>\n",
       "      <td>[weeknight, time-to-make, course, main-ingredi...</td>\n",
       "      <td>[352.9, 1.0, 337.0, 23.0, 3.0, 0.0, 28.0]</td>\n",
       "      <td>5</td>\n",
       "      <td>[mix all ingredients&amp; boil for 2 1 / 2 hours ,...</td>\n",
       "      <td>my dh's amish mother raised him on this recipe...</td>\n",
       "      <td>[tomato juice, apple cider vinegar, sugar, sal...</td>\n",
       "      <td>8</td>\n",
       "    </tr>\n",
       "  </tbody>\n",
       "</table>\n",
       "</div>"
      ],
      "text/plain": [
       "                                         name      id  minutes  \\\n",
       "0  arriba   baked winter squash mexican style  137739       55   \n",
       "1            a bit different  breakfast pizza   31490       30   \n",
       "2                   all in the kitchen  chili  112140      130   \n",
       "3                          alouette  potatoes   59389       45   \n",
       "4          amish  tomato ketchup  for canning   44061      190   \n",
       "\n",
       "   contributor_id   submitted  \\\n",
       "0           47892  2005-09-16   \n",
       "1           26278  2002-06-17   \n",
       "2          196586  2005-02-25   \n",
       "3           68585  2003-04-14   \n",
       "4           41706  2002-10-25   \n",
       "\n",
       "                                                tags  \\\n",
       "0  [60-minutes-or-less, time-to-make, course, mai...   \n",
       "1  [30-minutes-or-less, time-to-make, course, mai...   \n",
       "2  [time-to-make, course, preparation, main-dish,...   \n",
       "3  [60-minutes-or-less, time-to-make, course, mai...   \n",
       "4  [weeknight, time-to-make, course, main-ingredi...   \n",
       "\n",
       "                                    nutrition  n_steps  \\\n",
       "0       [51.5, 0.0, 13.0, 0.0, 2.0, 0.0, 4.0]       11   \n",
       "1   [173.4, 18.0, 0.0, 17.0, 22.0, 35.0, 1.0]        9   \n",
       "2  [269.8, 22.0, 32.0, 48.0, 39.0, 27.0, 5.0]        6   \n",
       "3   [368.1, 17.0, 10.0, 2.0, 14.0, 8.0, 20.0]       11   \n",
       "4   [352.9, 1.0, 337.0, 23.0, 3.0, 0.0, 28.0]        5   \n",
       "\n",
       "                                               steps  \\\n",
       "0  [make a choice and proceed with recipe, depend...   \n",
       "1  [preheat oven to 425 degrees f, press dough in...   \n",
       "2  [brown ground beef in large pot, add chopped o...   \n",
       "3  [place potatoes in a large pot of lightly salt...   \n",
       "4  [mix all ingredients& boil for 2 1 / 2 hours ,...   \n",
       "\n",
       "                                         description  \\\n",
       "0  autumn is my favorite time of year to cook! th...   \n",
       "1  this recipe calls for the crust to be prebaked...   \n",
       "2  this modified version of 'mom's' chili was a h...   \n",
       "3  this is a super easy, great tasting, make ahea...   \n",
       "4  my dh's amish mother raised him on this recipe...   \n",
       "\n",
       "                                         ingredients  n_ingredients  \n",
       "0  [winter squash, mexican seasoning, mixed spice...              7  \n",
       "1  [prepared pizza crust, sausage patty, eggs, mi...              6  \n",
       "2  [ground beef, yellow onions, diced tomatoes, t...             13  \n",
       "3  [spreadable cheese with garlic and herbs, new ...             11  \n",
       "4  [tomato juice, apple cider vinegar, sugar, sal...              8  "
      ]
     },
     "execution_count": 10,
     "metadata": {},
     "output_type": "execute_result"
    }
   ],
   "source": [
    "recipes.head()"
   ]
  },
  {
   "cell_type": "code",
   "execution_count": 12,
   "id": "foreign-tunisia",
   "metadata": {
    "ExecuteTime": {
     "end_time": "2021-03-15T12:10:40.179022Z",
     "start_time": "2021-03-15T12:10:39.901996Z"
    }
   },
   "outputs": [],
   "source": [
    "def make_df_from_count(serie,name):\n",
    "    counts = dict(Counter(serie))\n",
    "    return pd.DataFrame.from_dict(counts,orient='index').reset_index().rename(columns={'index':name,0:f'{name}_count'})\n",
    "recipe_df = make_df_from_count(interaction.recipe_id,'recipe_id')"
   ]
  },
  {
   "cell_type": "code",
   "execution_count": 14,
   "id": "major-harbor",
   "metadata": {
    "ExecuteTime": {
     "end_time": "2021-03-15T12:11:35.781826Z",
     "start_time": "2021-03-15T12:11:35.750407Z"
    }
   },
   "outputs": [
    {
     "name": "stdout",
     "output_type": "stream",
     "text": [
      "0.39697025950085696\n",
      "0.9189896260096617\n"
     ]
    }
   ],
   "source": [
    "print(len(recipe_df[recipe_df['recipe_id_count'] == 1])/len(recipe_df))\n",
    "print(len(recipe_df[recipe_df['recipe_id_count'] <= 10])/len(recipe_df))"
   ]
  },
  {
   "cell_type": "markdown",
   "id": "clean-symbol",
   "metadata": {},
   "source": [
    "around 40% of recipes have only 1 reviews\n",
    "\n",
    "around 92% of recipes have less than or equal to 10 reviews"
   ]
  },
  {
   "cell_type": "code",
   "execution_count": null,
   "id": "conceptual-causing",
   "metadata": {
    "ExecuteTime": {
     "end_time": "2021-03-15T12:18:07.046269Z",
     "start_time": "2021-03-15T12:18:07.027285Z"
    }
   },
   "outputs": [],
   "source": []
  },
  {
   "cell_type": "code",
   "execution_count": 27,
   "id": "expired-least",
   "metadata": {
    "ExecuteTime": {
     "end_time": "2021-03-15T12:19:19.367633Z",
     "start_time": "2021-03-15T12:19:17.876251Z"
    }
   },
   "outputs": [
    {
     "data": {
      "image/png": "[encoded data removed]",
      "text/plain": [
       "<Figure size 432x288 with 1 Axes>"
      ]
     },
     "metadata": {
      "needs_background": "light"
     },
     "output_type": "display_data"
    }
   ],
   "source": [
    "user_df = make_df_from_count(interaction.user_id,'user_id')\n",
    "user_df['user_id_count'].hist(bins = 1000)\n",
    "plt.title(\"number of reviews made by users\".title(), fontsize = 14)\n",
    "ax = plt.gca()\n",
    "ax.set_xlim((0,50))\n",
    "plt.xlabel(\"Number of reviews made\".title())\n",
    "plt.ylabel(\"Freq\");"
   ]
  },
  {
   "cell_type": "code",
   "execution_count": 30,
   "id": "based-anderson",
   "metadata": {
    "ExecuteTime": {
     "end_time": "2021-03-15T12:20:39.767088Z",
     "start_time": "2021-03-15T12:20:39.753766Z"
    }
   },
   "outputs": [
    {
     "name": "stdout",
     "output_type": "stream",
     "text": [
      "percentage of users with less than or equal to 10 reivews: 0.9494813964779097\n"
     ]
    }
   ],
   "source": [
    "print(f\"percentage of users with less than or equal to 10 reivews: {len(user_df[user_df.user_id_count <=10])/len(user_df)}\")"
   ]
  },
  {
   "cell_type": "code",
   "execution_count": 35,
   "id": "hundred-duration",
   "metadata": {
    "ExecuteTime": {
     "end_time": "2021-03-15T12:44:36.918634Z",
     "start_time": "2021-03-15T12:44:36.591254Z"
    }
   },
   "outputs": [],
   "source": [
    "merged_df = interaction.merge(recipe_df,how=\"left\", left_on=\"recipe_id\",right_on = \"recipe_id\")"
   ]
  },
  {
   "cell_type": "code",
   "execution_count": 36,
   "id": "similar-humor",
   "metadata": {
    "ExecuteTime": {
     "end_time": "2021-03-15T12:44:39.142345Z",
     "start_time": "2021-03-15T12:44:39.126386Z"
    }
   },
   "outputs": [
    {
     "data": {
      "text/html": [
       "<div>\n",
       "<style scoped>\n",
       "    .dataframe tbody tr th:only-of-type {\n",
       "        vertical-align: middle;\n",
       "    }\n",
       "\n",
       "    .dataframe tbody tr th {\n",
       "        vertical-align: top;\n",
       "    }\n",
       "\n",
       "    .dataframe thead th {\n",
       "        text-align: right;\n",
       "    }\n",
       "</style>\n",
       "<table border=\"1\" class=\"dataframe\">\n",
       "  <thead>\n",
       "    <tr style=\"text-align: right;\">\n",
       "      <th></th>\n",
       "      <th>user_id</th>\n",
       "      <th>recipe_id</th>\n",
       "      <th>date</th>\n",
       "      <th>rating</th>\n",
       "      <th>review</th>\n",
       "      <th>recipe_id_count</th>\n",
       "    </tr>\n",
       "  </thead>\n",
       "  <tbody>\n",
       "    <tr>\n",
       "      <th>0</th>\n",
       "      <td>38094</td>\n",
       "      <td>40893</td>\n",
       "      <td>2003-02-17</td>\n",
       "      <td>4</td>\n",
       "      <td>Great with a salad. Cooked on top of stove for...</td>\n",
       "      <td>2</td>\n",
       "    </tr>\n",
       "    <tr>\n",
       "      <th>1</th>\n",
       "      <td>1293707</td>\n",
       "      <td>40893</td>\n",
       "      <td>2011-12-21</td>\n",
       "      <td>5</td>\n",
       "      <td>So simple, so delicious! Great for chilly fall...</td>\n",
       "      <td>2</td>\n",
       "    </tr>\n",
       "    <tr>\n",
       "      <th>2</th>\n",
       "      <td>8937</td>\n",
       "      <td>44394</td>\n",
       "      <td>2002-12-01</td>\n",
       "      <td>4</td>\n",
       "      <td>This worked very well and is EASY.  I used not...</td>\n",
       "      <td>1</td>\n",
       "    </tr>\n",
       "    <tr>\n",
       "      <th>3</th>\n",
       "      <td>126440</td>\n",
       "      <td>85009</td>\n",
       "      <td>2010-02-27</td>\n",
       "      <td>5</td>\n",
       "      <td>I made the Mexican topping and took it to bunk...</td>\n",
       "      <td>2</td>\n",
       "    </tr>\n",
       "    <tr>\n",
       "      <th>4</th>\n",
       "      <td>57222</td>\n",
       "      <td>85009</td>\n",
       "      <td>2011-10-01</td>\n",
       "      <td>5</td>\n",
       "      <td>Made the cheddar bacon topping, adding a sprin...</td>\n",
       "      <td>2</td>\n",
       "    </tr>\n",
       "    <tr>\n",
       "      <th>...</th>\n",
       "      <td>...</td>\n",
       "      <td>...</td>\n",
       "      <td>...</td>\n",
       "      <td>...</td>\n",
       "      <td>...</td>\n",
       "      <td>...</td>\n",
       "    </tr>\n",
       "    <tr>\n",
       "      <th>1132362</th>\n",
       "      <td>116593</td>\n",
       "      <td>72730</td>\n",
       "      <td>2003-12-09</td>\n",
       "      <td>0</td>\n",
       "      <td>Another approach is to start making sauce with...</td>\n",
       "      <td>1</td>\n",
       "    </tr>\n",
       "    <tr>\n",
       "      <th>1132363</th>\n",
       "      <td>583662</td>\n",
       "      <td>386618</td>\n",
       "      <td>2009-09-29</td>\n",
       "      <td>5</td>\n",
       "      <td>These were so delicious!  My husband and I tru...</td>\n",
       "      <td>1</td>\n",
       "    </tr>\n",
       "    <tr>\n",
       "      <th>1132364</th>\n",
       "      <td>157126</td>\n",
       "      <td>78003</td>\n",
       "      <td>2008-06-23</td>\n",
       "      <td>5</td>\n",
       "      <td>WOW!  Sometimes I don't take the time to rate ...</td>\n",
       "      <td>4</td>\n",
       "    </tr>\n",
       "    <tr>\n",
       "      <th>1132365</th>\n",
       "      <td>53932</td>\n",
       "      <td>78003</td>\n",
       "      <td>2009-01-11</td>\n",
       "      <td>4</td>\n",
       "      <td>Very good!  I used regular port as well.  The ...</td>\n",
       "      <td>4</td>\n",
       "    </tr>\n",
       "    <tr>\n",
       "      <th>1132366</th>\n",
       "      <td>2001868099</td>\n",
       "      <td>78003</td>\n",
       "      <td>2017-12-18</td>\n",
       "      <td>5</td>\n",
       "      <td>I am so glad I googled and found this here. Th...</td>\n",
       "      <td>4</td>\n",
       "    </tr>\n",
       "  </tbody>\n",
       "</table>\n",
       "<p>1132367 rows × 6 columns</p>\n",
       "</div>"
      ],
      "text/plain": [
       "            user_id  recipe_id        date  rating  \\\n",
       "0             38094      40893  2003-02-17       4   \n",
       "1           1293707      40893  2011-12-21       5   \n",
       "2              8937      44394  2002-12-01       4   \n",
       "3            126440      85009  2010-02-27       5   \n",
       "4             57222      85009  2011-10-01       5   \n",
       "...             ...        ...         ...     ...   \n",
       "1132362      116593      72730  2003-12-09       0   \n",
       "1132363      583662     386618  2009-09-29       5   \n",
       "1132364      157126      78003  2008-06-23       5   \n",
       "1132365       53932      78003  2009-01-11       4   \n",
       "1132366  2001868099      78003  2017-12-18       5   \n",
       "\n",
       "                                                    review  recipe_id_count  \n",
       "0        Great with a salad. Cooked on top of stove for...                2  \n",
       "1        So simple, so delicious! Great for chilly fall...                2  \n",
       "2        This worked very well and is EASY.  I used not...                1  \n",
       "3        I made the Mexican topping and took it to bunk...                2  \n",
       "4        Made the cheddar bacon topping, adding a sprin...                2  \n",
       "...                                                    ...              ...  \n",
       "1132362  Another approach is to start making sauce with...                1  \n",
       "1132363  These were so delicious!  My husband and I tru...                1  \n",
       "1132364  WOW!  Sometimes I don't take the time to rate ...                4  \n",
       "1132365  Very good!  I used regular port as well.  The ...                4  \n",
       "1132366  I am so glad I googled and found this here. Th...                4  \n",
       "\n",
       "[1132367 rows x 6 columns]"
      ]
     },
     "execution_count": 36,
     "metadata": {},
     "output_type": "execute_result"
    }
   ],
   "source": [
    "merged_df"
   ]
  },
  {
   "cell_type": "code",
   "execution_count": 48,
   "id": "measured-brisbane",
   "metadata": {
    "ExecuteTime": {
     "end_time": "2021-03-15T12:49:29.705697Z",
     "start_time": "2021-03-15T12:49:29.696142Z"
    }
   },
   "outputs": [
    {
     "data": {
      "text/plain": [
       "True"
      ]
     },
     "execution_count": 48,
     "metadata": {},
     "output_type": "execute_result"
    }
   ],
   "source": [
    "def test_count_works (df):\n",
    "    sample = random.choice(df.recipe_id)\n",
    "    mask = df.recipe_id == sample\n",
    "    length = len(df[mask])\n",
    "    try: \n",
    "        count = list(df[mask]['recipe_id_count'])[0]\n",
    "        return length == count\n",
    "    except: \n",
    "        return False\n",
    "\n",
    "test_count_works(merged_df)"
   ]
  },
  {
   "cell_type": "code",
   "execution_count": 49,
   "id": "specialized-explosion",
   "metadata": {
    "ExecuteTime": {
     "end_time": "2021-03-15T14:23:49.736787Z",
     "start_time": "2021-03-15T14:23:49.709102Z"
    }
   },
   "outputs": [],
   "source": [
    "user_interaction_cols = \"user_id recipe_id rating\".split(\" \")\n",
    "df_user_interaction = pd.DataFrame(merged_df[user_interaction_cols])"
   ]
  },
  {
   "cell_type": "code",
   "execution_count": 58,
   "id": "derived-poland",
   "metadata": {
    "ExecuteTime": {
     "end_time": "2021-03-15T14:28:02.175705Z",
     "start_time": "2021-03-15T14:28:01.937997Z"
    }
   },
   "outputs": [],
   "source": [
    "def id_transformation(values):\n",
    "    \"\"\"used to convert id to start from 0\"\"\"\n",
    "    unique_values = np.unique(values)\n",
    "    return dict([(x, y) for y, x in enumerate(unique_values)])\n",
    "\n",
    "user_id_transformed = id_transformation(df_user_interaction.user_id)\n",
    "recipe_id_transformed = id_transformation(df_user_interaction.recipe_id)"
   ]
  },
  {
   "cell_type": "code",
   "execution_count": 59,
   "id": "million-shopper",
   "metadata": {
    "ExecuteTime": {
     "end_time": "2021-03-15T14:30:23.907894Z",
     "start_time": "2021-03-15T14:30:23.695981Z"
    }
   },
   "outputs": [],
   "source": [
    "transformed_user_id_df = (pd.DataFrame.from_dict(user_id_transformed, orient=\"index\")\n",
    "                          .reset_index()\n",
    "                          .rename(columns = {\"index\":\"user_id\",0:\"new_user_id\"}))\n",
    "transformed_recipe_id_df = (pd.DataFrame.from_dict(recipe_id_transformed, orient=\"index\")\n",
    "                          .reset_index()\n",
    "                          .rename(columns = {\"index\":\"recipe_id\",0:\"new_recipe_id\"}))"
   ]
  },
  {
   "cell_type": "code",
   "execution_count": 61,
   "id": "greek-monster",
   "metadata": {
    "ExecuteTime": {
     "end_time": "2021-03-15T14:54:14.653451Z",
     "start_time": "2021-03-15T14:54:14.272112Z"
    }
   },
   "outputs": [],
   "source": [
    "df_UI = (df_user_interaction.merge(transformed_user_id_df, how = \"left\", left_on = \"user_id\", right_on = \"user_id\")\n",
    "        .merge(transformed_recipe_id_df, how=\"left\", left_on = \"recipe_id\", right_on = \"recipe_id\"))"
   ]
  },
  {
   "cell_type": "code",
   "execution_count": 64,
   "id": "peripheral-license",
   "metadata": {
    "ExecuteTime": {
     "end_time": "2021-03-15T16:17:43.140586Z",
     "start_time": "2021-03-15T16:17:43.122617Z"
    }
   },
   "outputs": [
    {
     "data": {
      "text/html": [
       "<div>\n",
       "<style scoped>\n",
       "    .dataframe tbody tr th:only-of-type {\n",
       "        vertical-align: middle;\n",
       "    }\n",
       "\n",
       "    .dataframe tbody tr th {\n",
       "        vertical-align: top;\n",
       "    }\n",
       "\n",
       "    .dataframe thead th {\n",
       "        text-align: right;\n",
       "    }\n",
       "</style>\n",
       "<table border=\"1\" class=\"dataframe\">\n",
       "  <thead>\n",
       "    <tr style=\"text-align: right;\">\n",
       "      <th></th>\n",
       "      <th>user_id</th>\n",
       "      <th>recipe_id</th>\n",
       "      <th>rating</th>\n",
       "      <th>new_user_id</th>\n",
       "      <th>new_recipe_id</th>\n",
       "    </tr>\n",
       "  </thead>\n",
       "  <tbody>\n",
       "    <tr>\n",
       "      <th>0</th>\n",
       "      <td>38094</td>\n",
       "      <td>40893</td>\n",
       "      <td>4</td>\n",
       "      <td>3935</td>\n",
       "      <td>22741</td>\n",
       "    </tr>\n",
       "    <tr>\n",
       "      <th>1</th>\n",
       "      <td>1293707</td>\n",
       "      <td>40893</td>\n",
       "      <td>5</td>\n",
       "      <td>99667</td>\n",
       "      <td>22741</td>\n",
       "    </tr>\n",
       "    <tr>\n",
       "      <th>2</th>\n",
       "      <td>8937</td>\n",
       "      <td>44394</td>\n",
       "      <td>4</td>\n",
       "      <td>577</td>\n",
       "      <td>24831</td>\n",
       "    </tr>\n",
       "    <tr>\n",
       "      <th>3</th>\n",
       "      <td>126440</td>\n",
       "      <td>85009</td>\n",
       "      <td>5</td>\n",
       "      <td>15027</td>\n",
       "      <td>48726</td>\n",
       "    </tr>\n",
       "    <tr>\n",
       "      <th>4</th>\n",
       "      <td>57222</td>\n",
       "      <td>85009</td>\n",
       "      <td>5</td>\n",
       "      <td>6799</td>\n",
       "      <td>48726</td>\n",
       "    </tr>\n",
       "  </tbody>\n",
       "</table>\n",
       "</div>"
      ],
      "text/plain": [
       "   user_id  recipe_id  rating  new_user_id  new_recipe_id\n",
       "0    38094      40893       4         3935          22741\n",
       "1  1293707      40893       5        99667          22741\n",
       "2     8937      44394       4          577          24831\n",
       "3   126440      85009       5        15027          48726\n",
       "4    57222      85009       5         6799          48726"
      ]
     },
     "execution_count": 64,
     "metadata": {},
     "output_type": "execute_result"
    }
   ],
   "source": [
    "df_UI.head()"
   ]
  },
  {
   "cell_type": "code",
   "execution_count": 63,
   "id": "careful-neighbor",
   "metadata": {
    "ExecuteTime": {
     "end_time": "2021-03-15T16:08:04.465105Z",
     "start_time": "2021-03-15T16:08:04.449008Z"
    }
   },
   "outputs": [],
   "source": [
    "shape = (len(transformed_user_id_df), len(transformed_recipe_id_df))"
   ]
  },
  {
   "cell_type": "code",
   "execution_count": 66,
   "id": "indirect-investing",
   "metadata": {
    "ExecuteTime": {
     "end_time": "2021-03-15T16:18:50.431808Z",
     "start_time": "2021-03-15T16:18:50.425826Z"
    }
   },
   "outputs": [
    {
     "data": {
      "text/plain": [
       "(226570, 231637)"
      ]
     },
     "execution_count": 66,
     "metadata": {},
     "output_type": "execute_result"
    }
   ],
   "source": [
    "shape"
   ]
  },
  {
   "cell_type": "code",
   "execution_count": 67,
   "id": "pending-subject",
   "metadata": {
    "ExecuteTime": {
     "end_time": "2021-03-15T16:20:10.310589Z",
     "start_time": "2021-03-15T16:20:10.287651Z"
    }
   },
   "outputs": [],
   "source": [
    "UI_mat = coo_matrix((df_UI[\"rating\"], (df_UI[\"new_user_id\"],df_UI[\"new_recipe_id\"])), shape = shape)"
   ]
  },
  {
   "cell_type": "code",
   "execution_count": 69,
   "id": "commercial-jaguar",
   "metadata": {
    "ExecuteTime": {
     "end_time": "2021-03-15T16:21:01.223979Z",
     "start_time": "2021-03-15T16:21:01.188077Z"
    }
   },
   "outputs": [],
   "source": [
    "df_UI_new = df_UI.drop(columns = [\"user_id\",\"recipe_id\"])"
   ]
  },
  {
   "cell_type": "code",
   "execution_count": 70,
   "id": "statistical-grammar",
   "metadata": {
    "ExecuteTime": {
     "end_time": "2021-03-15T16:22:39.748145Z",
     "start_time": "2021-03-15T16:22:39.730166Z"
    }
   },
   "outputs": [],
   "source": [
    "def save_pickle(obj, f_name, file_type = \"pkl\"):\n",
    "    file = open(f\"src/data/pkls/{f_name}.{file_type}\",\"wb\")\n",
    "    pickle.dump(obj, file)\n",
    "    file.close()"
   ]
  },
  {
   "cell_type": "code",
   "execution_count": null,
   "id": "welcome-handling",
   "metadata": {},
   "outputs": [],
   "source": []
  },
  {
   "cell_type": "code",
   "execution_count": 73,
   "id": "temporal-channels",
   "metadata": {
    "ExecuteTime": {
     "end_time": "2021-03-15T16:55:15.420984Z",
     "start_time": "2021-03-15T16:55:15.183050Z"
    }
   },
   "outputs": [],
   "source": [
    "recipe_df = recipes.merge(transformed_recipe_id_df, how=\"left\", left_on = \"id\", right_on = \"recipe_id\")"
   ]
  },
  {
   "cell_type": "code",
   "execution_count": 75,
   "id": "isolated-night",
   "metadata": {
    "ExecuteTime": {
     "end_time": "2021-03-15T16:56:01.646954Z",
     "start_time": "2021-03-15T16:56:01.535238Z"
    }
   },
   "outputs": [],
   "source": [
    "recipe_df.drop(columns = [\"id\",\"recipe_id\"], inplace = True)"
   ]
  },
  {
   "cell_type": "code",
   "execution_count": 76,
   "id": "played-uncertainty",
   "metadata": {
    "ExecuteTime": {
     "end_time": "2021-03-15T16:57:27.106152Z",
     "start_time": "2021-03-15T16:57:24.485892Z"
    }
   },
   "outputs": [],
   "source": [
    "save_pickle(df_UI_new, \"new_User_Interaction_df\")\n",
    "save_pickle(recipe_df, \"new_recipe_df\")"
   ]
  },
  {
   "cell_type": "code",
   "execution_count": 77,
   "id": "chemical-rotation",
   "metadata": {
    "ExecuteTime": {
     "end_time": "2021-03-15T16:57:48.821037Z",
     "start_time": "2021-03-15T16:57:48.808037Z"
    }
   },
   "outputs": [
    {
     "name": "stdout",
     "output_type": "stream",
     "text": [
      "<class 'pandas.core.frame.DataFrame'>\n",
      "Int64Index: 1132367 entries, 0 to 1132366\n",
      "Data columns (total 3 columns):\n",
      " #   Column         Non-Null Count    Dtype\n",
      "---  ------         --------------    -----\n",
      " 0   rating         1132367 non-null  int64\n",
      " 1   new_user_id    1132367 non-null  int64\n",
      " 2   new_recipe_id  1132367 non-null  int64\n",
      "dtypes: int64(3)\n",
      "memory usage: 34.6 MB\n"
     ]
    }
   ],
   "source": [
    "df_UI_new.info()"
   ]
  },
  {
   "cell_type": "code",
   "execution_count": 78,
   "id": "cathedral-better",
   "metadata": {
    "ExecuteTime": {
     "end_time": "2021-03-15T17:15:15.230994Z",
     "start_time": "2021-03-15T17:15:14.356695Z"
    }
   },
   "outputs": [],
   "source": [
    "# Surprise\n",
    "reader = Reader(rating_scale= (0,5))\n",
    "surprise_data = Dataset.load_from_df(df_UI_new[[\"new_user_id\",\"new_recipe_id\",\"rating\"]], reader)"
   ]
  },
  {
   "cell_type": "code",
   "execution_count": null,
   "id": "smoking-scotland",
   "metadata": {},
   "outputs": [],
   "source": []
  },
  {
   "cell_type": "code",
   "execution_count": null,
   "id": "subsequent-bible",
   "metadata": {},
   "outputs": [],
   "source": []
  },
  {
   "cell_type": "code",
   "execution_count": null,
   "id": "federal-level",
   "metadata": {},
   "outputs": [],
   "source": []
  },
  {
   "cell_type": "code",
   "execution_count": null,
   "id": "virgin-bacteria",
   "metadata": {},
   "outputs": [],
   "source": []
  },
  {
   "cell_type": "code",
   "execution_count": null,
   "id": "announced-antibody",
   "metadata": {},
   "outputs": [],
   "source": []
  },
  {
   "cell_type": "code",
   "execution_count": null,
   "id": "excellent-revolution",
   "metadata": {},
   "outputs": [],
   "source": []
  },
  {
   "cell_type": "code",
   "execution_count": null,
   "id": "realistic-command",
   "metadata": {},
   "outputs": [],
   "source": []
  }
 ],
 "metadata": {
  "kernelspec": {
   "display_name": "Python 3",
   "language": "python",
   "name": "python3"
  },
  "language_info": {
   "codemirror_mode": {
    "name": "ipython",
    "version": 3
   },
   "file_extension": ".py",
   "mimetype": "text/x-python",
   "name": "python",
   "nbconvert_exporter": "python",
   "pygments_lexer": "ipython3",
   "version": "3.7.9"
  }
 },
 "nbformat": 4,
 "nbformat_minor": 5
}
