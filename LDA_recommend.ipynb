{
 "cells": [
  {
   "cell_type": "code",
   "execution_count": 12,
   "id": "corrected-certificate",
   "metadata": {
    "ExecuteTime": {
     "end_time": "2021-03-15T11:24:28.704129Z",
     "start_time": "2021-03-15T11:24:28.689967Z"
    }
   },
   "outputs": [],
   "source": [
    "import pandas as pd\n",
    "import numpy as np\n",
    "from sklearn.feature_extraction.text import CountVectorizer\n",
    "import gensim\n",
    "from gensim import models, similarities\n",
    "from gensim.models import LdaModel, TfidfModel\n",
    "from gensim.corpora import Dictionary\n",
    "import time\n",
    "import scipy as sp\n",
    "import pickle"
   ]
  },
  {
   "cell_type": "code",
   "execution_count": 2,
   "id": "polyphonic-matter",
   "metadata": {
    "ExecuteTime": {
     "end_time": "2021-03-15T09:29:04.274791Z",
     "start_time": "2021-03-15T09:29:00.737160Z"
    }
   },
   "outputs": [],
   "source": [
    "RANDOM_STATE = 789\n",
    "raw_recipe = pd.read_csv(\"src/data/kaggle_food_data/RAW_recipes.csv\")"
   ]
  },
  {
   "cell_type": "code",
   "execution_count": 3,
   "id": "elementary-factory",
   "metadata": {
    "ExecuteTime": {
     "end_time": "2021-03-15T09:29:04.306538Z",
     "start_time": "2021-03-15T09:29:04.276583Z"
    }
   },
   "outputs": [
    {
     "data": {
      "text/html": [
       "<div>\n",
       "<style scoped>\n",
       "    .dataframe tbody tr th:only-of-type {\n",
       "        vertical-align: middle;\n",
       "    }\n",
       "\n",
       "    .dataframe tbody tr th {\n",
       "        vertical-align: top;\n",
       "    }\n",
       "\n",
       "    .dataframe thead th {\n",
       "        text-align: right;\n",
       "    }\n",
       "</style>\n",
       "<table border=\"1\" class=\"dataframe\">\n",
       "  <thead>\n",
       "    <tr style=\"text-align: right;\">\n",
       "      <th></th>\n",
       "      <th>name</th>\n",
       "      <th>id</th>\n",
       "      <th>minutes</th>\n",
       "      <th>contributor_id</th>\n",
       "      <th>submitted</th>\n",
       "      <th>tags</th>\n",
       "      <th>nutrition</th>\n",
       "      <th>n_steps</th>\n",
       "      <th>steps</th>\n",
       "      <th>description</th>\n",
       "      <th>ingredients</th>\n",
       "      <th>n_ingredients</th>\n",
       "    </tr>\n",
       "  </thead>\n",
       "  <tbody>\n",
       "    <tr>\n",
       "      <th>0</th>\n",
       "      <td>arriba   baked winter squash mexican style</td>\n",
       "      <td>137739</td>\n",
       "      <td>55</td>\n",
       "      <td>47892</td>\n",
       "      <td>2005-09-16</td>\n",
       "      <td>['60-minutes-or-less', 'time-to-make', 'course...</td>\n",
       "      <td>[51.5, 0.0, 13.0, 0.0, 2.0, 0.0, 4.0]</td>\n",
       "      <td>11</td>\n",
       "      <td>['make a choice and proceed with recipe', 'dep...</td>\n",
       "      <td>autumn is my favorite time of year to cook! th...</td>\n",
       "      <td>['winter squash', 'mexican seasoning', 'mixed ...</td>\n",
       "      <td>7</td>\n",
       "    </tr>\n",
       "    <tr>\n",
       "      <th>1</th>\n",
       "      <td>a bit different  breakfast pizza</td>\n",
       "      <td>31490</td>\n",
       "      <td>30</td>\n",
       "      <td>26278</td>\n",
       "      <td>2002-06-17</td>\n",
       "      <td>['30-minutes-or-less', 'time-to-make', 'course...</td>\n",
       "      <td>[173.4, 18.0, 0.0, 17.0, 22.0, 35.0, 1.0]</td>\n",
       "      <td>9</td>\n",
       "      <td>['preheat oven to 425 degrees f', 'press dough...</td>\n",
       "      <td>this recipe calls for the crust to be prebaked...</td>\n",
       "      <td>['prepared pizza crust', 'sausage patty', 'egg...</td>\n",
       "      <td>6</td>\n",
       "    </tr>\n",
       "    <tr>\n",
       "      <th>2</th>\n",
       "      <td>all in the kitchen  chili</td>\n",
       "      <td>112140</td>\n",
       "      <td>130</td>\n",
       "      <td>196586</td>\n",
       "      <td>2005-02-25</td>\n",
       "      <td>['time-to-make', 'course', 'preparation', 'mai...</td>\n",
       "      <td>[269.8, 22.0, 32.0, 48.0, 39.0, 27.0, 5.0]</td>\n",
       "      <td>6</td>\n",
       "      <td>['brown ground beef in large pot', 'add choppe...</td>\n",
       "      <td>this modified version of 'mom's' chili was a h...</td>\n",
       "      <td>['ground beef', 'yellow onions', 'diced tomato...</td>\n",
       "      <td>13</td>\n",
       "    </tr>\n",
       "    <tr>\n",
       "      <th>3</th>\n",
       "      <td>alouette  potatoes</td>\n",
       "      <td>59389</td>\n",
       "      <td>45</td>\n",
       "      <td>68585</td>\n",
       "      <td>2003-04-14</td>\n",
       "      <td>['60-minutes-or-less', 'time-to-make', 'course...</td>\n",
       "      <td>[368.1, 17.0, 10.0, 2.0, 14.0, 8.0, 20.0]</td>\n",
       "      <td>11</td>\n",
       "      <td>['place potatoes in a large pot of lightly sal...</td>\n",
       "      <td>this is a super easy, great tasting, make ahea...</td>\n",
       "      <td>['spreadable cheese with garlic and herbs', 'n...</td>\n",
       "      <td>11</td>\n",
       "    </tr>\n",
       "    <tr>\n",
       "      <th>4</th>\n",
       "      <td>amish  tomato ketchup  for canning</td>\n",
       "      <td>44061</td>\n",
       "      <td>190</td>\n",
       "      <td>41706</td>\n",
       "      <td>2002-10-25</td>\n",
       "      <td>['weeknight', 'time-to-make', 'course', 'main-...</td>\n",
       "      <td>[352.9, 1.0, 337.0, 23.0, 3.0, 0.0, 28.0]</td>\n",
       "      <td>5</td>\n",
       "      <td>['mix all ingredients&amp; boil for 2 1 / 2 hours ...</td>\n",
       "      <td>my dh's amish mother raised him on this recipe...</td>\n",
       "      <td>['tomato juice', 'apple cider vinegar', 'sugar...</td>\n",
       "      <td>8</td>\n",
       "    </tr>\n",
       "  </tbody>\n",
       "</table>\n",
       "</div>"
      ],
      "text/plain": [
       "                                         name      id  minutes  \\\n",
       "0  arriba   baked winter squash mexican style  137739       55   \n",
       "1            a bit different  breakfast pizza   31490       30   \n",
       "2                   all in the kitchen  chili  112140      130   \n",
       "3                          alouette  potatoes   59389       45   \n",
       "4          amish  tomato ketchup  for canning   44061      190   \n",
       "\n",
       "   contributor_id   submitted  \\\n",
       "0           47892  2005-09-16   \n",
       "1           26278  2002-06-17   \n",
       "2          196586  2005-02-25   \n",
       "3           68585  2003-04-14   \n",
       "4           41706  2002-10-25   \n",
       "\n",
       "                                                tags  \\\n",
       "0  ['60-minutes-or-less', 'time-to-make', 'course...   \n",
       "1  ['30-minutes-or-less', 'time-to-make', 'course...   \n",
       "2  ['time-to-make', 'course', 'preparation', 'mai...   \n",
       "3  ['60-minutes-or-less', 'time-to-make', 'course...   \n",
       "4  ['weeknight', 'time-to-make', 'course', 'main-...   \n",
       "\n",
       "                                    nutrition  n_steps  \\\n",
       "0       [51.5, 0.0, 13.0, 0.0, 2.0, 0.0, 4.0]       11   \n",
       "1   [173.4, 18.0, 0.0, 17.0, 22.0, 35.0, 1.0]        9   \n",
       "2  [269.8, 22.0, 32.0, 48.0, 39.0, 27.0, 5.0]        6   \n",
       "3   [368.1, 17.0, 10.0, 2.0, 14.0, 8.0, 20.0]       11   \n",
       "4   [352.9, 1.0, 337.0, 23.0, 3.0, 0.0, 28.0]        5   \n",
       "\n",
       "                                               steps  \\\n",
       "0  ['make a choice and proceed with recipe', 'dep...   \n",
       "1  ['preheat oven to 425 degrees f', 'press dough...   \n",
       "2  ['brown ground beef in large pot', 'add choppe...   \n",
       "3  ['place potatoes in a large pot of lightly sal...   \n",
       "4  ['mix all ingredients& boil for 2 1 / 2 hours ...   \n",
       "\n",
       "                                         description  \\\n",
       "0  autumn is my favorite time of year to cook! th...   \n",
       "1  this recipe calls for the crust to be prebaked...   \n",
       "2  this modified version of 'mom's' chili was a h...   \n",
       "3  this is a super easy, great tasting, make ahea...   \n",
       "4  my dh's amish mother raised him on this recipe...   \n",
       "\n",
       "                                         ingredients  n_ingredients  \n",
       "0  ['winter squash', 'mexican seasoning', 'mixed ...              7  \n",
       "1  ['prepared pizza crust', 'sausage patty', 'egg...              6  \n",
       "2  ['ground beef', 'yellow onions', 'diced tomato...             13  \n",
       "3  ['spreadable cheese with garlic and herbs', 'n...             11  \n",
       "4  ['tomato juice', 'apple cider vinegar', 'sugar...              8  "
      ]
     },
     "execution_count": 3,
     "metadata": {},
     "output_type": "execute_result"
    }
   ],
   "source": [
    "raw_recipe.head()"
   ]
  },
  {
   "cell_type": "code",
   "execution_count": 4,
   "id": "coral-symphony",
   "metadata": {
    "ExecuteTime": {
     "end_time": "2021-03-15T09:29:21.097390Z",
     "start_time": "2021-03-15T09:29:04.307501Z"
    }
   },
   "outputs": [
    {
     "name": "stdout",
     "output_type": "stream",
     "text": [
      "<class 'pandas.core.frame.DataFrame'>\n",
      "RangeIndex: 231637 entries, 0 to 231636\n",
      "Data columns (total 12 columns):\n",
      " #   Column          Non-Null Count   Dtype \n",
      "---  ------          --------------   ----- \n",
      " 0   name            231636 non-null  object\n",
      " 1   id              231637 non-null  int64 \n",
      " 2   minutes         231637 non-null  int64 \n",
      " 3   contributor_id  231637 non-null  int64 \n",
      " 4   submitted       231637 non-null  object\n",
      " 5   tags            231637 non-null  object\n",
      " 6   nutrition       231637 non-null  object\n",
      " 7   n_steps         231637 non-null  int64 \n",
      " 8   steps           231637 non-null  object\n",
      " 9   description     226658 non-null  object\n",
      " 10  ingredients     231637 non-null  object\n",
      " 11  n_ingredients   231637 non-null  int64 \n",
      "dtypes: int64(5), object(7)\n",
      "memory usage: 21.2+ MB\n"
     ]
    }
   ],
   "source": [
    "# converting to list objects\n",
    "to_convert_list = \"tags nutrition steps ingredients\".split(\" \")\n",
    "for c in to_convert_list:\n",
    "    raw_recipe[c] = raw_recipe[c].apply(lambda x: eval(x))\n",
    "    \n",
    "raw_recipe.info()"
   ]
  },
  {
   "cell_type": "code",
   "execution_count": 5,
   "id": "bibliographic-perspective",
   "metadata": {
    "ExecuteTime": {
     "end_time": "2021-03-14T04:14:27.282498Z",
     "start_time": "2021-03-14T04:14:25.062838Z"
    }
   },
   "outputs": [],
   "source": [
    "# pickle formatted df\n",
    "raw_recipe.to_pickle(\"src/data/kaggle_food_data/raw_recipes.pkl\")"
   ]
  },
  {
   "cell_type": "code",
   "execution_count": 5,
   "id": "focal-armenia",
   "metadata": {
    "ExecuteTime": {
     "end_time": "2021-03-15T09:29:21.113282Z",
     "start_time": "2021-03-15T09:29:21.098319Z"
    }
   },
   "outputs": [],
   "source": [
    "def prep_ingr(ingredients):\n",
    "    \"\"\"preprocess formatting of the list of ingredients\n",
    "    \n",
    "    will remove string 'and' and '&' if present\n",
    "    \n",
    "    Args:\n",
    "        ingredients (list of strings): list of ingredients\n",
    "    \n",
    "    Returns:\n",
    "        list: list of formatted ingredients \n",
    "    \"\"\"\n",
    "    toreturn = []\n",
    "    for ingr in ingredients:\n",
    "        \n",
    "        # remove 'and' or '&' if exsits\n",
    "        if \"and\" in ingr or \"&\" in ingr:\n",
    "            ingr = ingr.replace(\"and\", \"\").replace(\"&\",\"\") #remove\n",
    "            ingr = ingr.split(\" \")\n",
    "            # remove empty strings\n",
    "            while \"\" in ingr:\n",
    "                ingr.remove(\"\")\n",
    "                \n",
    "            for i in ingr:\n",
    "                toreturn.append(i)\n",
    "        else:\n",
    "            toreturn.append(\"_\".join(ingr.split(\" \")))\n",
    "    return toreturn"
   ]
  },
  {
   "cell_type": "code",
   "execution_count": 6,
   "id": "periodic-moral",
   "metadata": {
    "ExecuteTime": {
     "end_time": "2021-03-15T09:29:21.128251Z",
     "start_time": "2021-03-15T09:29:21.117272Z"
    }
   },
   "outputs": [
    {
     "name": "stdout",
     "output_type": "stream",
     "text": [
      "['water', 'salt', 'pepper', 'black_pepper']\n"
     ]
    },
    {
     "data": {
      "text/plain": [
       "True"
      ]
     },
     "execution_count": 6,
     "metadata": {},
     "output_type": "execute_result"
    }
   ],
   "source": [
    "print(prep_ingr([\"water\",\"salt and pepper\",\"black pepper\"]))\n",
    "prep_ingr([\"water\",\"salt and pepper\",\"black pepper\"]) == [\"water\",\"salt\",\"pepper\", \"black_pepper\"]"
   ]
  },
  {
   "cell_type": "code",
   "execution_count": 31,
   "id": "charged-monroe",
   "metadata": {
    "ExecuteTime": {
     "end_time": "2021-03-14T05:54:54.796247Z",
     "start_time": "2021-03-14T05:54:54.751177Z"
    }
   },
   "outputs": [
    {
     "data": {
      "text/html": [
       "<div>\n",
       "<style scoped>\n",
       "    .dataframe tbody tr th:only-of-type {\n",
       "        vertical-align: middle;\n",
       "    }\n",
       "\n",
       "    .dataframe tbody tr th {\n",
       "        vertical-align: top;\n",
       "    }\n",
       "\n",
       "    .dataframe thead th {\n",
       "        text-align: right;\n",
       "    }\n",
       "</style>\n",
       "<table border=\"1\" class=\"dataframe\">\n",
       "  <thead>\n",
       "    <tr style=\"text-align: right;\">\n",
       "      <th></th>\n",
       "      <th>name</th>\n",
       "      <th>id</th>\n",
       "      <th>minutes</th>\n",
       "      <th>contributor_id</th>\n",
       "      <th>submitted</th>\n",
       "      <th>tags</th>\n",
       "      <th>nutrition</th>\n",
       "      <th>n_steps</th>\n",
       "      <th>steps</th>\n",
       "      <th>description</th>\n",
       "      <th>ingredients</th>\n",
       "      <th>n_ingredients</th>\n",
       "    </tr>\n",
       "  </thead>\n",
       "  <tbody>\n",
       "    <tr>\n",
       "      <th>0</th>\n",
       "      <td>arriba   baked winter squash mexican style</td>\n",
       "      <td>137739</td>\n",
       "      <td>55</td>\n",
       "      <td>47892</td>\n",
       "      <td>2005-09-16</td>\n",
       "      <td>[60-minutes-or-less, time-to-make, course, mai...</td>\n",
       "      <td>[51.5, 0.0, 13.0, 0.0, 2.0, 0.0, 4.0]</td>\n",
       "      <td>11</td>\n",
       "      <td>[make a choice and proceed with recipe, depend...</td>\n",
       "      <td>autumn is my favorite time of year to cook! th...</td>\n",
       "      <td>[winter squash, mexican seasoning, mixed spice...</td>\n",
       "      <td>7</td>\n",
       "    </tr>\n",
       "    <tr>\n",
       "      <th>1</th>\n",
       "      <td>a bit different  breakfast pizza</td>\n",
       "      <td>31490</td>\n",
       "      <td>30</td>\n",
       "      <td>26278</td>\n",
       "      <td>2002-06-17</td>\n",
       "      <td>[30-minutes-or-less, time-to-make, course, mai...</td>\n",
       "      <td>[173.4, 18.0, 0.0, 17.0, 22.0, 35.0, 1.0]</td>\n",
       "      <td>9</td>\n",
       "      <td>[preheat oven to 425 degrees f, press dough in...</td>\n",
       "      <td>this recipe calls for the crust to be prebaked...</td>\n",
       "      <td>[prepared pizza crust, sausage patty, eggs, mi...</td>\n",
       "      <td>6</td>\n",
       "    </tr>\n",
       "    <tr>\n",
       "      <th>2</th>\n",
       "      <td>all in the kitchen  chili</td>\n",
       "      <td>112140</td>\n",
       "      <td>130</td>\n",
       "      <td>196586</td>\n",
       "      <td>2005-02-25</td>\n",
       "      <td>[time-to-make, course, preparation, main-dish,...</td>\n",
       "      <td>[269.8, 22.0, 32.0, 48.0, 39.0, 27.0, 5.0]</td>\n",
       "      <td>6</td>\n",
       "      <td>[brown ground beef in large pot, add chopped o...</td>\n",
       "      <td>this modified version of 'mom's' chili was a h...</td>\n",
       "      <td>[ground beef, yellow onions, diced tomatoes, t...</td>\n",
       "      <td>13</td>\n",
       "    </tr>\n",
       "    <tr>\n",
       "      <th>3</th>\n",
       "      <td>alouette  potatoes</td>\n",
       "      <td>59389</td>\n",
       "      <td>45</td>\n",
       "      <td>68585</td>\n",
       "      <td>2003-04-14</td>\n",
       "      <td>[60-minutes-or-less, time-to-make, course, mai...</td>\n",
       "      <td>[368.1, 17.0, 10.0, 2.0, 14.0, 8.0, 20.0]</td>\n",
       "      <td>11</td>\n",
       "      <td>[place potatoes in a large pot of lightly salt...</td>\n",
       "      <td>this is a super easy, great tasting, make ahea...</td>\n",
       "      <td>[spreadable cheese with garlic and herbs, new ...</td>\n",
       "      <td>11</td>\n",
       "    </tr>\n",
       "    <tr>\n",
       "      <th>4</th>\n",
       "      <td>amish  tomato ketchup  for canning</td>\n",
       "      <td>44061</td>\n",
       "      <td>190</td>\n",
       "      <td>41706</td>\n",
       "      <td>2002-10-25</td>\n",
       "      <td>[weeknight, time-to-make, course, main-ingredi...</td>\n",
       "      <td>[352.9, 1.0, 337.0, 23.0, 3.0, 0.0, 28.0]</td>\n",
       "      <td>5</td>\n",
       "      <td>[mix all ingredients&amp; boil for 2 1 / 2 hours ,...</td>\n",
       "      <td>my dh's amish mother raised him on this recipe...</td>\n",
       "      <td>[tomato juice, apple cider vinegar, sugar, sal...</td>\n",
       "      <td>8</td>\n",
       "    </tr>\n",
       "    <tr>\n",
       "      <th>...</th>\n",
       "      <td>...</td>\n",
       "      <td>...</td>\n",
       "      <td>...</td>\n",
       "      <td>...</td>\n",
       "      <td>...</td>\n",
       "      <td>...</td>\n",
       "      <td>...</td>\n",
       "      <td>...</td>\n",
       "      <td>...</td>\n",
       "      <td>...</td>\n",
       "      <td>...</td>\n",
       "      <td>...</td>\n",
       "    </tr>\n",
       "    <tr>\n",
       "      <th>231632</th>\n",
       "      <td>zydeco soup</td>\n",
       "      <td>486161</td>\n",
       "      <td>60</td>\n",
       "      <td>227978</td>\n",
       "      <td>2012-08-29</td>\n",
       "      <td>[ham, 60-minutes-or-less, time-to-make, course...</td>\n",
       "      <td>[415.2, 26.0, 34.0, 26.0, 44.0, 21.0, 15.0]</td>\n",
       "      <td>7</td>\n",
       "      <td>[heat oil in a 4-quart dutch oven, add celery ...</td>\n",
       "      <td>this is a delicious soup that i originally fou...</td>\n",
       "      <td>[celery, onion, green sweet pepper, garlic clo...</td>\n",
       "      <td>22</td>\n",
       "    </tr>\n",
       "    <tr>\n",
       "      <th>231633</th>\n",
       "      <td>zydeco spice mix</td>\n",
       "      <td>493372</td>\n",
       "      <td>5</td>\n",
       "      <td>1500678</td>\n",
       "      <td>2013-01-09</td>\n",
       "      <td>[15-minutes-or-less, time-to-make, course, pre...</td>\n",
       "      <td>[14.8, 0.0, 2.0, 58.0, 1.0, 0.0, 1.0]</td>\n",
       "      <td>1</td>\n",
       "      <td>[mix all ingredients together thoroughly]</td>\n",
       "      <td>this spice mix will make your taste buds dance!</td>\n",
       "      <td>[paprika, salt, garlic powder, onion powder, d...</td>\n",
       "      <td>13</td>\n",
       "    </tr>\n",
       "    <tr>\n",
       "      <th>231634</th>\n",
       "      <td>zydeco ya ya deviled eggs</td>\n",
       "      <td>308080</td>\n",
       "      <td>40</td>\n",
       "      <td>37779</td>\n",
       "      <td>2008-06-07</td>\n",
       "      <td>[60-minutes-or-less, time-to-make, course, mai...</td>\n",
       "      <td>[59.2, 6.0, 2.0, 3.0, 6.0, 5.0, 0.0]</td>\n",
       "      <td>7</td>\n",
       "      <td>[in a bowl , combine the mashed yolks and mayo...</td>\n",
       "      <td>deviled eggs, cajun-style</td>\n",
       "      <td>[hard-cooked eggs, mayonnaise, dijon mustard, ...</td>\n",
       "      <td>8</td>\n",
       "    </tr>\n",
       "    <tr>\n",
       "      <th>231635</th>\n",
       "      <td>cookies by design   cookies on a stick</td>\n",
       "      <td>298512</td>\n",
       "      <td>29</td>\n",
       "      <td>506822</td>\n",
       "      <td>2008-04-15</td>\n",
       "      <td>[30-minutes-or-less, time-to-make, course, pre...</td>\n",
       "      <td>[188.0, 11.0, 57.0, 11.0, 7.0, 21.0, 9.0]</td>\n",
       "      <td>9</td>\n",
       "      <td>[place melted butter in a large mixing bowl an...</td>\n",
       "      <td>i've heard of the 'cookies by design' company,...</td>\n",
       "      <td>[butter, eagle brand condensed milk, light bro...</td>\n",
       "      <td>10</td>\n",
       "    </tr>\n",
       "    <tr>\n",
       "      <th>231636</th>\n",
       "      <td>cookies by design   sugar shortbread cookies</td>\n",
       "      <td>298509</td>\n",
       "      <td>20</td>\n",
       "      <td>506822</td>\n",
       "      <td>2008-04-15</td>\n",
       "      <td>[30-minutes-or-less, time-to-make, course, pre...</td>\n",
       "      <td>[174.9, 14.0, 33.0, 4.0, 4.0, 11.0, 6.0]</td>\n",
       "      <td>5</td>\n",
       "      <td>[whip sugar and shortening in a large bowl , a...</td>\n",
       "      <td>i've heard of the 'cookies by design' company,...</td>\n",
       "      <td>[granulated sugar, shortening, eggs, flour, cr...</td>\n",
       "      <td>7</td>\n",
       "    </tr>\n",
       "  </tbody>\n",
       "</table>\n",
       "<p>231637 rows × 12 columns</p>\n",
       "</div>"
      ],
      "text/plain": [
       "                                                name      id  minutes  \\\n",
       "0         arriba   baked winter squash mexican style  137739       55   \n",
       "1                   a bit different  breakfast pizza   31490       30   \n",
       "2                          all in the kitchen  chili  112140      130   \n",
       "3                                 alouette  potatoes   59389       45   \n",
       "4                 amish  tomato ketchup  for canning   44061      190   \n",
       "...                                              ...     ...      ...   \n",
       "231632                                   zydeco soup  486161       60   \n",
       "231633                              zydeco spice mix  493372        5   \n",
       "231634                     zydeco ya ya deviled eggs  308080       40   \n",
       "231635        cookies by design   cookies on a stick  298512       29   \n",
       "231636  cookies by design   sugar shortbread cookies  298509       20   \n",
       "\n",
       "        contributor_id   submitted  \\\n",
       "0                47892  2005-09-16   \n",
       "1                26278  2002-06-17   \n",
       "2               196586  2005-02-25   \n",
       "3                68585  2003-04-14   \n",
       "4                41706  2002-10-25   \n",
       "...                ...         ...   \n",
       "231632          227978  2012-08-29   \n",
       "231633         1500678  2013-01-09   \n",
       "231634           37779  2008-06-07   \n",
       "231635          506822  2008-04-15   \n",
       "231636          506822  2008-04-15   \n",
       "\n",
       "                                                     tags  \\\n",
       "0       [60-minutes-or-less, time-to-make, course, mai...   \n",
       "1       [30-minutes-or-less, time-to-make, course, mai...   \n",
       "2       [time-to-make, course, preparation, main-dish,...   \n",
       "3       [60-minutes-or-less, time-to-make, course, mai...   \n",
       "4       [weeknight, time-to-make, course, main-ingredi...   \n",
       "...                                                   ...   \n",
       "231632  [ham, 60-minutes-or-less, time-to-make, course...   \n",
       "231633  [15-minutes-or-less, time-to-make, course, pre...   \n",
       "231634  [60-minutes-or-less, time-to-make, course, mai...   \n",
       "231635  [30-minutes-or-less, time-to-make, course, pre...   \n",
       "231636  [30-minutes-or-less, time-to-make, course, pre...   \n",
       "\n",
       "                                          nutrition  n_steps  \\\n",
       "0             [51.5, 0.0, 13.0, 0.0, 2.0, 0.0, 4.0]       11   \n",
       "1         [173.4, 18.0, 0.0, 17.0, 22.0, 35.0, 1.0]        9   \n",
       "2        [269.8, 22.0, 32.0, 48.0, 39.0, 27.0, 5.0]        6   \n",
       "3         [368.1, 17.0, 10.0, 2.0, 14.0, 8.0, 20.0]       11   \n",
       "4         [352.9, 1.0, 337.0, 23.0, 3.0, 0.0, 28.0]        5   \n",
       "...                                             ...      ...   \n",
       "231632  [415.2, 26.0, 34.0, 26.0, 44.0, 21.0, 15.0]        7   \n",
       "231633        [14.8, 0.0, 2.0, 58.0, 1.0, 0.0, 1.0]        1   \n",
       "231634         [59.2, 6.0, 2.0, 3.0, 6.0, 5.0, 0.0]        7   \n",
       "231635    [188.0, 11.0, 57.0, 11.0, 7.0, 21.0, 9.0]        9   \n",
       "231636     [174.9, 14.0, 33.0, 4.0, 4.0, 11.0, 6.0]        5   \n",
       "\n",
       "                                                    steps  \\\n",
       "0       [make a choice and proceed with recipe, depend...   \n",
       "1       [preheat oven to 425 degrees f, press dough in...   \n",
       "2       [brown ground beef in large pot, add chopped o...   \n",
       "3       [place potatoes in a large pot of lightly salt...   \n",
       "4       [mix all ingredients& boil for 2 1 / 2 hours ,...   \n",
       "...                                                   ...   \n",
       "231632  [heat oil in a 4-quart dutch oven, add celery ...   \n",
       "231633          [mix all ingredients together thoroughly]   \n",
       "231634  [in a bowl , combine the mashed yolks and mayo...   \n",
       "231635  [place melted butter in a large mixing bowl an...   \n",
       "231636  [whip sugar and shortening in a large bowl , a...   \n",
       "\n",
       "                                              description  \\\n",
       "0       autumn is my favorite time of year to cook! th...   \n",
       "1       this recipe calls for the crust to be prebaked...   \n",
       "2       this modified version of 'mom's' chili was a h...   \n",
       "3       this is a super easy, great tasting, make ahea...   \n",
       "4       my dh's amish mother raised him on this recipe...   \n",
       "...                                                   ...   \n",
       "231632  this is a delicious soup that i originally fou...   \n",
       "231633    this spice mix will make your taste buds dance!   \n",
       "231634                          deviled eggs, cajun-style   \n",
       "231635  i've heard of the 'cookies by design' company,...   \n",
       "231636  i've heard of the 'cookies by design' company,...   \n",
       "\n",
       "                                              ingredients  n_ingredients  \n",
       "0       [winter squash, mexican seasoning, mixed spice...              7  \n",
       "1       [prepared pizza crust, sausage patty, eggs, mi...              6  \n",
       "2       [ground beef, yellow onions, diced tomatoes, t...             13  \n",
       "3       [spreadable cheese with garlic and herbs, new ...             11  \n",
       "4       [tomato juice, apple cider vinegar, sugar, sal...              8  \n",
       "...                                                   ...            ...  \n",
       "231632  [celery, onion, green sweet pepper, garlic clo...             22  \n",
       "231633  [paprika, salt, garlic powder, onion powder, d...             13  \n",
       "231634  [hard-cooked eggs, mayonnaise, dijon mustard, ...              8  \n",
       "231635  [butter, eagle brand condensed milk, light bro...             10  \n",
       "231636  [granulated sugar, shortening, eggs, flour, cr...              7  \n",
       "\n",
       "[231637 rows x 12 columns]"
      ]
     },
     "execution_count": 31,
     "metadata": {},
     "output_type": "execute_result"
    }
   ],
   "source": [
    "raw_recipe"
   ]
  },
  {
   "cell_type": "code",
   "execution_count": 15,
   "id": "perceived-quality",
   "metadata": {
    "ExecuteTime": {
     "end_time": "2021-03-14T04:15:42.217141Z",
     "start_time": "2021-03-14T04:15:42.200187Z"
    },
    "code_folding": [
     30
    ]
   },
   "outputs": [
    {
     "ename": "SyntaxError",
     "evalue": "invalid syntax (<ipython-input-15-899d4fedebcf>, line 55)",
     "output_type": "error",
     "traceback": [
      "\u001b[1;36m  File \u001b[1;32m\"<ipython-input-15-899d4fedebcf>\"\u001b[1;36m, line \u001b[1;32m55\u001b[0m\n\u001b[1;33m    def get_doc_sim(docs, model = lda_model dct = dictionary, corpus = ingredients_coprusredients_corpus):\u001b[0m\n\u001b[1;37m                                              ^\u001b[0m\n\u001b[1;31mSyntaxError\u001b[0m\u001b[1;31m:\u001b[0m invalid syntax\n"
     ]
    }
   ],
   "source": [
    "def train_lda_model(ingredients, n_topics, n_iters = 10, random_state = RANDOM_STATE):\n",
    "    \"\"\"train LDA model\n",
    "    \n",
    "    Args:\n",
    "        ingredients (list of strings): list of ingredients \n",
    "        n_topics (int): number of topics to generate\n",
    "        n_iters (int, optional): number of iterations when training the model\n",
    "        random_state (int, optional): random state\n",
    "    \n",
    "    Returns:\n",
    "        model (gensim LDA model): trained LDA model\n",
    "        ing_dict (gensim.Dictionary): bow of ingredients\n",
    "        corpus (list of id): list of ingredients converted to ints\n",
    "    \"\"\"\n",
    "    s = time.time()\n",
    "    # format string\n",
    "    if isinstance(ingredients, pd.Series):\n",
    "        tot_ingredients = ingredients.apply(prep_ingr)\n",
    "    else: # if the ingridients is list\n",
    "        tot_ingredients = [prep_ingr(i) for i in ingredients]\n",
    "    \n",
    "    # convert tot_ingridents to list\n",
    "    if not isinstance(tot_ingredients, list):\n",
    "        tot_ingredients = list(tot_ingredients)\n",
    "    \n",
    "    # generate ingredients dictionary\n",
    "    ing_dict = Dictionary([ing for ing in tot_ingredients])\n",
    "    \n",
    "    # create corpus using list of ingredients\n",
    "    corpus = [ing_dict.doc2bow(ing) for ing in tot_ingredients]\n",
    "    \n",
    "    # train model\n",
    "    model = LdaModel(corpus=corpus, num_topics = n_topics, passes = n_iters, random_state = random_state,\n",
    "                    id2word = ing_dict)\n",
    "    \n",
    "    print(\"time taken to run train_lda_model function : {}\".format(time.time()-s))\n",
    "    return model, ing_dict, corpus\n",
    "\n",
    "\n",
    "def get_sim(model,corpus, word_vects):\n",
    "    index = similarities.MatrixSimilarity(model[corpus])\n",
    "    sims = index[word_vects]\n",
    "    return sims\n",
    "\n",
    "\n",
    "def calculate_sim(docs, corpus, model = lda_model, dct = dictionary):\n",
    "    \"\"\"calculate similarity\"\"\"\n",
    "    bag_words = dct.doc2bow(docs)\n",
    "    bow_vects = model[bag_words]\n",
    "    similarity_ranks = get_sim(model = model,corpus = corpus, word_vects = bow_vects)\n",
    "    similarity_ranks = sorted(enumerate(similarity_ranks), key= lambda x: x[1], reverse=True) # sort by second item\n",
    "    return similarity_ranks\n",
    "    \n",
    "    \n",
    "def get_doc_sim(docs, model = lda_model, dct = dictionary, corpus = ingredients_coprusredients_corpus):\n",
    "    \"\"\"calculate cosine similiarity between document and the input document\"\"\"\n",
    "    sim_ranks = calculate_sim(docs= docs, model = model, dct = dct, corpus=corpus)\n",
    "    \n",
    "    groups = []\n",
    "    for l in model[corpus]:\n",
    "        try:\n",
    "            groups.append(l[0][0])\n",
    "        except:\n",
    "            groups.append()\n",
    "            "
   ]
  },
  {
   "cell_type": "code",
   "execution_count": null,
   "id": "broke-silver",
   "metadata": {
    "ExecuteTime": {
     "end_time": "2021-03-10T07:09:03.849860Z",
     "start_time": "2021-03-10T07:08:59.758351Z"
    }
   },
   "outputs": [],
   "source": []
  },
  {
   "cell_type": "code",
   "execution_count": null,
   "id": "regulated-median",
   "metadata": {
    "ExecuteTime": {
     "end_time": "2021-03-11T00:50:39.781364Z",
     "start_time": "2021-03-11T00:49:21.493155Z"
    }
   },
   "outputs": [],
   "source": []
  },
  {
   "cell_type": "code",
   "execution_count": 19,
   "id": "voluntary-produce",
   "metadata": {
    "ExecuteTime": {
     "end_time": "2021-03-14T04:51:19.127886Z",
     "start_time": "2021-03-14T04:17:08.435182Z"
    }
   },
   "outputs": [],
   "source": [
    "ingr_all = raw_recipe[\"ingredients\"].apply(lambda x : prep_ingr(x))\n",
    "d = Dictionary(list(ingr_all))\n",
    "corp = [d.doc2bow(t) for t in list(ingr_all)]\n",
    "n_topic = 100\n",
    "passes = 100\n",
    "lda_model = LdaModel(corp, num_topics = n_topic, passes = passes, random_state = RANDOM_STATE, id2word = d)"
   ]
  },
  {
   "cell_type": "code",
   "execution_count": 8,
   "id": "southeast-seventh",
   "metadata": {
    "ExecuteTime": {
     "end_time": "2021-03-15T10:27:06.034172Z",
     "start_time": "2021-03-15T10:27:05.899535Z"
    }
   },
   "outputs": [
    {
     "ename": "NameError",
     "evalue": "name 'lda_model' is not defined",
     "output_type": "error",
     "traceback": [
      "\u001b[1;31m---------------------------------------------------------------------------\u001b[0m",
      "\u001b[1;31mNameError\u001b[0m                                 Traceback (most recent call last)",
      "\u001b[1;32m<ipython-input-8-d36f69bec92b>\u001b[0m in \u001b[0;36m<module>\u001b[1;34m\u001b[0m\n\u001b[0;32m      1\u001b[0m \u001b[0mds\u001b[0m \u001b[1;33m=\u001b[0m \u001b[1;34m\"garlic_powder, salt, chicken_thigh, pepper, rosemary\"\u001b[0m\u001b[1;33m.\u001b[0m\u001b[0msplit\u001b[0m\u001b[1;33m(\u001b[0m\u001b[1;34m\", \"\u001b[0m\u001b[1;33m)\u001b[0m\u001b[1;33m\u001b[0m\u001b[1;33m\u001b[0m\u001b[0m\n\u001b[1;32m----> 2\u001b[1;33m \u001b[0mvectors\u001b[0m \u001b[1;33m=\u001b[0m \u001b[0mlda_model\u001b[0m\u001b[1;33m[\u001b[0m\u001b[0md\u001b[0m\u001b[1;33m.\u001b[0m\u001b[0mdoc2bow\u001b[0m\u001b[1;33m(\u001b[0m\u001b[0mds\u001b[0m\u001b[1;33m)\u001b[0m\u001b[1;33m]\u001b[0m\u001b[1;33m\u001b[0m\u001b[1;33m\u001b[0m\u001b[0m\n\u001b[0m\u001b[0;32m      3\u001b[0m \u001b[1;31m#index = similarities.SparseMatrixSimilarity(corp, num_features = len(d), maintain_sparsity = True)\u001b[0m\u001b[1;33m\u001b[0m\u001b[1;33m\u001b[0m\u001b[1;33m\u001b[0m\u001b[0m\n\u001b[0;32m      4\u001b[0m \u001b[1;31m#sims_ranks = index[vectors]\u001b[0m\u001b[1;33m\u001b[0m\u001b[1;33m\u001b[0m\u001b[1;33m\u001b[0m\u001b[0m\n",
      "\u001b[1;31mNameError\u001b[0m: name 'lda_model' is not defined"
     ]
    }
   ],
   "source": [
    "vectors = lda_model[d.doc2bow(ds)]\n",
    "#index = similarities.SparseMatrixSimilarity(corp, num_features = len(d), maintain_sparsity = True)\n",
    "#sims_ranks = index[vectors]"
   ]
  },
  {
   "cell_type": "code",
   "execution_count": 7,
   "id": "prompt-conditioning",
   "metadata": {
    "ExecuteTime": {
     "end_time": "2021-03-15T09:59:54.608195Z",
     "start_time": "2021-03-15T09:29:21.130240Z"
    }
   },
   "outputs": [],
   "source": [
    "ingr_all = raw_recipe[\"ingredients\"].apply(lambda x : prep_ingr(x))\n",
    "d = Dictionary(list(ingr_all))\n",
    "corp = [d.doc2bow(t) for t in list(ingr_all)]\n",
    "n_topic = 100\n",
    "passes = 100\n",
    "lda_multi = models.ldamulticore.LdaMulticore(corpus = corp, num_topics = n_topic,\n",
    "                                             id2word  = d, workers= 3, passes = passes,\n",
    "                                            random_state = RANDOM_STATE)"
   ]
  },
  {
   "cell_type": "code",
   "execution_count": 11,
   "id": "automated-clock",
   "metadata": {
    "ExecuteTime": {
     "end_time": "2021-03-15T11:20:14.311736Z",
     "start_time": "2021-03-15T11:20:14.298772Z"
    }
   },
   "outputs": [
    {
     "data": {
      "text/plain": [
       "[(34, 0.209099), (64, 0.45907965), (77, 0.17014381)]"
      ]
     },
     "execution_count": 11,
     "metadata": {},
     "output_type": "execute_result"
    }
   ],
   "source": [
    "ds = \"garlic_powder, salt, chicken_thigh, pepper, rosemary\".split(\", \")\n",
    "vects = d.doc2bow(ds)\n",
    "groups = lda_multi[vects] #returns probs belonging to ceratin group/topics\n"
   ]
  },
  {
   "cell_type": "code",
   "execution_count": 17,
   "id": "naughty-disco",
   "metadata": {
    "ExecuteTime": {
     "end_time": "2021-03-15T11:35:14.437156Z",
     "start_time": "2021-03-15T11:35:13.549714Z"
    }
   },
   "outputs": [],
   "source": [
    "raw_recipe[\"pp_ingredients\"] = raw_recipe[\"ingredients\"].apply(prep_ingr)"
   ]
  },
  {
   "cell_type": "code",
   "execution_count": 19,
   "id": "economic-algebra",
   "metadata": {
    "ExecuteTime": {
     "end_time": "2021-03-15T11:36:48.436802Z",
     "start_time": "2021-03-15T11:36:46.240184Z"
    }
   },
   "outputs": [],
   "source": [
    "raw_recipe[\"ingredients_bow\"] = [d.doc2bow(dc) for dc in raw_recipe[\"pp_ingredients\"]]"
   ]
  },
  {
   "cell_type": "code",
   "execution_count": 20,
   "id": "underlying-services",
   "metadata": {
    "ExecuteTime": {
     "end_time": "2021-03-15T11:38:45.642044Z",
     "start_time": "2021-03-15T11:37:27.987137Z"
    }
   },
   "outputs": [],
   "source": [
    "raw_recipe[\"groups\"] = raw_recipe[\"ingredients_bow\"].apply(lambda x: lda_multi[x])"
   ]
  },
  {
   "cell_type": "code",
   "execution_count": 29,
   "id": "driving-hypothesis",
   "metadata": {
    "ExecuteTime": {
     "end_time": "2021-03-15T11:44:55.826306Z",
     "start_time": "2021-03-15T11:44:55.604692Z"
    }
   },
   "outputs": [],
   "source": [
    "def get_best_group(groups):\n",
    "    groups.sort(key=lambda x: x[1], reverse=True) # from highest to lowest\n",
    "    if groups != []:\n",
    "        return groups[0][0]\n",
    "    return []\n",
    "        \n",
    "    \n",
    "raw_recipe[\"best_group\"] = raw_recipe[\"groups\"].apply(get_best_group)\n",
    "#raw_recipe[\"best_group\"] = raw_recipe[\"groups\"]"
   ]
  },
  {
   "cell_type": "code",
   "execution_count": 32,
   "id": "nasty-adobe",
   "metadata": {
    "ExecuteTime": {
     "end_time": "2021-03-15T11:47:13.113193Z",
     "start_time": "2021-03-15T11:47:13.061453Z"
    }
   },
   "outputs": [
    {
     "data": {
      "text/html": [
       "<div>\n",
       "<style scoped>\n",
       "    .dataframe tbody tr th:only-of-type {\n",
       "        vertical-align: middle;\n",
       "    }\n",
       "\n",
       "    .dataframe tbody tr th {\n",
       "        vertical-align: top;\n",
       "    }\n",
       "\n",
       "    .dataframe thead th {\n",
       "        text-align: right;\n",
       "    }\n",
       "</style>\n",
       "<table border=\"1\" class=\"dataframe\">\n",
       "  <thead>\n",
       "    <tr style=\"text-align: right;\">\n",
       "      <th></th>\n",
       "      <th>name</th>\n",
       "      <th>id</th>\n",
       "      <th>minutes</th>\n",
       "      <th>contributor_id</th>\n",
       "      <th>submitted</th>\n",
       "      <th>tags</th>\n",
       "      <th>nutrition</th>\n",
       "      <th>n_steps</th>\n",
       "      <th>steps</th>\n",
       "      <th>description</th>\n",
       "      <th>ingredients</th>\n",
       "      <th>n_ingredients</th>\n",
       "      <th>pp_ingredients</th>\n",
       "      <th>ingredients_bow</th>\n",
       "      <th>groups</th>\n",
       "      <th>best_group</th>\n",
       "    </tr>\n",
       "  </thead>\n",
       "  <tbody>\n",
       "    <tr>\n",
       "      <th>0</th>\n",
       "      <td>arriba   baked winter squash mexican style</td>\n",
       "      <td>137739</td>\n",
       "      <td>55</td>\n",
       "      <td>47892</td>\n",
       "      <td>2005-09-16</td>\n",
       "      <td>[60-minutes-or-less, time-to-make, course, mai...</td>\n",
       "      <td>[51.5, 0.0, 13.0, 0.0, 2.0, 0.0, 4.0]</td>\n",
       "      <td>11</td>\n",
       "      <td>[make a choice and proceed with recipe, depend...</td>\n",
       "      <td>autumn is my favorite time of year to cook! th...</td>\n",
       "      <td>[winter squash, mexican seasoning, mixed spice...</td>\n",
       "      <td>7</td>\n",
       "      <td>[winter_squash, mexican_seasoning, mixed_spice...</td>\n",
       "      <td>[(0, 1), (1, 1), (2, 1), (3, 1), (4, 1), (5, 1...</td>\n",
       "      <td>[(4, 0.30515543), (1, 0.29214182), (82, 0.2814...</td>\n",
       "      <td>4</td>\n",
       "    </tr>\n",
       "    <tr>\n",
       "      <th>1</th>\n",
       "      <td>a bit different  breakfast pizza</td>\n",
       "      <td>31490</td>\n",
       "      <td>30</td>\n",
       "      <td>26278</td>\n",
       "      <td>2002-06-17</td>\n",
       "      <td>[30-minutes-or-less, time-to-make, course, mai...</td>\n",
       "      <td>[173.4, 18.0, 0.0, 17.0, 22.0, 35.0, 1.0]</td>\n",
       "      <td>9</td>\n",
       "      <td>[preheat oven to 425 degrees f, press dough in...</td>\n",
       "      <td>this recipe calls for the crust to be prebaked...</td>\n",
       "      <td>[prepared pizza crust, sausage patty, eggs, mi...</td>\n",
       "      <td>6</td>\n",
       "      <td>[prepared_pizza_crust, sausage_patty, eggs, mi...</td>\n",
       "      <td>[(5, 1), (7, 1), (8, 1), (9, 1), (10, 1), (11,...</td>\n",
       "      <td>[(76, 0.45780423), (49, 0.4021938)]</td>\n",
       "      <td>76</td>\n",
       "    </tr>\n",
       "    <tr>\n",
       "      <th>2</th>\n",
       "      <td>all in the kitchen  chili</td>\n",
       "      <td>112140</td>\n",
       "      <td>130</td>\n",
       "      <td>196586</td>\n",
       "      <td>2005-02-25</td>\n",
       "      <td>[time-to-make, course, preparation, main-dish,...</td>\n",
       "      <td>[269.8, 22.0, 32.0, 48.0, 39.0, 27.0, 5.0]</td>\n",
       "      <td>6</td>\n",
       "      <td>[brown ground beef in large pot, add chopped o...</td>\n",
       "      <td>this modified version of 'mom's' chili was a h...</td>\n",
       "      <td>[ground beef, yellow onions, diced tomatoes, t...</td>\n",
       "      <td>13</td>\n",
       "      <td>[ground_beef, yellow_onions, diced_tomatoes, t...</td>\n",
       "      <td>[(5, 1), (13, 1), (14, 1), (15, 1), (16, 1), (...</td>\n",
       "      <td>[(2, 0.26784128), (67, 0.17992806), (58, 0.172...</td>\n",
       "      <td>2</td>\n",
       "    </tr>\n",
       "    <tr>\n",
       "      <th>3</th>\n",
       "      <td>alouette  potatoes</td>\n",
       "      <td>59389</td>\n",
       "      <td>45</td>\n",
       "      <td>68585</td>\n",
       "      <td>2003-04-14</td>\n",
       "      <td>[60-minutes-or-less, time-to-make, course, mai...</td>\n",
       "      <td>[368.1, 17.0, 10.0, 2.0, 14.0, 8.0, 20.0]</td>\n",
       "      <td>11</td>\n",
       "      <td>[place potatoes in a large pot of lightly salt...</td>\n",
       "      <td>this is a super easy, great tasting, make ahea...</td>\n",
       "      <td>[spreadable cheese with garlic and herbs, new ...</td>\n",
       "      <td>11</td>\n",
       "      <td>[spreadable, cheese, with, garlic, herbs, new_...</td>\n",
       "      <td>[(4, 1), (5, 1), (7, 1), (10, 1), (25, 1), (26...</td>\n",
       "      <td>[(76, 0.28519863), (55, 0.16073802), (34, 0.15...</td>\n",
       "      <td>76</td>\n",
       "    </tr>\n",
       "    <tr>\n",
       "      <th>4</th>\n",
       "      <td>amish  tomato ketchup  for canning</td>\n",
       "      <td>44061</td>\n",
       "      <td>190</td>\n",
       "      <td>41706</td>\n",
       "      <td>2002-10-25</td>\n",
       "      <td>[weeknight, time-to-make, course, main-ingredi...</td>\n",
       "      <td>[352.9, 1.0, 337.0, 23.0, 3.0, 0.0, 28.0]</td>\n",
       "      <td>5</td>\n",
       "      <td>[mix all ingredients&amp; boil for 2 1 / 2 hours ,...</td>\n",
       "      <td>my dh's amish mother raised him on this recipe...</td>\n",
       "      <td>[tomato juice, apple cider vinegar, sugar, sal...</td>\n",
       "      <td>8</td>\n",
       "      <td>[tomato_juice, apple_cider_vinegar, sugar, sal...</td>\n",
       "      <td>[(5, 1), (10, 1), (36, 1), (37, 1), (38, 1), (...</td>\n",
       "      <td>[(67, 0.49024317), (61, 0.21362764), (44, 0.15...</td>\n",
       "      <td>67</td>\n",
       "    </tr>\n",
       "  </tbody>\n",
       "</table>\n",
       "</div>"
      ],
      "text/plain": [
       "                                         name      id  minutes  \\\n",
       "0  arriba   baked winter squash mexican style  137739       55   \n",
       "1            a bit different  breakfast pizza   31490       30   \n",
       "2                   all in the kitchen  chili  112140      130   \n",
       "3                          alouette  potatoes   59389       45   \n",
       "4          amish  tomato ketchup  for canning   44061      190   \n",
       "\n",
       "   contributor_id   submitted  \\\n",
       "0           47892  2005-09-16   \n",
       "1           26278  2002-06-17   \n",
       "2          196586  2005-02-25   \n",
       "3           68585  2003-04-14   \n",
       "4           41706  2002-10-25   \n",
       "\n",
       "                                                tags  \\\n",
       "0  [60-minutes-or-less, time-to-make, course, mai...   \n",
       "1  [30-minutes-or-less, time-to-make, course, mai...   \n",
       "2  [time-to-make, course, preparation, main-dish,...   \n",
       "3  [60-minutes-or-less, time-to-make, course, mai...   \n",
       "4  [weeknight, time-to-make, course, main-ingredi...   \n",
       "\n",
       "                                    nutrition  n_steps  \\\n",
       "0       [51.5, 0.0, 13.0, 0.0, 2.0, 0.0, 4.0]       11   \n",
       "1   [173.4, 18.0, 0.0, 17.0, 22.0, 35.0, 1.0]        9   \n",
       "2  [269.8, 22.0, 32.0, 48.0, 39.0, 27.0, 5.0]        6   \n",
       "3   [368.1, 17.0, 10.0, 2.0, 14.0, 8.0, 20.0]       11   \n",
       "4   [352.9, 1.0, 337.0, 23.0, 3.0, 0.0, 28.0]        5   \n",
       "\n",
       "                                               steps  \\\n",
       "0  [make a choice and proceed with recipe, depend...   \n",
       "1  [preheat oven to 425 degrees f, press dough in...   \n",
       "2  [brown ground beef in large pot, add chopped o...   \n",
       "3  [place potatoes in a large pot of lightly salt...   \n",
       "4  [mix all ingredients& boil for 2 1 / 2 hours ,...   \n",
       "\n",
       "                                         description  \\\n",
       "0  autumn is my favorite time of year to cook! th...   \n",
       "1  this recipe calls for the crust to be prebaked...   \n",
       "2  this modified version of 'mom's' chili was a h...   \n",
       "3  this is a super easy, great tasting, make ahea...   \n",
       "4  my dh's amish mother raised him on this recipe...   \n",
       "\n",
       "                                         ingredients  n_ingredients  \\\n",
       "0  [winter squash, mexican seasoning, mixed spice...              7   \n",
       "1  [prepared pizza crust, sausage patty, eggs, mi...              6   \n",
       "2  [ground beef, yellow onions, diced tomatoes, t...             13   \n",
       "3  [spreadable cheese with garlic and herbs, new ...             11   \n",
       "4  [tomato juice, apple cider vinegar, sugar, sal...              8   \n",
       "\n",
       "                                      pp_ingredients  \\\n",
       "0  [winter_squash, mexican_seasoning, mixed_spice...   \n",
       "1  [prepared_pizza_crust, sausage_patty, eggs, mi...   \n",
       "2  [ground_beef, yellow_onions, diced_tomatoes, t...   \n",
       "3  [spreadable, cheese, with, garlic, herbs, new_...   \n",
       "4  [tomato_juice, apple_cider_vinegar, sugar, sal...   \n",
       "\n",
       "                                     ingredients_bow  \\\n",
       "0  [(0, 1), (1, 1), (2, 1), (3, 1), (4, 1), (5, 1...   \n",
       "1  [(5, 1), (7, 1), (8, 1), (9, 1), (10, 1), (11,...   \n",
       "2  [(5, 1), (13, 1), (14, 1), (15, 1), (16, 1), (...   \n",
       "3  [(4, 1), (5, 1), (7, 1), (10, 1), (25, 1), (26...   \n",
       "4  [(5, 1), (10, 1), (36, 1), (37, 1), (38, 1), (...   \n",
       "\n",
       "                                              groups best_group  \n",
       "0  [(4, 0.30515543), (1, 0.29214182), (82, 0.2814...          4  \n",
       "1                [(76, 0.45780423), (49, 0.4021938)]         76  \n",
       "2  [(2, 0.26784128), (67, 0.17992806), (58, 0.172...          2  \n",
       "3  [(76, 0.28519863), (55, 0.16073802), (34, 0.15...         76  \n",
       "4  [(67, 0.49024317), (61, 0.21362764), (44, 0.15...         67  "
      ]
     },
     "execution_count": 32,
     "metadata": {},
     "output_type": "execute_result"
    }
   ],
   "source": [
    "raw_recipe.head()"
   ]
  },
  {
   "cell_type": "code",
   "execution_count": 33,
   "id": "polyphonic-burlington",
   "metadata": {
    "ExecuteTime": {
     "end_time": "2021-03-15T11:55:38.029711Z",
     "start_time": "2021-03-15T11:55:37.953342Z"
    }
   },
   "outputs": [],
   "source": [
    "df_ = raw_recipe.copy()\n",
    "\n",
    "def get_recs_from_group(l_ingrs, lda_model = lda_multi, dct = d, corpus = corp, df = df_, n = 5):\n",
    "    bows = dct.doc2bow(l_ingrs)\n",
    "    groups = lda_model[bows]\n",
    "    if groups == []:\n",
    "        print(\"these ingredients do not have similarities to other recipes\")\n",
    "        print(\"please try again with other ingredients\")\n",
    "        pass\n",
    "    else:\n",
    "        groups.sort(key = lambda x: x[1], reverse = True)\n",
    "        return df[df[\"best_group\"] == groups[0][0]].reset_index(drop=True).head(n) #"
   ]
  },
  {
   "cell_type": "code",
   "execution_count": null,
   "id": "mathematical-utilization",
   "metadata": {
    "ExecuteTime": {
     "start_time": "2021-03-15T11:56:16.109Z"
    }
   },
   "outputs": [],
   "source": [
    "get_recs_from_group(\"garlic_powder, salt, chicken_thigh, pepper, rosemary\".split(\", \"))"
   ]
  },
  {
   "cell_type": "code",
   "execution_count": null,
   "id": "imported-patient",
   "metadata": {},
   "outputs": [],
   "source": []
  },
  {
   "cell_type": "code",
   "execution_count": null,
   "id": "micro-costume",
   "metadata": {},
   "outputs": [],
   "source": []
  },
  {
   "cell_type": "code",
   "execution_count": null,
   "id": "operational-correspondence",
   "metadata": {},
   "outputs": [],
   "source": []
  },
  {
   "cell_type": "code",
   "execution_count": 26,
   "id": "reasonable-quality",
   "metadata": {
    "ExecuteTime": {
     "end_time": "2021-03-15T11:43:06.436385Z",
     "start_time": "2021-03-15T11:43:06.421233Z"
    }
   },
   "outputs": [
    {
     "data": {
      "text/plain": [
       "64"
      ]
     },
     "execution_count": 26,
     "metadata": {},
     "output_type": "execute_result"
    }
   ],
   "source": [
    "g = [(34, 0.209099), (64, 0.45907965), (77, 0.17014381)]\n",
    "g.sort(key= lambda x: x[1], reverse=True)\n",
    "g[0][0]"
   ]
  },
  {
   "cell_type": "code",
   "execution_count": 13,
   "id": "boring-watershed",
   "metadata": {
    "ExecuteTime": {
     "end_time": "2021-03-15T11:25:05.376762Z",
     "start_time": "2021-03-15T11:25:05.359794Z"
    }
   },
   "outputs": [],
   "source": [
    "def save_pickle(obj, file_name, file_type = \"pkl\"):\n",
    "    file = open(f\"src/data/pkls/{file_name}.{file_type}\", \"wb\")\n",
    "    pickle.dump(obj, file)\n",
    "    file.close()"
   ]
  },
  {
   "cell_type": "code",
   "execution_count": 31,
   "id": "distinct-elephant",
   "metadata": {
    "ExecuteTime": {
     "end_time": "2021-03-15T11:46:28.856742Z",
     "start_time": "2021-03-15T11:46:28.122250Z"
    }
   },
   "outputs": [],
   "source": [
    "save_pickle(lda_multi, \"lda_mult\")\n",
    "save_pickle(d, \"ingr_dictionary\")\n",
    "save_pickle(corp, \"ingr_corpus\")\n",
    "save_pickle(raw_recipe, \"recipe_df_w_groups_and_bow\")"
   ]
  },
  {
   "cell_type": "code",
   "execution_count": null,
   "id": "otherwise-steam",
   "metadata": {},
   "outputs": [],
   "source": [
    "lda_multi = pickle.load(\"src/data/pkls/lda_mult.pkl\")\n"
   ]
  },
  {
   "cell_type": "code",
   "execution_count": null,
   "id": "tested-place",
   "metadata": {},
   "outputs": [],
   "source": []
  },
  {
   "cell_type": "code",
   "execution_count": null,
   "id": "dried-recruitment",
   "metadata": {},
   "outputs": [],
   "source": []
  },
  {
   "cell_type": "code",
   "execution_count": 93,
   "id": "promotional-evaluation",
   "metadata": {
    "ExecuteTime": {
     "end_time": "2021-03-14T08:54:45.652063Z",
     "start_time": "2021-03-14T08:54:44.795121Z"
    }
   },
   "outputs": [],
   "source": [
    "ingr_all_bow = raw_recipe[\"ingredients\"].apply(prep_ingr)"
   ]
  },
  {
   "cell_type": "code",
   "execution_count": 108,
   "id": "double-spray",
   "metadata": {
    "ExecuteTime": {
     "end_time": "2021-03-14T09:00:01.900786Z",
     "start_time": "2021-03-14T09:00:01.889817Z"
    }
   },
   "outputs": [
    {
     "data": {
      "text/plain": [
       "['ducks',\n",
       " 'salt and pepper',\n",
       " 'garlic powder',\n",
       " 'purple plums',\n",
       " 'frozen pink lemonade concentrate',\n",
       " 'fresh lemon juice',\n",
       " 'dry white wine',\n",
       " 'soy sauce',\n",
       " 'orange rind',\n",
       " 'fresh lemon rind',\n",
       " 'powdered ginger',\n",
       " 'salt and black pepper',\n",
       " 'worcestershire sauce',\n",
       " 'brown sugar',\n",
       " 'catsup',\n",
       " 'red food coloring',\n",
       " 'oranges',\n",
       " 'crabapples',\n",
       " 'maraschino cherries']"
      ]
     },
     "execution_count": 108,
     "metadata": {},
     "output_type": "execute_result"
    }
   ],
   "source": [
    "raw_recipe.iloc[212177,:].ingredients"
   ]
  },
  {
   "cell_type": "code",
   "execution_count": 106,
   "id": "interracial-breast",
   "metadata": {
    "ExecuteTime": {
     "end_time": "2021-03-14T08:58:48.205022Z",
     "start_time": "2021-03-14T08:58:48.198531Z"
    }
   },
   "outputs": [
    {
     "data": {
      "text/plain": [
       "['ducks',\n",
       " 'salt',\n",
       " 'pepper',\n",
       " 'garlic_powder',\n",
       " 'purple_plums',\n",
       " 'frozen_pink_lemonade_concentrate',\n",
       " 'fresh_lemon_juice',\n",
       " 'dry_white_wine',\n",
       " 'soy_sauce',\n",
       " 'orange_rind',\n",
       " 'fresh_lemon_rind',\n",
       " 'powdered_ginger',\n",
       " 'salt',\n",
       " 'black',\n",
       " 'pepper',\n",
       " 'worcestershire_sauce',\n",
       " 'brown_sugar',\n",
       " 'catsup',\n",
       " 'red_food_coloring',\n",
       " 'oranges',\n",
       " 'crabapples',\n",
       " 'maraschino_cherries']"
      ]
     },
     "execution_count": 106,
     "metadata": {},
     "output_type": "execute_result"
    }
   ],
   "source": [
    "ingr_all_bow[212177]"
   ]
  },
  {
   "cell_type": "code",
   "execution_count": 109,
   "id": "stretch-hungarian",
   "metadata": {
    "ExecuteTime": {
     "end_time": "2021-03-14T09:06:11.126744Z",
     "start_time": "2021-03-14T09:06:11.120760Z"
    },
    "scrolled": true
   },
   "outputs": [
    {
     "data": {
      "text/plain": [
       "3.2797007870909227"
      ]
     },
     "execution_count": 109,
     "metadata": {},
     "output_type": "execute_result"
    }
   ],
   "source": [
    "gensim.matutils.hellinger(d.doc2bow(ingr_all_bow[212177]), vectors)"
   ]
  },
  {
   "cell_type": "code",
   "execution_count": 105,
   "id": "alpine-petroleum",
   "metadata": {
    "ExecuteTime": {
     "end_time": "2021-03-14T08:57:44.475769Z",
     "start_time": "2021-03-14T08:57:44.462782Z"
    }
   },
   "outputs": [
    {
     "data": {
      "text/plain": [
       "name                          the late great fred koss  purple duck\n",
       "id                                                           114931\n",
       "minutes                                                         210\n",
       "contributor_id                                                39547\n",
       "submitted                                                2005-04-01\n",
       "tags              [time-to-make, course, main-ingredient, cuisin...\n",
       "nutrition           [1601.1, 192.0, 103.0, 54.0, 80.0, 209.0, 24.0]\n",
       "n_steps                                                          11\n",
       "steps             [preheat oven to 400 degrees f, quarter 2 duck...\n",
       "description       i originally found this recipe on the internet...\n",
       "ingredients       [ducks, salt and pepper, garlic powder, purple...\n",
       "n_ingredients                                                    19\n",
       "sim                                                        0.138675\n",
       "Name: 212177, dtype: object"
      ]
     },
     "execution_count": 105,
     "metadata": {},
     "output_type": "execute_result"
    }
   ],
   "source": [
    "raw_recipe.iloc[212177,:]"
   ]
  },
  {
   "cell_type": "code",
   "execution_count": 23,
   "id": "decimal-president",
   "metadata": {
    "ExecuteTime": {
     "end_time": "2021-03-14T05:27:49.485872Z",
     "start_time": "2021-03-14T05:27:42.910745Z"
    }
   },
   "outputs": [],
   "source": [
    "corp = [d.doc2bow(t) for t in list(ingr_all)]\n",
    "t = \" \".join(['winter_squash', 'mexican_seasoning', 'mixed_spice', 'honey', 'butter', 'olive_oil'])\n",
    "#txt = d.doc2bow(t)\n",
    "top_topics = lda_model.top_topics( corp)"
   ]
  },
  {
   "cell_type": "code",
   "execution_count": 25,
   "id": "provincial-michigan",
   "metadata": {
    "ExecuteTime": {
     "end_time": "2021-03-14T05:27:55.977472Z",
     "start_time": "2021-03-14T05:27:55.937988Z"
    },
    "scrolled": false
   },
   "outputs": [
    {
     "name": "stdout",
     "output_type": "stream",
     "text": [
      "[(0.24536327, 'cheddar_cheese'), (0.09776891, 'salsa'), (0.07019196, 'sour_cream'), (0.054672632, 'onion'), (0.054441847, 'flour_tortillas'), (0.047107637, 'jalapeno_pepper'), (0.039222226, 'milk'), (0.03630239, 'butter'), (0.036209196, 'cocoa_powder'), (0.035592813, 'salt'), (0.034139972, 'cream_of_chicken_soup'), (0.03097768, 'splenda_sugar_substitute'), (0.030152397, 'monterey_jack_cheese'), (0.029497355, 'eggs'), (0.029218674, 'tortilla_chips'), (0.027947653, 'pepper'), (0.02051542, 'refried_beans'), (0.015620197, 'tomatoes'), (0.013290081, 'water'), (0.010645615, 'cream_of_celery_soup')]\n",
      "-4.692605917932034\n",
      "\n",
      "[(0.27640826, 'fresh_ground_black_pepper'), (0.22684282, 'green_onions'), (0.074391566, 'whole_milk'), (0.066465, 'spinach'), (0.058034457, 'broccoli'), (0.053969767, 'salt'), (0.04453842, 'garlic_cloves'), (0.03963291, 'olive_oil'), (0.026520813, 'sun-dried_tomato'), (0.021318793, 'fresh_flat-leaf_parsley'), (0.020973088, 'artichoke_hearts'), (0.016965719, 'eggs'), (0.01692203, 'feta'), (0.013183038, 'plain_breadcrumbs'), (0.009458262, 'tomatoes'), (0.0059963814, 'butter'), (0.0057629286, 'onion'), (0.005615416, 'queso_fresco'), (0.0048105367, \"hellmann's_mayonnaise\"), (0.003893461, 'water')]\n",
      "-4.804217164818063\n",
      "\n",
      "[(0.18479761, 'green_pepper'), (0.10395475, 'onion'), (0.097006276, 'red_pepper'), (0.070945896, 'ground_turkey'), (0.059828423, 'green_beans'), (0.05689088, 'fresh_dill'), (0.053485516, 'kidney_beans'), (0.035634384, 'pinto_beans'), (0.035387423, 'salt'), (0.031428907, 'brown_rice'), (0.030095167, 'tomatoes'), (0.026764981, 'water'), (0.025521858, 'garbanzo_beans'), (0.02473671, 'pepper'), (0.023016613, 'chicken_breast'), (0.021110097, 'chopped_tomato'), (0.020965789, 'olive_oil'), (0.019792456, 'garlic_cloves'), (0.012518304, 'angel_hair_pasta'), (0.010254799, 'parsnip')]\n",
      "-4.9139852650575735\n",
      "\n",
      "[(0.09756251, 'tomato_paste'), (0.08932106, 'oregano'), (0.08523718, 'onion'), (0.08153372, 'garlic_cloves'), (0.07882774, 'diced_tomatoes'), (0.075326554, 'tomato_sauce'), (0.070934996, 'salt'), (0.067941315, 'basil'), (0.066839315, 'crushed_red_pepper_flakes'), (0.060177766, 'thyme'), (0.05348031, 'olive_oil'), (0.04879479, 'bay_leaf'), (0.04188731, 'pepper'), (0.037653375, 'water'), (0.013566052, 'sugar'), (0.009664985, 'whole_tomatoes'), (0.0069858604, 'pearl_barley'), (0.004938244, 'hot_pepper_flakes'), (0.0040585874, 'strong_coffee'), (0.001809032, 'coca-cola')]\n",
      "-5.092801015600748\n",
      "\n",
      "[(0.19931972, 'carrots'), (0.14999168, 'potatoes'), (0.0987684, 'salt'), (0.0881849, 'onion'), (0.083572954, 'pepper'), (0.050009407, 'celery'), (0.046980064, 'beef_broth'), (0.04490274, 'water'), (0.042032998, 'cooked_rice'), (0.027537862, 'butter'), (0.0265206, 'garlic_cloves'), (0.016753163, 'olive_oil'), (0.015409406, 'button_mushrooms'), (0.014427044, 'bay_leaf'), (0.013219759, 'yukon_gold_potatoes'), (0.008555234, 'beef_bouillon_cubes'), (0.0063060066, 'dill_pickles'), (0.006303978, 'peas'), (0.0058928067, 'beef_bouillon_cube'), (0.005858535, 'sweet_red_peppers')]\n",
      "-5.2401762663079925\n",
      "\n",
      "[(0.20611237, 'celery'), (0.18284029, 'chicken_broth'), (0.11657974, 'onion'), (0.08354737, 'salt'), (0.07152199, 'pepper'), (0.06936756, 'carrot'), (0.03987846, 'frozen_peas'), (0.038400535, 'potato'), (0.03526227, 'red_potatoes'), (0.03324577, 'cooked_chicken'), (0.021732343, 'water'), (0.021382118, 'pork_tenderloin'), (0.011931159, 'water_chestnuts'), (0.011333832, 'olive_oil'), (0.009568733, 'long-grain_rice'), (0.009086426, 'smoked_sausage'), (0.0073586344, 'creole_seasoning'), (0.0067650615, 'chicken_bouillon_cube'), (0.005835666, 'tomatoes'), (0.005145363, 'cooked_pasta')]\n",
      "-5.365151247199265\n",
      "\n",
      "[(0.39754593, 'mayonnaise'), (0.13335286, 'buttermilk'), (0.061656713, 'rosemary'), (0.042394944, 'sage'), (0.039112326, 'dill'), (0.037544113, 'prepared_horseradish'), (0.03626567, 'salt'), (0.027492655, 'white_rice'), (0.025980411, 'marjoram'), (0.02457084, 'boneless_chicken_breasts'), (0.023976196, 'pepper'), (0.023934064, 'parsley_flakes'), (0.022759479, 'eggs'), (0.015898384, 'cooked_chicken_breasts'), (0.013310877, 'ranch_dressing_mix'), (0.012982869, 'crisco'), (0.012645026, 'sugar'), (0.011511292, 'onion'), (0.011011265, 'dried_onion'), (0.007579144, 'butter')]\n",
      "-5.646749925272264\n",
      "\n",
      "[(0.16694672, 'extra_virgin_olive_oil'), (0.12355615, 'red_onion'), (0.11390648, 'salt'), (0.104954995, 'fresh_lemon_juice'), (0.077086665, 'balsamic_vinegar'), (0.062471103, 'olive_oil'), (0.05676379, 'pepper'), (0.054497283, 'feta_cheese'), (0.048568323, 'garlic_cloves'), (0.03820948, 'cherry_tomatoes'), (0.03257711, 'fresh_spinach'), (0.024526251, 'tomatoes'), (0.01743016, 'avocados'), (0.016758664, 'pork_chops'), (0.0153788235, 'large_shrimp'), (0.0102286, 'sugar'), (0.008165094, 'dried_dill'), (0.008163707, 'cooked_bacon'), (0.0064591877, 'kalamata_olives'), (0.005719014, 'celery_seeds')]\n",
      "-5.654205789272536\n",
      "\n",
      "[(0.313856, 'garlic_powder'), (0.15322211, 'cayenne_pepper'), (0.10476863, 'sea_salt'), (0.10131536, 'onion_powder'), (0.058760382, 'cayenne'), (0.051747035, 'green_chilies'), (0.043389883, 'salt'), (0.027295366, 'dry_red_wine'), (0.021411858, 'olive_oil'), (0.020538995, 'parmigiano-reggiano_cheese'), (0.017914388, 'pepper'), (0.017396413, 'pumpkin_pie_spice'), (0.015497761, 'spinach_leaves'), (0.012941553, 'butter'), (0.012424483, 'turkey_breast'), (0.0055509508, 'onion'), (0.0050525484, 'mrs._dash_seasoning_mix'), (0.0031350655, 'corn_chex'), (0.002346976, 'garlic_cloves'), (0.0023123375, 'sugar')]\n",
      "-5.687999086393515\n",
      "\n",
      "[(0.26446652, 'onions'), (0.18785442, 'parsley'), (0.11618716, 'salt'), (0.0847154, 'pepper'), (0.055936705, 'olive_oil'), (0.05521095, 'garlic_cloves'), (0.044155058, 'fresh_rosemary'), (0.036599975, 'butter'), (0.031771187, 'tomatoes'), (0.017320266, 'red_kidney_beans'), (0.015725693, 'catsup'), (0.013833798, 'white_beans'), (0.009829492, 'water'), (0.008370339, 'cremini_mushrooms'), (0.007906388, 'fresh_mozzarella_cheese'), (0.007654823, 'eggs'), (0.0073040994, 'baked_beans'), (0.006228537, 'ground_sage'), (0.005563137, 'onion'), (0.0054928367, 'hot_dogs')]\n",
      "-5.787278370216074\n",
      "\n",
      "[(0.18383513, 'fresh_cilantro'), (0.14520565, 'fresh_ginger'), (0.12657684, 'sesame_oil'), (0.10205427, 'boneless_skinless_chicken_breasts'), (0.08513314, 'sesame_seeds'), (0.067423105, 'rice_vinegar'), (0.048359144, 'green_onion'), (0.03253512, 'bean_sprouts'), (0.032312397, 'light_soy_sauce'), (0.030228859, 'rice_wine_vinegar'), (0.025188193, 'reduced_sodium_soy_sauce'), (0.01806581, 'water'), (0.012563811, 'coffee'), (0.0124716265, 'chili-garlic_sauce'), (0.012431002, 'salt'), (0.012355939, 'rice_noodles'), (0.011336885, 'olives'), (0.008901811, 'chinese_five_spice_powder'), (0.0083977515, 'vermicelli'), (0.006621902, 'pepper')]\n",
      "-6.009839535911663\n",
      "\n",
      "[(0.13602787, 'breadcrumbs'), (0.11638479, 'lean_ground_beef'), (0.102924585, 'lettuce'), (0.067252554, 'tuna'), (0.06473756, 'baby_spinach'), (0.0645072, 'mustard'), (0.04798563, 'tomatoes'), (0.041544214, 'juice'), (0.039989814, 'onion'), (0.039271105, 'pepper'), (0.036991194, 'hamburger_buns'), (0.033917703, 'of'), (0.029046277, 'zest'), (0.028900899, 'prepared_mustard'), (0.027411815, 'salt'), (0.016547816, 'colby-monterey_jack_cheese'), (0.011490933, 'corn_chips'), (0.011289711, 'anchovy_fillets'), (0.008368714, 'olive_oil'), (0.008333464, 'dill_pickle')]\n",
      "-6.084604320104332\n",
      "\n",
      "[(0.13583846, 'fresh_mushrooms'), (0.1175426, 'cream_of_mushroom_soup'), (0.110140696, 'bell_pepper'), (0.09831701, 'onion'), (0.054568037, 'pepper'), (0.05092827, 'salt'), (0.04618377, 'bell_peppers'), (0.044171352, 'butter'), (0.038277276, 'ziti_pasta'), (0.030304251, 'dried_parsley_flakes'), (0.028525947, 'fresh_italian_parsley'), (0.02821463, 'whiskey'), (0.027235424, 'broccoli_floret'), (0.02400958, 'milk'), (0.022905145, 'water'), (0.022384267, 'parsnips'), (0.022090673, 'green_peas'), (0.013576331, 'white_mushrooms'), (0.0126018515, 'olive_oil'), (0.00934848, 'garlic_cloves')]\n",
      "-6.097964636465515\n",
      "\n",
      "[(0.17978565, 'worcestershire_sauce'), (0.1329098, 'ground_beef'), (0.09374958, 'ketchup'), (0.08767531, 'onion'), (0.08422598, 'vinegar'), (0.081826255, 'salt'), (0.051709145, 'white_vinegar'), (0.050003022, 'pepper'), (0.04993188, 'water'), (0.04618811, 'brown_sugar'), (0.036325585, 'sugar'), (0.026657937, 'tomato_sauce'), (0.023116788, 'dry_mustard'), (0.014063364, 'tomato_soup'), (0.013139275, 'beans'), (0.012085742, 'pork'), (0.0113047175, 'prepared_mustard'), (0.0009203487, 'butter'), (0.00085339806, 'cayenne_pepper_sauce'), (2.3976747e-07, 'vanilla_bean_seeds')]\n",
      "-6.107759646842885\n",
      "\n",
      "[(0.29743713, 'chili_powder'), (0.18508826, 'cumin'), (0.106568135, 'black_beans'), (0.053245902, 'salt'), (0.04274183, 'cayenne_pepper'), (0.04088225, 'ground_pepper'), (0.034057822, 'blue_cheese'), (0.031515155, 'onion'), (0.029285206, 'tomatoes'), (0.029059993, 'celery_seed'), (0.026732188, 'garlic_cloves'), (0.023559654, 'semisweet_chocolate'), (0.017322998, 'olive_oil'), (0.015524247, 'low-fat_sour_cream'), (0.015517936, 'creme_fraiche'), (0.011169021, 'water'), (0.010268448, 'sweet_corn'), (0.006307112, 'diced'), (0.00558129, 'pepper'), (0.0040512583, 'lean_beef')]\n",
      "-6.129888724814716\n",
      "\n",
      "[(0.35146385, 'cinnamon'), (0.09535046, 'nutmeg'), (0.07701025, 'brown_sugar'), (0.060211096, 'sugar'), (0.05080707, 'allspice'), (0.04954588, 'apples'), (0.04619608, 'white_chocolate'), (0.044619463, 'butter'), (0.03810262, 'raisins'), (0.038049337, 'salt'), (0.03399061, 'clove'), (0.024679326, 'water'), (0.01706615, 'canned_pumpkin'), (0.016082898, 'eggs'), (0.012370298, 'milk'), (0.011420823, 'cardamom'), (0.009927773, 'cies'), (0.007617045, 'pimientos'), (0.0032132152, 'ground_fennel'), (0.002687615, 'crescent_roll_dough')]\n",
      "-6.185989853126747\n",
      "\n",
      "[(0.39688182, 'zucchini'), (0.077241175, 'salt'), (0.072208494, 'cooking_spray'), (0.054207742, 'onion'), (0.053203013, 'olive_oil'), (0.044140294, 'pepper'), (0.04001789, 'red_bell_peppers'), (0.03737485, 'tomatoes'), (0.03504724, 'yellow_squash'), (0.02648733, 'garlic_cloves'), (0.020796038, 'green_bell_peppers'), (0.0150227435, 'summer_squash'), (0.012524161, 'sweet_onions'), (0.012219149, 'olive'), (0.011226016, 'tortillas'), (0.009398826, 'sake'), (0.0081639355, 'black-eyed_peas'), (0.0076795258, 'salad_greens'), (0.006982096, 'eggs'), (0.006572627, 'butter')]\n",
      "-6.286564239095056\n",
      "\n",
      "[(0.1566167, 'cucumber'), (0.14147514, 'black_olives'), (0.114721246, 'capers'), (0.10244159, 'pine_nuts'), (0.078270435, 'olive_oil'), (0.07502, 'tomatoes'), (0.06006756, 'roma_tomatoes'), (0.046671484, 'salt'), (0.04418426, 'ground_cardamom'), (0.037008237, 'red_onion'), (0.025326148, 'pepper'), (0.02090394, 'garlic_cloves'), (0.020679139, 'orange_peel'), (0.016883085, 'carbonated_lemon-lime_beverage'), (0.014767372, 'fettuccine'), (0.0076904926, 'onion'), (0.006184772, 'romaine_lettuce_hearts'), (0.0058195507, 'sugar'), (0.0051835924, 'light_molasses'), (0.003903519, 'water')]\n",
      "-6.44470593436883\n",
      "\n",
      "[(0.18997963, 'swiss_cheese'), (0.115982294, 'sweet_onion'), (0.0892928, 'ham'), (0.07753289, 'eggplant'), (0.06319584, 'provolone_cheese'), (0.047683522, 'pepper'), (0.044281762, 'green_olives'), (0.042484555, 'salt'), (0.04190133, 'salad_oil'), (0.039076086, 'tomatoes'), (0.034819044, 'butter'), (0.031263903, 'eggs'), (0.026213247, 'onion'), (0.025161002, 'oregano_leaves'), (0.021047259, 'deli_turkey'), (0.017512517, 'olive_oil'), (0.016681826, 'steak_sauce'), (0.012551718, 'crushed_pineapple_in_juice'), (0.012358774, 'ground_lamb'), (0.010808838, 'ciabatta')]\n",
      "-6.700818584875526\n",
      "\n",
      "[(0.29038435, 'red_bell_pepper'), (0.17251982, 'green_bell_pepper'), (0.1320593, 'cider_vinegar'), (0.06959904, 'onion'), (0.05734035, 'chili_sauce'), (0.04139279, 'yellow_bell_pepper'), (0.033288, 'sugar'), (0.030759001, 'salt'), (0.02644209, 'garlic_cloves'), (0.023588644, 'sausage'), (0.0150492, 'olive_oil'), (0.014958146, 'pepper'), (0.012748061, 'coleslaw_mix'), (0.011916602, 'button_mushroom'), (0.011596731, 'red_chili_pepper_flakes'), (0.010277866, 'celery_seed'), (0.008155843, 'beef_bouillon'), (0.00635064, 'whole_black_peppercorn'), (0.0047155614, 'equal_sugar_substitute'), (0.0042544063, 'eggs')]\n",
      "-6.789952599790971\n",
      "\n",
      "[(0.22155881, 'dijon_mustard'), (0.1417755, 'red_wine_vinegar'), (0.10344956, 'garlic_salt'), (0.10261103, 'shallots'), (0.0675142, 'salt'), (0.064952865, 'olive_oil'), (0.053130955, 'pepper'), (0.04254861, 'corn_tortillas'), (0.039518055, 'tomatoes'), (0.031522874, 'chilies'), (0.022682395, 'apple_cider'), (0.018790646, 'sherry_wine_vinegar'), (0.017359052, 'green'), (0.016020654, 'pancetta'), (0.014966653, 'arugula'), (0.010280138, 'gouda_cheese'), (0.009937421, 'white_cheddar_cheese'), (0.009155712, 'tart_apples'), (0.003938024, 'cooked_beef'), (0.0023727533, 'onion')]\n",
      "-6.8823991002177785\n",
      "\n",
      "[(0.2751691, 'corier'), (0.06397428, 'fresh'), (0.0570477, 'salt'), (0.051512852, 'garlic_cloves'), (0.050147768, 'leaves'), (0.045456268, 'yellow_cornmeal'), (0.04230457, 'egg_noodles'), (0.03721909, 'onion'), (0.026967853, 'ground_cayenne_pepper'), (0.026784323, 'olive_oil'), (0.025146214, 'olive_oil_flavored_cooking_spray'), (0.023234947, 'diced_tomatoes_with_juice'), (0.021686489, 'green_chili'), (0.02007361, 'water'), (0.019917306, 'plum_tomato'), (0.019628784, 'spring_onion'), (0.019467432, 'corn_kernel'), (0.019095808, 'tomatoes'), (0.018098, 'soya_sauce'), (0.017096968, 'red_chili_pepper')]\n",
      "-6.897273839350146\n",
      "\n",
      "[(0.39242986, 'paprika'), (0.11495788, 'salt'), (0.08207129, 'dry_mustard'), (0.063426584, 'ground_allspice'), (0.05945268, 'hard-boiled_eggs'), (0.050793942, 'pepper'), (0.04111675, 'celery_salt'), (0.040040143, 'ground_red_pepper'), (0.03418805, 'onion_soup_mix'), (0.033314083, 'fresh_cilantro_leaves'), (0.014542392, 'onion'), (0.011693538, 'beef_brisket'), (0.009980795, 'water'), (0.009196099, 'butter'), (0.00845555, 'grapes'), (0.0069620176, 'garlic_cloves'), (0.005836835, 'small_red_potato'), (0.0055863876, 'olive_oil'), (0.004353815, 'cola'), (0.0024688437, 'smooth_cashew_butter')]\n",
      "-6.92422980368467\n",
      "\n",
      "[(0.12785986, 'plain_flour'), (0.107633285, 'caster_sugar'), (0.07021381, 'fresh_mint_leaves'), (0.06524187, 'eggs'), (0.06427019, 'butter'), (0.057370797, 'dates'), (0.05703358, 'greek_yogurt'), (0.056139857, 'sun-dried_tomatoes'), (0.052294735, 'low-fat_milk'), (0.050527424, 'milk'), (0.04047402, 'self-raising_flour'), (0.040208243, 'vanilla_essence'), (0.027799517, 'silken_tofu'), (0.026636489, 'water'), (0.026212875, 'bicarbonate_of_soda'), (0.024359249, 'salt'), (0.018334048, 'natural_bran'), (0.017591095, 'sugar'), (0.016377868, 'espresso'), (0.015113354, 'soft_brown_sugar')]\n",
      "-6.936838009212907\n",
      "\n",
      "[(0.2275699, 'white_wine'), (0.1573387, 'tabasco_sauce'), (0.14213139, 'maple_syrup'), (0.063564606, 'tomato_puree'), (0.05444383, 'fresh_gingerroot'), (0.052428562, 'tahini'), (0.044839807, 'whole_wheat_pastry_flour'), (0.04072421, 'butter'), (0.037625916, 'cajun_seasoning'), (0.025517585, 'watercress'), (0.022605505, 'salt'), (0.020660855, 'garlic_cloves'), (0.02054592, 'olive_oil'), (0.013712532, 'alfalfa_sprout'), (0.013434347, 'vegetable_bouillon_cubes'), (0.011126827, 'water'), (0.0110774785, 'orange_extract'), (0.007435539, 'mushroom_pieces'), (0.0060634855, 'pepper'), (0.0047878562, 'sugar')]\n",
      "-7.437762654734801\n",
      "\n",
      "[(0.23774225, 'hot_sauce'), (0.18753979, 'apple_cider_vinegar'), (0.13947305, 'beer'), (0.11255327, 'fresh_oregano'), (0.04659165, 'ground_mustard'), (0.04598534, 'fresh_garlic_cloves'), (0.03416579, 'dried_breadcrumbs'), (0.025849104, 'baking_cocoa'), (0.024566302, 'salt'), (0.021776186, 'dry_milk'), (0.020587582, 'sugar'), (0.014481933, 'lima_beans'), (0.0119637875, 'rib_eye_steaks'), (0.011909251, 'butter'), (0.011320132, 'garlic_cloves'), (0.01000327, 'onion'), (0.005875563, 'great_northern_bean'), (0.0057041924, 'root_beer'), (0.005060067, 'water'), (0.0045359107, 'pepper')]\n",
      "-7.616035657410459\n",
      "\n",
      "[(0.40994835, 'ground_cumin'), (0.070578136, 'corier'), (0.069137886, 'low_sodium_chicken_broth'), (0.06290267, 'ground'), (0.05783328, 'garlic_cloves'), (0.04508989, 'dill_weed'), (0.041909806, 'american_cheese'), (0.039723244, 'onion'), (0.038314555, 'iceberg_lettuce'), (0.026594544, 'chipotle_chile_in_adobo'), (0.024413148, 'steak'), (0.019492999, 'tomatoes'), (0.018929796, 'br'), (0.015638655, 'ground_sirloin'), (0.014231704, 'salt'), (0.0129576335, 'seasoning'), (0.011250116, 'montreal'), (0.011250116, \"mccormick's\"), (0.000837601, 'no-salt-added_ketchup'), (6.093032e-07, 'flavored_sugar-free_instant_coffee')]\n",
      "-7.670506469229159\n",
      "\n",
      "[(0.12289581, 'cabbage'), (0.07953242, 'white_bread'), (0.07905306, 'salt'), (0.06342595, 'lemons'), (0.05129739, 'tuna_in_water'), (0.045985945, 'long_grain_rice'), (0.045504432, 'vegetables'), (0.043822985, 'pepper'), (0.043624483, 'onion'), (0.0434482, 'butter'), (0.037401773, 'caraway_seed'), (0.03315831, 'water'), (0.027849974, 'eggs'), (0.026420614, 'creamed_corn'), (0.025852362, 'ice_water'), (0.024768531, 'condensed_tomato_soup'), (0.023873363, 'sugar'), (0.023843296, 'low-fat_mayonnaise'), (0.022819273, 'pita_bread'), (0.019348267, 'soft_breadcrumbs')]\n",
      "-7.760655939044404\n",
      "\n",
      "[(0.18848266, 'red_pepper_flakes'), (0.1747554, 'dry_white_wine'), (0.11628104, 'shrimp'), (0.11264295, 'scallion'), (0.08419614, 'barbecue_sauce'), (0.06263323, 'garlic_cloves'), (0.04433161, 'olive_oil'), (0.029761843, 'salt'), (0.029260086, 'cied'), (0.025972128, 'chicken_thighs'), (0.024385095, 'fresh_thyme_leave'), (0.022801675, 'butter'), (0.017042927, 'pepper'), (0.016416755, 'fruit'), (0.0136382645, 'onion'), (0.011044688, 'cognac'), (0.00810714, 'roasting_chicken'), (0.0031693415, 'mixed'), (0.0027838552, 'mincemeat'), (0.0017076323, 'eggs')]\n",
      "-7.795837744619044\n",
      "\n",
      "[(0.2903724, 'cilantro'), (0.13320263, 'strawberries'), (0.111001335, 'vegetable_stock'), (0.110142864, 'hot_water'), (0.10540666, 'white_onion'), (0.06131317, 'blueberries'), (0.046969406, 'garam_masala'), (0.033578806, 'sugar'), (0.019525692, 'cherries'), (0.01309525, 'serrano_peppers'), (0.01287409, 'garlic_cloves'), (0.012422821, 'tomatoes'), (0.00823371, 'key_lime_juice'), (0.007339022, 'salt'), (0.0062580104, 'olive_oil'), (0.006017806, 'all-purpose_white_flour'), (0.004511654, 'tangerine'), (0.0032040426, 'pink_grapefruit'), (0.0025688787, 'onion'), (0.0015630603, 'butter')]\n",
      "-7.8833899291768015\n",
      "\n",
      "[(0.1794911, 'ground'), (0.16535611, 'black'), (0.16420297, 'pepper'), (0.15437661, 'salt'), (0.1310641, 'freshly'), (0.03314202, 'cloves'), (0.023623675, 'garlic_cloves'), (0.021608979, 'mashed_potatoes'), (0.019287525, 'dried_tarragon'), (0.016935142, 'fresh'), (0.014794113, 'onion'), (0.013569176, 'peppercorns'), (0.013007068, 'seed'), (0.012004913, 'star_anise'), (0.00797414, 'seeds'), (0.007960794, 'pam_cooking_spray'), (0.0062537906, 'ground_lean_pork'), (0.003995073, 'dill_seed'), (0.0023297903, 'yellow_mustard_seeds'), (0.0015400188, 'coffee_beans')]\n",
      "-7.93076385856299\n",
      "\n",
      "[(0.31533638, 'flour'), (0.15486453, 'butter'), (0.14812922, 'salt'), (0.14069134, 'milk'), (0.0678105, 'eggs'), (0.04886553, 'pepper'), (0.037466582, 'sugar'), (0.023902042, 'water'), (0.011630371, 'light_cream'), (0.010551952, 'dried_sage'), (0.010042415, 'onion'), (0.008363272, 'frozen_corn_kernels'), (0.006047177, 'prepared_yellow_mustard'), (0.0038415506, 'olive_oil'), (0.0028703674, 'canned_chicken_broth'), (0.0018555715, 'head_cauliflower'), (0.0018232396, 'hard-cooked_eggs'), (0.0011774992, 'liquid'), (0.00095800677, 'rutabagas'), (0.00041301234, 'longhorn_cheese')]\n",
      "-8.102385016723467\n",
      "\n",
      "[(0.3636167, 'fresh_parsley'), (0.117977396, 'salt'), (0.09385475, 'olive_oil'), (0.08448215, 'garlic_cloves'), (0.068258725, 'pepper'), (0.06472793, 'crushed_tomatoes'), (0.044051625, 'onion'), (0.022525733, 'fresh_tarragon'), (0.02125932, 'cilantro_leaf'), (0.018133523, 'limes,_juice_of'), (0.015853338, 'tomatoes'), (0.01307144, 'roasted_peanuts'), (0.0077904877, 'roasting_chickens'), (0.0071367505, 'water'), (0.006902015, 'eggs'), (0.006829801, 'fresh_corn'), (0.0065031657, 'raw_cashews'), (0.0056781196, 'hardboiled_egg'), (0.0045946464, 'brown_mustard'), (0.0043394403, 'mung_bean_sprouts')]\n",
      "-8.13243126336691\n",
      "\n",
      "[(0.14823347, 'salt'), (0.12066695, 'sugar'), (0.11932736, 'warm_water'), (0.11205044, 'water'), (0.08924991, 'active_dry_yeast'), (0.06575318, 'bread_flour'), (0.05356716, 'slivered_almonds'), (0.047389895, 'whole_wheat_flour'), (0.037951622, 'butter'), (0.032928135, 'fresh_orange_juice'), (0.03080312, 'olive_oil'), (0.02357334, 'powdered_milk'), (0.019731028, 'vidalia_onions'), (0.018566173, 'nonfat_dry_milk_powder'), (0.016363682, 'fresh_lemon_rind'), (0.011185782, 'milk'), (0.009193732, 'sultana'), (0.008466595, 'parsley_sprig'), (0.00817357, 'cracker_crumb'), (0.0048068548, 'fat')]\n",
      "-8.44024364517962\n",
      "\n",
      "[(0.26398596, 'ginger'), (0.13600472, 'coconut_milk'), (0.09779625, 'apple'), (0.07081927, 'cinnamon_stick'), (0.05778057, 'water'), (0.057175737, 'lemongrass'), (0.047681447, 'ground_turmeric'), (0.046471413, 'sugar'), (0.038080245, 'fresh_ginger'), (0.023065662, 'garlic_cloves'), (0.021289328, 'salt'), (0.020185579, 'roma_tomato'), (0.0186174, 'saffron_thread'), (0.017441485, 'peach'), (0.014792566, 'peach_schnapps'), (0.013138986, 'curry_leaves'), (0.01068352, 'lemonade'), (0.009088137, 'onion'), (0.007803764, 'fenugreek_seeds'), (0.0064629647, 'thai_chiles')]\n",
      "-8.488023988588564\n",
      "\n",
      "[(0.13689785, 'frozen_chopped_spinach'), (0.07964007, 'broccoli_florets'), (0.07697479, 'cottage_cheese'), (0.065065704, 'onion'), (0.061574657, 'part-skim_mozzarella_cheese'), (0.056726325, 'whole_wheat_bread'), (0.05403845, 'lasagna_noodles'), (0.05039857, 'salt'), (0.04376877, 'beef'), (0.04193704, 'eggs'), (0.03515858, 'pepper'), (0.03438771, 'alfredo_sauce'), (0.02979014, 'part-skim_ricotta_cheese'), (0.027359556, 'herbs'), (0.022131586, 'ghee'), (0.01756379, 'pickling_salt'), (0.016819213, 'dried_apricots'), (0.016413914, 'peppercorn'), (0.012294073, 'garlic_cloves'), (0.012021475, 'water')]\n",
      "-8.523976764861036\n",
      "\n",
      "[(0.20769945, 'lemon,_juice_of'), (0.13053465, 'dried_cranberries'), (0.08932619, 'leek'), (0.089022174, 'apple_juice'), (0.074398644, 'butternut_squash'), (0.063979864, 'kalamata_olive'), (0.05839128, 'dried_apricot'), (0.053628292, 'olive_oil'), (0.04774832, 'quinoa'), (0.04042937, 'italian_parsley'), (0.033393953, 'salt'), (0.019690558, 'garlic_cloves'), (0.01497966, 'seedless_cucumber'), (0.01276994, 'edamame'), (0.012665072, 'pepper'), (0.011291247, 'tuna_in_vegetable_oil'), (0.009064756, 'pepperoncini_peppers'), (0.006918337, 'water-packed_artichoke_hearts'), (0.0042544254, 'instant_pudding_mix'), (0.0037208, 'onion')]\n",
      "-8.549734903871569\n",
      "\n",
      "[(0.17901158, 'italian_seasoning'), (0.0876153, 'spaghetti_sauce'), (0.075870216, 'jalapeno_peppers'), (0.055565227, 'italian_sausage'), (0.051620055, 'dried_marjoram'), (0.044778906, 'fresh_green_beans'), (0.035603255, 'dried_italian_seasoning'), (0.034983765, 'corn_flakes'), (0.03219409, 'salt'), (0.02873432, 'onion'), (0.02469113, 'textured_vegetable_protein'), (0.02409251, 'cardamom_pods'), (0.023259614, 'smooth_peanut_butter'), (0.023062998, 'garlic_cloves'), (0.02256689, 'pepper'), (0.02245067, 'olive_oil'), (0.020698832, 'water'), (0.020492101, 'salted_peanuts'), (0.019642118, 'nutritional_yeast_flakes'), (0.018150594, 'jumbo_pasta_shells')]\n",
      "-8.565611922080146\n",
      "\n",
      "[(0.123637915, 'low_sodium_soy_sauce'), (0.09190006, 'jalapenos'), (0.07947711, 'limes'), (0.077808596, 'light_mayonnaise'), (0.07272578, 'dried_onion_flakes'), (0.067783184, 'light_sour_cream'), (0.06279762, 'pesto_sauce'), (0.045327887, 'cumin_powder'), (0.039408762, 'unsweetened_coconut_milk'), (0.03925967, 'minced_ginger'), (0.034825, 'salt'), (0.031350292, 'onion_flakes'), (0.030726105, 'low-fat_plain_yogurt'), (0.02963997, 'distilled_white_vinegar'), (0.022544831, 'no-boil_lasagna_noodles'), (0.018971717, 'sugar'), (0.018141134, 'garlic_cloves'), (0.017489841, 'tomatoes'), (0.01747437, 'smoked_gouda_cheese'), (0.014567834, 'water')]\n",
      "-8.691520582050465\n",
      "\n",
      "[(0.29037616, 'plain_yogurt'), (0.1368713, 'fresh_basil_leaf'), (0.10072924, 'cake_flour'), (0.095488824, 'lime_zest'), (0.047470063, 'sweetened_flaked_coconut'), (0.0368063, 'purple_onion'), (0.036364954, 'fresh_asparagus'), (0.033802103, 'papaya'), (0.031706985, 'fat-free'), (0.03083624, 'kiwi_fruits'), (0.0291538, 'salt'), (0.019183014, 'italian_spices'), (0.01636066, 'hummus'), (0.015124256, 'whole_turkey'), (0.01270171, 'olive_oil'), (0.009632181, 'fontina'), (0.0068290303, 'pepper'), (0.0066696242, 'garlic_cloves'), (0.0061368146, 'butter'), (0.006021836, 'tomatoes')]\n",
      "-8.753500758945036\n",
      "\n",
      "[(0.2089754, 'mushrooms'), (0.095016584, 'fresh_chives'), (0.09305411, 'soymilk'), (0.08974065, 'spaghetti'), (0.07135272, 'pasta'), (0.060415, 'light_corn_syrup'), (0.05247942, 'spring_onions'), (0.040280398, 'old_fashioned_oats'), (0.03761421, 'roasted_red_peppers'), (0.03322869, 'salt'), (0.024787711, 'sauce'), (0.022125978, 'butter'), (0.014807152, 'wheat_flour'), (0.012632981, 'light_butter'), (0.010966082, 'olive_oil'), (0.010149182, 'dried_fruit'), (0.010044492, 'soy_flour'), (0.009773268, 'pepper'), (0.009361538, 'onion'), (0.009208398, 'vegan_mayonnaise')]\n",
      "-8.783404826682961\n",
      "\n",
      "[(0.53346336, 'garlic'), (0.10203763, 'olive_oil'), (0.100221924, 'salt'), (0.058135573, 'pepper'), (0.05109692, 'onion'), (0.029184543, 'tomatoes'), (0.016402673, 'prosciutto'), (0.012848471, 'butter'), (0.009321932, 'dried_thyme_leaves'), (0.008528706, 'dried_oregano_leaves'), (0.007462646, 'navy_beans'), (0.0073513146, 'water'), (0.007188037, 'round_steaks'), (0.007131147, 'dried_basil_leaves'), (0.006525162, 'fontina_cheese'), (0.006516992, 'thyme_leaves'), (0.006042291, 'prepared_pizza_crust'), (0.005801947, 'basil_pesto'), (0.0029036584, 'adobo_seasoning'), (0.0022857592, 'salmon_steaks')]\n",
      "-8.792079171442191\n",
      "\n",
      "[(0.42647547, 'oil'), (0.08674922, 'turmeric'), (0.078570835, 'water'), (0.061589345, 'salt'), (0.047637723, 'eggs'), (0.041879967, 'sweet_red_pepper'), (0.031301662, 'mustard_seeds'), (0.029694963, 'yellow_cake_mix'), (0.029293077, 'sugar'), (0.020893222, 'onion'), (0.015950002, 'bisquick'), (0.014131434, 'vanilla_instant_pudding_mix'), (0.013613097, 'fresh_tomato'), (0.01230237, 'poppy_seeds'), (0.012212487, 'apricot_jam'), (0.011208721, 'yoghurt'), (0.010533987, 'whole_berry_cranberry_sauce'), (0.009635346, 'mixed_spice'), (0.00722914, 'tomatoes'), (0.00686856, 'milk')]\n",
      "-8.868978276309674\n",
      "\n",
      "[(0.2189686, 'cream'), (0.15121382, 'evaporated_milk'), (0.09456551, 'butter'), (0.07756102, 'dry_breadcrumbs'), (0.075901724, 'salt'), (0.06465552, 'eggs'), (0.047245234, 'eggplants'), (0.04470883, 'fresh_parsley_leaves'), (0.04383385, 'cooked_ham'), (0.035206977, 'sweet_paprika'), (0.032918822, 'onion'), (0.031254817, 'pepper'), (0.018469, 'cracker'), (0.015485542, 'milk'), (0.011354605, 'manicotti'), (0.009089279, 'sugar'), (0.0057373894, 'chive'), (0.0045133526, 'reduced_fat_margarine'), (0.002423204, 'pumpkin_pie_filling'), (0.0020429, 'strong_black_coffee')]\n",
      "-9.204219384303782\n",
      "\n",
      "[(0.19203417, 'carrot'), (0.18661836, 'dried_oregano'), (0.1356451, 'dried_basil'), (0.073679015, 'chicken_breasts'), (0.062393036, 'salt'), (0.056059223, 'garlic_cloves'), (0.051668935, 'olive_oil'), (0.044794396, 'onion'), (0.04398168, 'dried_parsley'), (0.034134544, 'dried_rosemary'), (0.031172281, 'pepper'), (0.028814716, 'cracked_black_pepper'), (0.020785782, 'peas'), (0.011912443, 'water'), (0.009054111, 'frozen'), (0.0074032783, 'buns'), (0.003255176, 'celery_leaves'), (0.0015340196, 'ham_hocks'), (3.438307e-07, 'coffee-infused_vodka'), (3.438307e-07, 'chocolate_ice_cream_topping')]\n",
      "-9.244610764885232\n",
      "\n",
      "[(0.58954954, 'vegetable_oil'), (0.054246534, 'jalapeno'), (0.046150014, 'water'), (0.04302586, 'stewed_tomatoes'), (0.039834283, 'salt'), (0.035136465, 'tomato_juice'), (0.03462379, 'fresh_garlic'), (0.023744704, 'eggs'), (0.01966805, 'kahlua'), (0.016550234, 'hamburger'), (0.014060076, 'onion'), (0.013401708, 'oat_bran'), (0.012951486, 'miniature_marshmallows'), (0.012370956, 'sugar'), (0.00902377, 'garlic_cloves'), (0.008768644, 'tomatillos'), (0.0072427155, 'pepper'), (0.006033266, \"devil's_food_cake_mix\"), (0.0034266375, 'rump_roast'), (0.0017409776, 'carnation_evaporated_milk')]\n",
      "-9.295636160379932\n",
      "\n",
      "[(0.33813983, 'heavy_cream'), (0.11966182, 'fresh_strawberries'), (0.055764806, 'sugar'), (0.052819908, 'butter'), (0.043377366, 'frozen_strawberries'), (0.03507198, 'vegetable_shortening'), (0.031563982, 'salt'), (0.03052836, 'mascarpone_cheese'), (0.027726425, 'cheese_tortellini'), (0.026683215, 'currants'), (0.02648659, 'light_coconut_milk'), (0.026356535, 'water'), (0.02399044, 'artificial_sweetener'), (0.023436029, 'milk'), (0.019350508, 'condensed_cream_of_chicken_soup'), (0.014133797, 'virgin_olive_oil'), (0.013338693, 'eggs'), (0.012895539, 'bread_machine_yeast'), (0.010550801, 'fresh_fruit'), (0.010445213, 'crackers')]\n",
      "-9.596662542026728\n",
      "\n",
      "[(0.27085128, 'chicken_stock'), (0.22041082, 'dried_thyme'), (0.09809681, 'monterey_jack_cheese'), (0.06794762, 'peanuts'), (0.04863289, 'hoisin_sauce'), (0.038933482, 'turkey'), (0.033591107, 'garlic_cloves'), (0.02206529, 'butter'), (0.017920792, 'honey_mustard'), (0.015261741, 'strawberry_jell-o_gelatin_dessert'), (0.01322057, 'frozen_broccoli'), (0.012838546, 'adobo_sauce'), (0.012836422, 'salt'), (0.012466967, 'olive_oil'), (0.011985741, 'cayenne_powder'), (0.011715491, 'pepper'), (0.011326186, 'serrano_pepper'), (0.008964352, 'fresh_jalapeno_peppers'), (0.00886973, 'matzo_meal'), (0.0080752615, 'frozen_broccoli_florets')]\n",
      "-9.61428546985913\n",
      "\n",
      "[(0.21285293, 'fresh_thyme'), (0.090204746, 'russet_potatoes'), (0.08793823, 'french_bread'), (0.073424086, 'fresh_sage'), (0.060312364, 'shredded_cheddar_cheese'), (0.051900383, 'boneless_skinless_chicken_thighs'), (0.051816262, 'butter'), (0.04891043, 'salt'), (0.03778902, 'olive_oil'), (0.034480337, 'garlic_cloves'), (0.033030424, 'pepper'), (0.027578525, 'whole_chickens'), (0.021850541, 'dressing'), (0.02053591, 'onion'), (0.0185472, 'gruyere'), (0.016179914, 'isl'), (0.016179914, 'thous'), (0.01274029, 'cut_green_beans'), (0.012174598, 'ground_meat'), (0.011347788, 'all-bran_cereal')]\n",
      "-9.67068890385267\n",
      "\n",
      "[(0.4161711, 'orange_juice'), (0.096082516, 'cauliflower'), (0.08031514, 'asparagus'), (0.078574814, 'seasoning'), (0.04354409, 'corn_oil'), (0.04075034, 'grenadine'), (0.039799675, 'portabella_mushrooms'), (0.02454222, 'herb'), (0.01940036, 'mix'), (0.018665936, 'white_rum'), (0.018097678, 'spaghetti_squash'), (0.016344588, 'fresh_herb'), (0.013045592, 'prepared'), (0.011901834, 'sweet--sour'), (0.0117332805, 'white_mushroom'), (0.011644922, 'olive_oil'), (0.010419591, 'salt'), (0.009435339, 'water'), (0.0076579144, 'escarole'), (0.0069840634, 'pepper')]\n",
      "-9.678646518380122\n",
      "\n",
      "[(0.26582992, 'fresh_basil'), (0.15906781, 'fresh_lime_juice'), (0.117110945, 'peanut_oil'), (0.09181837, 'gingerroot'), (0.055613138, 'garlic_cloves'), (0.054057833, 'sugar'), (0.045470197, 'rum'), (0.03411634, 'dark_rum'), (0.024905449, 'rice_wine'), (0.022293618, 'ginger_ale'), (0.021916488, 'tomatoes'), (0.020697264, 'maraschino_cherries'), (0.014674677, 'olive_oil'), (0.013049399, 'broth'), (0.011234371, 'unsweetened_pineapple_juice'), (0.008749505, 'salt'), (0.008702506, 'lump_crabmeat'), (0.0075496086, 'fish'), (0.0064174333, 'steak_seasoning'), (0.005979632, 'cranberry_juice_cocktail')]\n",
      "-9.680190235192715\n",
      "\n",
      "[(0.13647091, 'basil_leaves'), (0.10919749, 'bry'), (0.09152249, 'yogurt'), (0.088373385, 'sunflower_seeds'), (0.06726975, 'fennel_seed'), (0.050872464, '2%_low-fat_milk'), (0.047821347, 'chocolate_syrup'), (0.043970138, 'poppy_seed'), (0.042490203, 'turmeric_powder'), (0.040664006, 'mix'), (0.030836377, 'reduced-fat_cream_cheese'), (0.02921831, 'milk'), (0.02626777, 'sugar'), (0.021564377, 'pudding'), (0.018170243, 'graham_cracker_pie_crust'), (0.016438762, 'pie'), (0.016359901, 'filling'), (0.014710295, 'instant'), (0.014214467, 'water'), (0.012150182, 'flavor')]\n",
      "-9.68778794820774\n",
      "\n",
      "[(0.2343632, 'canola_oil'), (0.18585715, 'whole_wheat_flour'), (0.101174414, 'celery_ribs'), (0.09847399, 'vegetable_broth'), (0.08605229, 'raisins'), (0.063013345, 'cornmeal'), (0.05780867, 'water'), (0.051025484, 'salt'), (0.049764186, 'frozen_corn'), (0.029614227, 'dry_yeast'), (0.010792854, 'olive_oil'), (0.008336639, 'frozen_green_beans'), (0.006052005, 'fat-free_low-sodium_chicken_broth'), (0.004757551, 'onion'), (0.002816058, 'sugar'), (0.0021375658, 'garlic_cloves'), (0.0014913793, 'eggs'), (4.3955734e-07, 'coffee_frozen_yogurt'), (4.3955734e-07, 'flavored_sugar-free_instant_coffee'), (4.3955734e-07, 'sugar-free_cafe_vienna_coffee_powder')]\n",
      "-9.74988166350372\n",
      "\n",
      "[(0.09811209, 'plum_tomatoes'), (0.09763377, 'flat_leaf_parsley'), (0.08903339, 'chickpeas'), (0.08311422, 'boneless_skinless_chicken_breast_halves'), (0.082572594, 'olive_oil'), (0.06696685, 'salt'), (0.057878178, 'baking_potatoes'), (0.053947207, 'garlic_cloves'), (0.045452613, 'low-fat_cheddar_cheese'), (0.039445225, 'pepper'), (0.033057593, 'chili'), (0.032261126, 'fresh_parmesan_cheese'), (0.028393827, 'onion'), (0.019666038, 'low-fat_cream_cheese'), (0.019044824, 'kaffir_lime_leaves'), (0.01666799, 'angel_food_cake'), (0.015576721, 'dark_red_kidney_beans'), (0.01357317, 'low-fat_yogurt'), (0.013016419, 'flax_seeds'), (0.012572241, 'canadian_bacon')]\n",
      "-9.907863582029238\n",
      "\n",
      "[(0.19425341, 'shallot'), (0.0716003, 'poultry_seasoning'), (0.06644152, 'salt'), (0.06449438, 'baby_spinach_leaves'), (0.04956692, 'pepper'), (0.046611477, 'butter'), (0.04491064, 'linguine'), (0.04178866, 'olive_oil'), (0.041264508, 'mint_leaf'), (0.038694534, 'salmon'), (0.03842868, 'italian_bread'), (0.037549738, 'condensed_cream_of_mushroom_soup'), (0.032823768, 'extra_lean_ground_beef'), (0.021777285, 'egg_beaters_egg_substitute'), (0.021725839, 'rotini_pasta'), (0.016387042, 'russet_potato'), (0.015464258, 'biscuit_mix'), (0.0149293095, 'splenda_brown_sugar_blend'), (0.014204507, 'milk'), (0.013940837, 'fresh_black_pepper')]\n",
      "-10.094112089821747\n",
      "\n",
      "[(0.34024563, 'granulated_sugar'), (0.13683358, 'bread'), (0.11947925, 'strawberry'), (0.06918986, 'ice_cubes'), (0.046468154, 'water'), (0.04014824, 'pineapple_chunks'), (0.039384395, 'fresh_blueberries'), (0.03514081, 'butter'), (0.031195097, 'eggs'), (0.028666439, 'milk'), (0.022431908, 'reduced-fat_sour_cream'), (0.022295775, 'baguette'), (0.018454252, 'condensed_milk'), (0.015984066, 'sugar'), (0.0070278607, 'mint_sprigs'), (0.0068212873, 'emmenthaler_cheese'), (0.0052182185, 'apricots'), (0.004141176, 'salt'), (7.389354e-07, 'coffee-infused_vodka'), (7.389354e-07, 'vanilla_bean_seeds')]\n",
      "-10.159963470570752\n",
      "\n",
      "[(0.5692376, 'lemon_juice'), (0.072036535, 'lemon_zest'), (0.06641072, 'orange_zest'), (0.048824, 'sugar'), (0.0328828, 'water'), (0.024410043, 'salt'), (0.018482292, 'butter'), (0.017937364, 'low_fat_cottage_cheese'), (0.017341252, 'fat-free_mayonnaise'), (0.015241113, 'prawns'), (0.011148404, 'pie_crust'), (0.010876132, 'rye_bread'), (0.009775603, 'chili_beans'), (0.008171035, 'accent_seasoning'), (0.007882147, 'squash'), (0.0076194843, 'black_mustard_seeds'), (0.0072825435, 'turbinado_sugar'), (0.007202609, 'pepper'), (0.007084813, 'corned_beef'), (0.007057805, 'coarse_grain_mustard')]\n",
      "-10.160866699184703\n",
      "\n",
      "[(0.18679573, 'boiling_water'), (0.13581681, 'sliced_mushrooms'), (0.10084773, 'crushed_pineapple'), (0.08074671, 'cool_whip'), (0.06233964, 'egg_substitute'), (0.045055453, 'miracle_whip'), (0.04304475, 'pepperoni'), (0.037744634, 'old_bay_seasoning'), (0.036360353, 'pizza_sauce'), (0.032716185, 'crabmeat'), (0.030443495, 'fat_free_sour_cream'), (0.027352566, 'whipped_topping'), (0.025322923, 'swich'), (0.024319556, 'milk'), (0.024272945, 'maraschino_cherry'), (0.023160277, 'sugar'), (0.016252624, 'miniature_marshmallow'), (0.01305762, 'butter'), (0.013023842, 'kaiser_rolls'), (0.0070756343, 'mild_italian_sausage')]\n",
      "-10.199692437802488\n",
      "\n",
      "[(0.1911242, 'mushroom'), (0.13689789, 'peanut_butter'), (0.12222317, 'rice'), (0.115570486, 'chicken'), (0.048690062, 'oyster_sauce'), (0.046491116, 'cashews'), (0.040054247, 'water'), (0.036987912, 'butter'), (0.03239929, 'fresh_breadcrumb'), (0.031086534, 'lean_ground_turkey'), (0.029590024, 'onion'), (0.021413457, 'wide_egg_noodles'), (0.021076145, 'chicken_bouillon'), (0.018159537, 'fat-free_evaporated_milk'), (0.015609516, 'ground_venison'), (0.014590237, 'marsala_wine'), (0.013962031, 'salt'), (0.010906269, 'imitation_crabmeat'), (0.010402731, 'non-fat_powdered_milk'), (0.008232753, 'boneless_beef_chuck_roast')]\n",
      "-10.333945121379314\n",
      "\n",
      "[(0.30614448, 'vanilla_extract'), (0.13215806, 'egg_whites'), (0.116184, 'sugar'), (0.074966356, 'semi-sweet_chocolate_chips'), (0.06419337, 'salt'), (0.05563725, 'yeast'), (0.048463758, 'water'), (0.048233394, 'eggs'), (0.030622952, 'milk'), (0.02836561, 'butter'), (0.019590346, 'unsweetened_cocoa'), (0.018511416, 'unsweetened_chocolate'), (0.015596602, 'plain_fat-free_yogurt'), (0.014154241, 'lemon_extract'), (0.00814911, 'granola_cereal'), (0.006103985, 'ground_oregano'), (0.0035898953, 'fat-free_sweetened_condensed_milk'), (0.0028248355, 'wagon_wheel_macaroni'), (0.00047763102, 'paper'), (4.0999086e-07, 'chocolate_ice_cream_topping')]\n",
      "-10.357815346210788\n",
      "\n",
      "[(0.37982345, 'pecans'), (0.10223418, 'white_chocolate_chips'), (0.096560076, 'brown_sugar'), (0.0959269, 'hot_pepper_sauce'), (0.08266141, 'butter'), (0.061538875, 'unsweetened_applesauce'), (0.04362507, 'unbleached_flour'), (0.020587256, 'chicken_pieces'), (0.01758679, 'granulated_garlic'), (0.015668925, 'eggs'), (0.015005889, 'tomato_ketchup'), (0.0093036285, 'bulk_pork_sausage'), (0.008373066, 'large_raw_shrimp'), (0.0066128303, 'condensed_golden_mushroom_soup'), (0.0062271417, 'water'), (0.0059783934, 'dinner_rolls'), (0.005891214, 'sugar'), (0.0058510434, 'cake_mix'), (0.004578242, 'salt'), (0.003385696, 'center-cut_bacon')]\n",
      "-10.409046451196998\n",
      "\n",
      "[(0.46996698, 'garlic_clove'), (0.103951335, 'salt'), (0.088996775, 'olive_oil'), (0.059575703, 'onion'), (0.057054073, 'pepper'), (0.02926121, 'tomatoes'), (0.023464438, 'water'), (0.01700727, 'white_onions'), (0.016802868, 'ground_chuck'), (0.013592361, 'instant_yeast'), (0.013581882, 'butter'), (0.012407109, 'flax_seed'), (0.008856195, 'bulgur'), (0.008153519, 'frozen_green_pea'), (0.008055583, 'caraway_seeds'), (0.007972077, 'sprinkles'), (0.006231999, 'french_baguette'), (0.00612928, 'louisiana_hot_sauce'), (0.005499118, 'lean_pork'), (0.0052164276, 'white_pearl_onions')]\n",
      "-10.617364896786537\n",
      "\n",
      "[(0.3475901, 'fresh_ground_pepper'), (0.08681289, 'liquid_smoke'), (0.060476582, 'cranberry_juice'), (0.045694653, 'pears'), (0.043415435, 'self_raising_flour'), (0.036351226, 'swiss_chard'), (0.029500829, 'graham_crackers'), (0.026107216, 'golden_syrup'), (0.025483463, 'whole_grain_mustard'), (0.024788907, 'kielbasa'), (0.024730802, 'vegan_margarine'), (0.02025882, 'crouton'), (0.01998426, 'salt'), (0.019450298, 'sweet_italian_sausage'), (0.018810371, 'baby_shrimp'), (0.018556077, 'water'), (0.018045053, 'butter'), (0.014175264, 'olive_oil'), (0.012797202, 'sugar'), (0.012350092, 'turkey_sausage')]\n",
      "-10.62285671526328\n",
      "\n",
      "[(0.391823, 'cream_cheese'), (0.21232925, 'powdered_sugar'), (0.08171271, 'butter'), (0.06552701, 'sweetened_condensed_milk'), (0.03619121, 'milk'), (0.035988346, 'eggs'), (0.026148314, 'cornflour'), (0.020406494, 'sweet_chili_sauce'), (0.018647723, 'sunflower_oil'), (0.014792306, 'dark_soy_sauce'), (0.014484592, 'sugar'), (0.011629898, 'fat_free_chicken_broth'), (0.010563224, 'mini_chocolate_chip'), (0.008770667, 'fennel'), (0.00846767, 'frozen_blueberries'), (0.008006869, 'lime,'), (0.0071740807, 'mace'), (0.0066857603, 'aluminum_foil'), (0.0040819584, 'water'), (0.0030370285, 'green_cardamoms')]\n",
      "-10.63295126172272\n",
      "\n",
      "[(0.1915173, 'scallions'), (0.14827846, 'sweet_potatoes'), (0.090694055, 'of_fresh_mint'), (0.08511637, 'cooking_oil'), (0.07667319, 'boneless_skinless_chicken_breast'), (0.06556249, 'romaine_lettuce'), (0.064820416, 'cy'), (0.0483488, 'oats'), (0.04418133, 'chocolate'), (0.030458039, 'basmati_rice'), (0.020425363, 'bars'), (0.018395903, 'chili_flakes'), (0.017058773, 'saltine_crackers'), (0.014713687, 'salt'), (0.014610215, 'pitted_black_olives'), (0.011605825, 'dark_chocolate_chips'), (0.011020474, 'unsweetened_coconut'), (0.009854809, 'fresh_thyme_sprigs'), (0.007550791, 'butter'), (0.0067900494, 'pepper')]\n",
      "-10.708389344541343\n",
      "\n",
      "[(0.24830517, 'curry_powder'), (0.186686, 'banana'), (0.07358346, 'wheat_germ'), (0.06433322, 'graham_cracker_crumbs'), (0.057226192, 'bittersweet_chocolate'), (0.051113736, 'frozen_mixed_vegetables'), (0.045009498, 'unflavored_gelatin'), (0.031969793, 'ground_flax_seeds'), (0.030071283, 'water'), (0.026548887, 'blend'), (0.02575204, 'instant_rice'), (0.025050888, 'pumpkin_seeds'), (0.020445265, 'milk'), (0.020248203, 'liquid_honey'), (0.009591926, 'brewed_espresso'), (0.009579311, 'cheddar'), (0.009316706, 'monterey'), (0.0092110075, 'sugar'), (0.009073749, 'jack'), (0.0069666007, 'butter')]\n",
      "-10.74330435117854\n",
      "\n",
      "[(0.27554327, 'egg_yolks'), (0.2097377, 'almond_extract'), (0.104123086, 'sliced_almonds'), (0.07764898, 'sugar'), (0.045066066, 'butter'), (0.037098605, 'granny_smith_apple'), (0.03419462, 'gorgonzola'), (0.033724897, 'walnut_pieces'), (0.029557537, 'milk'), (0.026908765, 'hot_italian_sausage'), (0.022165705, 'walnut_oil'), (0.016323851, 'salt'), (0.014106075, 'condensed'), (0.011459342, 'frozen_vegetables'), (0.010216654, 'beef_chuck'), (0.008596697, 'habanero_peppers'), (0.0072936355, 'non-dairy_whipped_topping'), (0.00633978, 'texas_toast_thick_bread'), (0.006042202, 'eggs'), (0.003842276, 'calvados')]\n",
      "-10.929102205763884\n",
      "\n",
      "[(0.46062994, 'ground_black_pepper'), (0.0826176, 'yellow_onions'), (0.06488926, 'macaroni'), (0.042613845, 'salt'), (0.038484264, 'quick_oats'), (0.03507371, 'rotel_tomatoes'), (0.030011637, 'low_sodium_beef_broth'), (0.024307463, 'seasoned_rice_vinegar'), (0.02345022, 'french-fried_onions'), (0.022964759, 'fish_fillets'), (0.022928862, 'smoked_ham'), (0.020012626, 'peppermint_extract'), (0.018161198, 'pickled_ginger'), (0.015900461, 'butter'), (0.012918286, 'milk'), (0.009576703, 'dry_lentils'), (0.008280191, 'olive_oil'), (0.0072508194, 'water'), (0.0070656533, 'vanilla_protein_powder'), (0.005871862, 'dinner')]\n",
      "-11.02723025208238\n",
      "\n",
      "[(0.4708363, 'soy_sauce'), (0.0876545, 'sugar'), (0.07667832, 'brown_sugar'), (0.05569877, 'water'), (0.048291013, 'sweet_potato'), (0.041289784, 'cinnamon_sticks'), (0.03974617, 'fresh_coarse_ground_black_pepper'), (0.028364196, 'macadamia_nuts'), (0.02757464, 'corn_syrup'), (0.02716076, 'mirin'), (0.020208238, 'bacon_bits'), (0.013695699, 'cauliflower_florets'), (0.012934371, 'unbleached_white_flour'), (0.0088647595, 'a.1._original_sauce'), (0.0075030085, 'orange,_juice_of'), (0.0062841396, 'fat_free_mozzarella_cheese'), (0.0062537207, 'pork_spareribs'), (0.005106587, 'eggs'), (0.004855661, 'fiber_one_cereal'), (0.001604726, 'sausage_links')]\n",
      "-11.259252017348244\n",
      "\n",
      "[(0.40195084, 'ground_cinnamon'), (0.1941161, 'ground_nutmeg'), (0.0671344, 'table_salt'), (0.061388478, 'brown_sugar'), (0.060715422, 'nonfat_milk'), (0.035542674, 'sauerkraut'), (0.034621518, 'lemon_rind'), (0.028721927, 'sugar'), (0.025339901, 'butter'), (0.017433371, 'flax_seed_meal'), (0.013783691, 'salt'), (0.011922853, 'chicken_drumsticks'), (0.010516132, 'sweet_butter'), (0.007983668, 'yukon_gold_potato'), (0.007647143, 'eggs'), (0.005571939, 'milk'), (0.0042817667, 'new_potato'), (0.00203875, 'raisin_bran_cereal'), (6.312624e-07, 'vanilla_bean_seeds'), (6.312624e-07, 'coffee-infused_vodka')]\n",
      "-11.26202278694243\n",
      "\n",
      "[(0.18829308, 'lime'), (0.11636235, 'chopped_tomatoes'), (0.113453485, 'beef_stock'), (0.106632374, 'sherry_wine'), (0.0743258, 'penne_pasta'), (0.061377663, 'garlic_cloves'), (0.06109789, 'toasted_sesame_oil'), (0.04712179, 'chorizo_sausage'), (0.04501164, 'cooked_white_rice'), (0.028502528, 'olive_oil'), (0.025411742, 'vanilla_wafers'), (0.024263814, 'onion'), (0.017728582, 'dried_herbs'), (0.013734368, 'fajita_seasoning_mix'), (0.010203304, 'tortilla'), (0.009626654, 'sugar'), (0.0096259555, 'chicken_breast_tenders'), (0.009020121, 'pico_de_gallo'), (0.007828893, 'courgette'), (0.0070858086, 'sweetcorn')]\n",
      "-11.368200756538437\n",
      "\n",
      "[(0.2778565, 'sour_cream'), (0.17634465, 'bacon'), (0.13636228, 'green_onion'), (0.09664756, 'cheese'), (0.0580247, 'seasoning_salt'), (0.052787796, 'chives'), (0.041630164, 'butter'), (0.033728432, 'pepper'), (0.027666884, 'salt'), (0.027463099, 'taco_seasoning_mix'), (0.019117553, 'milk'), (0.011946224, 'salted_butter'), (0.011600629, 'tomatoes'), (0.010148199, 'bourbon'), (0.008912779, 'guacamole'), (0.0053964807, 'ripe_olives'), (2.9664454e-07, 'light_fudge_topping'), (2.9664454e-07, 'mexican-style_rice-a-roni'), (2.9664454e-07, 'chocolate_ice_cream_topping'), (2.9664454e-07, 'coffee_frozen_yogurt')]\n",
      "-11.38067563076647\n",
      "\n",
      "[(0.2746911, 'bay_leaves'), (0.115964025, 'coarse_salt'), (0.07238103, 'black_peppercorns'), (0.056971323, 'ranch_dressing'), (0.049375217, 'vidalia_onion'), (0.049156144, 'dried_dill_weed'), (0.039941777, 'garlic_cloves'), (0.03280063, 'mexican_blend_cheese'), (0.031005329, 'plain_nonfat_yogurt'), (0.02937234, 'water'), (0.028291814, 'cooked_shrimp'), (0.027314981, 'olive_oil'), (0.024338203, 'white_fish_fillets'), (0.024111327, 'salad_dressing'), (0.01852212, 'red'), (0.015108803, 'reduced-calorie_mayonnaise'), (0.014065484, 'brussels_sprouts'), (0.013494129, 'mixed_italian_herbs'), (0.010580053, 'butter'), (0.009438635, 'spicy_mustard')]\n",
      "-11.533561602725527\n",
      "\n",
      "[(0.2659853, 'lime_juice'), (0.17158295, 'white_pepper'), (0.10452612, 'ice'), (0.10160662, 'pineapple_juice'), (0.057388283, 'tequila'), (0.053461164, 'goat_cheese'), (0.046850942, 'sugar'), (0.039439447, 'romano_cheese'), (0.03471963, 'triple_sec'), (0.030037018, 'pasta_sauce'), (0.02848263, 'water'), (0.014229134, 'pineapple_chunk'), (0.011961725, 'deli_ham'), (0.010172565, 'v8_vegetable_juice'), (0.008224151, 'blue_curacao'), (0.004869874, 'salt'), (0.003910292, 'smart_balance_butter_spread'), (0.0020183022, '80%_lean_ground_beef'), (0.0013104613, 'eggs'), (6.268093e-07, 'flavored_sugar-free_instant_coffee')]\n",
      "-11.626961010936089\n",
      "\n",
      "[(0.3363122, 'brown_sugar'), (0.22890213, 'walnuts'), (0.11502559, 'white_sugar'), (0.07625809, 'butter'), (0.06746139, 'chocolate_chips'), (0.047041357, 'applesauce'), (0.03367051, 'raisins'), (0.031976476, 'oatmeal'), (0.014333477, 'new_potatoes'), (0.012315586, 'salt'), (0.007955865, 'cracked_pepper'), (0.0069517535, 'craisins'), (0.0069463653, 'eggs'), (0.0037669716, 'tart_apple'), (0.0035631224, 'ground_walnuts'), (0.001558741, 'sugar'), (0.0006237423, 'agave'), (3.6262242e-07, 'espresso-flavored_vodka'), (3.6262242e-07, 'milk_chocolate_brownie_mix'), (3.6262242e-07, 'sugar-free_cafe_vienna_coffee_powder')]\n",
      "-11.654827151186145\n",
      "\n",
      "[(0.29877517, 'all-purpose_flour'), (0.14309548, 'salt'), (0.104485795, 'baking_powder'), (0.08590559, 'eggs'), (0.08073364, 'butter'), (0.08069235, 'baking_soda'), (0.064727224, 'sugar'), (0.05086212, 'milk'), (0.050422665, 'vanilla_extract'), (0.015969373, 'watermelon'), (0.0077538295, '1%_low-fat_milk'), (0.0061559123, 'water'), (0.0037064345, 'kiwi'), (0.0013684982, 'chocolate_frosting'), (0.0013171319, 'medium_cheddar'), (0.0011470022, 'nectarines'), (0.00028674025, 'cheese_sauce'), (1.7634305e-07, 'vanilla_bean_seeds'), (1.7634305e-07, 'coffee_frozen_yogurt'), (1.7634305e-07, 'coffee-infused_vodka')]\n",
      "-11.671039297707333\n",
      "\n",
      "[(0.16640502, 'firm_tofu'), (0.09068165, 'nutritional_yeast'), (0.08767823, 'couscous'), (0.08264461, 'diced_tomato'), (0.07538257, 'rhubarb'), (0.060179934, 'water'), (0.05885783, 'italian_salad_dressing'), (0.053909566, 'cream-style_corn'), (0.035352714, 'beef_bouillon_granules'), (0.03512411, 'bisquick_baking_mix'), (0.032146245, 'sugar'), (0.028981326, 'rubbed_sage'), (0.020796446, 'wild_mushrooms'), (0.020672778, 'beef_consomme'), (0.01973933, 'milk'), (0.019599196, 'toasted_almond'), (0.017382123, 'pancake_mix'), (0.01705192, 'butter'), (0.00942039, 'eggs'), (0.0082866475, 'boneless_center_cut_pork_chops')]\n",
      "-11.689428282430526\n",
      "\n",
      "[(0.49740478, 'honey'), (0.18525212, 'ground_ginger'), (0.051536318, 'baby_carrots'), (0.05037853, 'fresh_basil_leaves'), (0.026638899, 'great_northern_beans'), (0.026047722, 'water'), (0.025453007, 'lemons,_juice_of'), (0.019097773, 'mini_marshmallows'), (0.013850978, 'sun-dried_tomatoes_packed_in_oil'), (0.012981603, 'butter'), (0.012404022, 'frozen_puff_pastry'), (0.010757831, 'ramen_noodles'), (0.01038078, 'salami'), (0.0066486406, 'sirloin_steak'), (0.005864241, 'cool_whip_topping'), (0.005724287, 'idaho_potatoes'), (0.0049246424, 'milk'), (0.004594424, 'whole_milk_ricotta_cheese'), (0.004232178, 'fresh_peas'), (0.003684668, 'lemon_jell-o_gelatin')]\n",
      "-11.82742312808292\n",
      "\n",
      "[(0.46401754, 'unsalted_butter'), (0.16724701, 'light_brown_sugar'), (0.07523974, 'granulated_sugar'), (0.05530047, 'salt'), (0.05230686, 'unsweetened_cocoa_powder'), (0.050041113, 'unbleached_all-purpose_flour'), (0.040876906, 'eggs'), (0.03370405, 'buttermilk'), (0.009182742, 'jumbo_shrimp'), (0.008754276, 'instant_espresso_powder'), (0.008258612, 'chili_pepper_flakes'), (0.007406303, 'fresh_lemon_zest'), (0.005997224, 'sugar'), (0.0033618067, 'pretzel'), (0.0030193932, 'semisweet_mini_chocolate_chips'), (0.002712672, 'water'), (0.0022696774, 'french_vanilla_cake_mix'), (0.0016166543, 'capsicum'), (5.9030305e-07, 'flavored_sugar-free_instant_coffee'), (5.9030305e-07, 'coffee-infused_vodka')]\n",
      "-11.848926221766938\n",
      "\n",
      "[(0.083677985, 'red_food_coloring'), (0.07585794, 'shredded_coconut'), (0.072568275, 'toasted_sesame_seeds'), (0.064350225, 'arborio_rice'), (0.06277729, 'self-rising_flour'), (0.05387399, 'seasoned_bread_crumbs'), (0.04949042, 'butter'), (0.042785488, 'sugar'), (0.041260894, 'lemon,'), (0.038529556, 'double_cream'), (0.034818117, 'green_food_coloring'), (0.03171154, 'water_chestnut'), (0.029551465, 'water'), (0.028299658, 'vanilla_sugar'), (0.025547631, 'boneless_chicken_breast'), (0.02289686, 'mixed_nuts'), (0.020618074, 'milk'), (0.019024862, 'yellow_food_coloring'), (0.018096674, 'canned_corn'), (0.017622856, 'vanilla_frosting')]\n",
      "-11.999981695341154\n",
      "\n",
      "[(0.15564463, 'heavy_whipping_cream'), (0.10748404, 'white_flour'), (0.058421176, 'salt'), (0.052748956, 'radishes'), (0.052197013, 'english_cucumber'), (0.049221717, 'rice_flour'), (0.046213437, 'sugar'), (0.044024248, 'extra-sharp_cheddar_cheese'), (0.04185755, 'brewed_coffee'), (0.03555566, 'hot_red_pepper_flakes'), (0.033313632, 'five-spice_powder'), (0.03195571, 'vital_wheat_gluten'), (0.031072482, 'instant_coffee_granules'), (0.026982531, 'water'), (0.020765625, 'xanthan_gum'), (0.018360643, 'unsweetened_chocolate_squares'), (0.01819391, 'italian_herb_seasoning'), (0.016948638, 'pork_roast'), (0.016354406, 'eggs'), (0.015943112, 'potato_starch')]\n",
      "-12.194651342961034\n",
      "\n",
      "[(0.20031166, 'cold_water'), (0.15262432, 'ricotta_cheese'), (0.10643024, 'egg_yolk'), (0.09321922, 'frozen_spinach'), (0.08364618, 'leeks'), (0.05500627, 'diced_onion'), (0.0371897, 'sweet_pickle_relish'), (0.025342502, 'wine'), (0.025084542, 'raw_sugar'), (0.022143992, 'salt'), (0.018771611, 'white_potatoes'), (0.01787857, 'balsamic_vinaigrette'), (0.014141231, 'chili_seasoning_mix'), (0.0135726025, 'pepper'), (0.0129089635, 'dried_porcini_mushrooms'), (0.011489502, 'lasagna_noodle'), (0.010208595, 'beef_tenderloin'), (0.009356301, 'dark_beer'), (0.0092950845, 'red_apples'), (0.009231526, 'sugar')]\n",
      "-12.23180058166979\n",
      "\n",
      "[(0.3743603, 'kosher_salt'), (0.10520449, 'white_wine_vinegar'), (0.051679615, 'extra_virgin_olive_oil'), (0.050930385, 'olive_oil'), (0.04962668, 'garlic_cloves'), (0.043113697, 'chicken_wings'), (0.042267572, 'teriyaki_sauce'), (0.0375908, 'tofu'), (0.035053696, 'fresh_tomatoes'), (0.03129827, 'orange_marmalade'), (0.029273657, 'milk_chocolate_chips'), (0.022097358, 'sugar'), (0.01656076, 'coconut_cream'), (0.012343022, 'yellow_bell_peppers'), (0.010047379, 'frozen_green_peas'), (0.009699259, 'chicken_breast_fillets'), (0.009265216, 'peanut_butter_chips'), (0.008776209, 'whole_canned_tomatoes'), (0.008010647, 'curry'), (0.006594301, 'pecorino_cheese')]\n",
      "-12.261191003840162\n",
      "\n",
      "[(0.36683637, \"confectioners'_sugar\"), (0.17765543, 'oranges'), (0.091709204, 'marin'), (0.072423816, 'gruyere_cheese'), (0.044824302, 'canned_tomatoes'), (0.04087497, 'pineapple_tidbits'), (0.023460701, 'instant_chocolate_pudding_mix'), (0.023249416, 'garlic_pepper_seasoning'), (0.02297678, 'butter'), (0.022373602, 'eggs'), (0.015118979, 'sugar'), (0.01428888, 'water'), (0.013712591, 'milk'), (0.01202672, 'english_muffin'), (0.0080723325, 'pie_filling'), (0.0077566924, 'white_potato'), (0.006594467, 'green_grapes'), (0.0042381594, 'frozen_peaches'), (0.0042010196, 'canned_milk'), (0.004168266, 'spice_essence')]\n",
      "-12.35636326979341\n",
      "\n",
      "[(0.2481463, 'yellow_onion'), (0.17439137, 'corn'), (0.07341836, 'creamy_peanut_butter'), (0.067762576, 'minced_garlic_cloves'), (0.05652062, 'panko_breadcrumbs'), (0.040830165, 'yellow_pepper'), (0.032256626, 'ground_turkey_breast'), (0.029138219, 'reduced-sodium_fat-free_chicken_broth'), (0.027366636, 'spanish_onion'), (0.026797358, 'coconut_extract'), (0.022336395, 'green_chili_peppers'), (0.0219191, 'marshmallow_cream'), (0.01967696, 'olive_oil'), (0.018700847, 'dried_ancho_chile_powder'), (0.016914004, 'salsa_verde'), (0.015925081, 'flank_steak'), (0.014535037, 'boneless_skinless_chicken'), (0.012872689, 'instant_potato_flakes'), (0.010065944, 'garlic_cloves'), (0.009908676, 'seltzer_water')]\n",
      "-12.640566448847695\n",
      "\n",
      "[(0.2656873, 'avocado'), (0.10681285, 'pineapple'), (0.0961788, 'celery_rib'), (0.08627535, 'orange_rind'), (0.05253773, 'marshmallows'), (0.04742508, 'enchilada_sauce'), (0.046771985, 'red_chile'), (0.042194963, 'instant_vanilla_pudding'), (0.036379725, 'chunky_salsa'), (0.03489897, 'pear'), (0.024796626, 'kosher'), (0.022488704, 'stewing_beef'), (0.017781723, 'fennel_seeds'), (0.016482158, 'boneless_pork_shoulder'), (0.016035853, 'tomatoes'), (0.01494921, 'habanero_pepper'), (0.012340227, 'lean_ham'), (0.010011841, 'butter'), (0.008465538, 'corn_tortilla'), (0.0065784305, 'sugar')]\n",
      "-12.696257696156344\n",
      "\n",
      "[(0.24985231, 'almonds'), (0.1949365, 'icing_sugar'), (0.10291284, 'diced_green_chilies'), (0.100299574, 'italian_dressing'), (0.09478802, 'monterey_jack_pepper_cheese'), (0.05812787, 'onion_salt'), (0.04674225, 'butterscotch_chips'), (0.034889884, 'butter'), (0.029143222, 'pecan_pieces'), (0.020412143, 'fast_rising_yeast'), (0.014147361, 'water'), (0.009440603, 'sugar'), (0.00848227, 'corkscrew_macaroni'), (0.00515793, 'eggs'), (0.0028202152, 'sweet_cream'), (0.0027295658, 'ancho_chili'), (0.0013821778, 'salt'), (0.0009423517, 'nacho_chip'), (1.5488444e-06, 'milk_chocolate_brownie_mix'), (1.5488444e-06, 'liqueurs')]\n",
      "-12.79432215778371\n",
      "\n",
      "[(0.18749192, 'baking_powder'), (0.1532635, 'baking_soda'), (0.1402315, 'salt'), (0.1381168, 'flour'), (0.09770181, 'sugar'), (0.09634787, 'eggs'), (0.05148375, 'butter'), (0.037530705, 'bananas'), (0.037297875, 'shortening'), (0.03409308, 'nuts'), (0.0085622715, 'water'), (0.0060470756, 'plain_low-fat_yogurt'), (0.004692277, 'low-fat_buttermilk'), (0.0017446047, 'corn_muffin_mix'), (0.0016418477, 'diced_pimentos'), (0.001356198, 'bulb_of_garlic'), (1.6286032e-07, 'chocolate_ice_cream_topping'), (1.6286032e-07, 'vanilla_bean_seeds'), (1.6286032e-07, 'instant_decaffeinated_coffee'), (1.6286032e-07, 'coffee-infused_vodka')]\n",
      "-12.876725006706746\n",
      "\n",
      "[(0.20500895, 'lemon'), (0.16760017, 'ground_cloves'), (0.16091357, 'skim_milk'), (0.13030842, 'egg_white'), (0.08705073, 'dry_sherry'), (0.069362, 'ground_pork'), (0.042346876, 'pumpkin_puree'), (0.040724, 'yellow_mustard'), (0.038427383, 'smoked_paprika'), (0.01463168, 'water'), (0.011526418, 'mixed_mushrooms'), (0.007422314, 'eggs'), (0.0064905663, 'poblano_chile'), (0.0039932136, 'olive_oil'), (0.0037392909, 'salt'), (7.102692e-07, 'flavored_sugar-free_instant_coffee'), (7.102692e-07, 'vanilla_bean_seeds'), (7.102692e-07, 'sugar-free_cafe_vienna_coffee_powder'), (7.102692e-07, 'coffee_frozen_yogurt'), (7.102692e-07, 'chocolate_ice_cream_topping')]\n",
      "-13.087902034240132\n",
      "\n",
      "[(0.2276032, 'vodka'), (0.11581335, 'salmon_fillets'), (0.10477859, 'mango'), (0.10288364, 'whole_kernel_corn'), (0.085335895, 'nonfat_sour_cream'), (0.050219703, 'pie_crusts'), (0.035408888, 'garlic_granules'), (0.027726112, 'white_kidney_beans'), (0.027498115, 'white_whole_wheat_flour'), (0.026141414, 'fat-free_chicken_broth'), (0.025108991, 'dried_chipotle_powder'), (0.02253698, 'serrano_chili'), (0.019010805, 'sugar'), (0.016776262, 'fresh_cracked_pepper'), (0.015323798, 'biscuits'), (0.014621498, 'water'), (0.014539347, 'burgundy_wine'), (0.010572513, 'yellow_sweet_pepper'), (0.00886611, 'light'), (0.0053066686, 'olive_oil')]\n",
      "-13.205682627753243\n",
      "\n",
      "[(0.61949044, 'egg'), (0.09518247, 'milk'), (0.05095733, 'coconut'), (0.04265199, 'whipped_cream'), (0.038153157, 'cream_of_tartar'), (0.03788285, 'vanilla_ice_cream'), (0.028090902, 'sugar'), (0.023117173, 'raspberries'), (0.015660042, 'butter'), (0.01461179, 'amaretto'), (0.01212371, 'strawberry_jam'), (0.0066116597, 'water'), (0.003683484, 'fruit_cocktail'), (0.0026154264, 'vegetable_juice_cocktail'), (0.0018623995, 'quick_oatmeal'), (0.0015518772, 'bar'), (3.909041e-07, 'sugar-free_cafe_vienna_coffee_powder'), (3.909041e-07, 'crisp_salad_green'), (3.909041e-07, 'liqueurs'), (3.909041e-07, 'coffee_frozen_yogurt')]\n",
      "-13.294046990778616\n",
      "\n",
      "[(0.38928968, 'vanilla'), (0.12884204, 'sugar'), (0.09287316, 'butter'), (0.088163964, 'whipping_cream'), (0.07965173, 'eggs'), (0.056069527, 'milk'), (0.046679653, 'cocoa'), (0.0433668, 'salt'), (0.018974178, 'lemon_peel'), (0.015839826, 'water'), (0.013772238, 'tarragon'), (0.009322632, 'beets'), (0.006898563, 'caramels'), (0.00554839, 'pitted_dates'), (3.1981926e-07, 'coffee_frozen_yogurt'), (3.1981926e-07, 'light_fudge_topping'), (3.1981926e-07, 'chocolate_ice_cream_topping'), (3.1981926e-07, 'coffee-infused_vodka'), (3.1981926e-07, 'liqueurs'), (3.1981926e-07, 'vanilla_bean_seeds')]\n",
      "-14.264554959987414\n",
      "\n",
      "[(0.19550292, 'pure_vanilla_extract'), (0.1400895, 'lemon,_zest_of'), (0.11582523, 'red_peppers'), (0.096669585, 'splenda_granular'), (0.043162216, 'sun-dried_tomato_packed_in_oil'), (0.04282827, 'corn_kernels'), (0.042711128, 'crunchy_peanut_butter'), (0.03700455, 'bow_tie_pasta'), (0.032105934, 'small_curd_cottage_cheese'), (0.030265879, 'dark_corn_syrup'), (0.026751662, 'lime,_zest_of'), (0.026450818, 'lime_slice'), (0.018481806, 'apple_pie_filling'), (0.018422727, 'rum_extract'), (0.017093167, 'italian_plum_tomatoes'), (0.015699252, 'roasted_cashews'), (0.013379954, 'sugar'), (0.012324468, 'hot_salsa'), (0.010484666, 'red_cayenne_pepper'), (0.0097046625, 'water')]\n",
      "-14.273888978771097\n",
      "\n",
      "[(0.44804657, 'parmesan_cheese'), (0.15941651, 'mozzarella_cheese'), (0.08603151, 'half--half'), (0.0780583, 'butter'), (0.07458809, 'sharp_cheddar_cheese'), (0.05197752, 'eggs'), (0.0273597, 'velveeta_cheese'), (0.027147809, 'elbow_macaroni'), (0.014593676, 'asiago_cheese'), (0.013821856, 'italian_seasoned_breadcrumbs'), (0.0053900075, 'salt'), (0.005207093, 'muenster_cheese'), (0.0040207957, 'havarti_cheese'), (2.948705e-07, 'flavored_sugar-free_instant_coffee'), (2.948705e-07, 'coffee_frozen_yogurt'), (2.948705e-07, 'light_fudge_topping'), (2.948705e-07, 'vanilla_bean_seeds'), (2.948705e-07, 'low-fat_coffee-flavored_frozen_yogurt'), (2.948705e-07, 'liqueurs'), (2.948705e-07, 'coffee-infused_vodka')]\n",
      "-14.504219506917902\n",
      "\n",
      "[(0.14769877, 'green_peppers'), (0.12892151, 'pumpkin'), (0.09088902, 'ice_cube'), (0.087566234, 'grape_tomatoes'), (0.060722906, 'lettuce_leaf'), (0.050622217, 'lentils'), (0.04969606, 'hazelnuts'), (0.04828375, 'gr'), (0.04828231, 'marnier'), (0.032513153, 'chuck_roast'), (0.031069204, 'water'), (0.030828657, 'mild_cheddar_cheese'), (0.030567197, 'light_rum'), (0.027448883, \"lawry's_seasoned_salt\"), (0.022580259, 'sugar'), (0.019210031, 'sweet_basil'), (0.018478341, 'albacore_tuna'), (0.01580881, 'frozen_baby_peas'), (0.015125353, 'medium_egg_noodles'), (0.008329569, 'parsley_sprigs')]\n",
      "-14.558611037831806\n",
      "\n",
      "[(0.21344964, 'taco_seasoning'), (0.2000506, 'red_onions'), (0.08120314, 'quick-cooking_oats'), (0.05688713, 'powder'), (0.053963065, 'light_olive_oil'), (0.048963994, 'spicy_brown_mustard'), (0.045171622, 'tomatoes'), (0.034392178, 'taco_shells'), (0.03024764, 'okra'), (0.029748231, 'small_shrimp'), (0.024779519, 'head_of_cabbage'), (0.021972824, 'whole_chicken'), (0.020281933, 'cheddar_cheese_soup'), (0.020072434, 'frozen_hash_brown_potatoes'), (0.018371737, 'bibb_lettuce'), (0.017319208, 'water'), (0.015662966, 'albacore_tuna_in_water'), (0.012441818, 'four-cheese_mexican_blend_cheese'), (0.012375454, 'light_beer'), (0.008057534, 'baby_red_potatoes')]\n",
      "-15.118968430342452\n",
      "\n",
      "[(0.15576507, 'red_wine'), (0.13985527, 'orange'), (0.11620504, 'cannellini_beans'), (0.07474454, 'green_cabbage'), (0.06899384, 'snow_peas'), (0.060698576, 'marinara_sauce'), (0.047791667, 'red_cabbage'), (0.03676206, 'with'), (0.036638875, 'sugar'), (0.030371731, 'berries'), (0.028856153, 'marin'), (0.02753636, 'flank_steaks'), (0.02148228, 'fat-free_cottage_cheese'), (0.016283303, 'ground_veal'), (0.015565324, 'vanilla_pudding_mix'), (0.012758518, 'mild_salsa'), (0.012333363, 'smoked_turkey'), (0.0119092595, 'anaheim_chilies'), (0.008735669, 'vinaigrette'), (0.008525157, 'yam')]\n",
      "-15.328129477631524\n",
      "\n",
      "[(0.34096408, 'margarine'), (0.24400914, 'nutmeg'), (0.11750839, 'rolled_oats'), (0.062214907, 'nonstick_cooking_spray'), (0.053787053, 'peaches'), (0.04752506, 'flaked_coconut'), (0.035625953, 'horseradish'), (0.027947653, 'rice_krispies'), (0.02587287, 'fat_free_cream_cheese'), (0.015070217, 'evaporated_skim_milk'), (0.011827814, 'sugar'), (0.003368383, 'heinz_chili_sauce'), (0.003248304, 'peach_nectar'), (7.492963e-07, 'chocolate_ice_cream_topping'), (7.492963e-07, 'coffee-infused_vodka'), (7.492963e-07, 'vanilla_bean_seeds'), (7.492963e-07, 'liqueurs'), (7.492963e-07, 'espresso-flavored_vodka'), (7.492963e-07, 'light_fudge_topping'), (7.492963e-07, 'sugar-free_cafe_vienna_coffee_powder')]\n",
      "-16.026286854329058\n",
      "\n",
      "[(0.43315724, 'fish_sauce'), (0.08746613, 'roasted_red_pepper'), (0.08485056, 'lettuce_leaves'), (0.07656527, 'sugar'), (0.066408165, 'pizza_dough'), (0.044060875, 'sliced_ripe_olives'), (0.038286354, 'garlic_cloves'), (0.03381981, 'toffee_pieces'), (0.020272942, 'italian-style_diced_tomatoes'), (0.014806669, 'hot_chili_pepper'), (0.014678598, 'butter_flavor_shortening'), (0.013577768, 'tomatoes'), (0.012733336, 'white_grape_juice'), (0.011842683, 'cooked_elbow_macaroni'), (0.010911495, 'firm_ripe_tomatoes'), (0.007849656, 'pretzel_stick'), (0.004457229, 'semisweet_chocolate_chunks'), (0.000533331, 'canned_whole_kernel_corn'), (1.6119722e-06, 'vanilla_bean_seeds'), (1.6119722e-06, 'chocolate_ice_cream_topping')]\n",
      "-16.33835718502872\n",
      "\n",
      "[(0.46892637, 'black_pepper'), (0.24204972, 'cornstarch'), (0.06698093, 'salt'), (0.061683565, 'water'), (0.058710273, 'molasses'), (0.05673459, 'dark_brown_sugar'), (0.01862681, 'mustard_powder'), (0.018005734, 'chicken_bouillon_cubes'), (0.0032658607, 'onion'), (3.4065258e-07, 'low-fat_soymilk'), (3.4065258e-07, 'espresso-flavored_vodka'), (3.4065258e-07, 'milk_chocolate_brownie_mix'), (3.4065258e-07, 'black_greek_olives'), (3.4065258e-07, 'sugar-free_cafe_vienna_coffee_powder'), (3.4065258e-07, 'bengal_gram_dal'), (3.4065258e-07, 'liqueurs'), (3.4065258e-07, 'tempura_mix'), (3.4065258e-07, 'plantain_chips'), (3.4065258e-07, 'bread_dressing'), (3.4065258e-07, 'cranberry-orange_relish')]\n",
      "-16.61959545114216\n",
      "\n"
     ]
    }
   ],
   "source": [
    "for i in range(len(top_topics)):\n",
    "    print(top_topics[i][0])\n",
    "    print(top_topics[i][1])\n",
    "    print()"
   ]
  },
  {
   "cell_type": "code",
   "execution_count": null,
   "id": "alone-barrel",
   "metadata": {},
   "outputs": [],
   "source": []
  },
  {
   "cell_type": "code",
   "execution_count": null,
   "id": "final-antibody",
   "metadata": {},
   "outputs": [],
   "source": []
  },
  {
   "cell_type": "code",
   "execution_count": null,
   "id": "elect-gregory",
   "metadata": {},
   "outputs": [],
   "source": []
  },
  {
   "cell_type": "code",
   "execution_count": null,
   "id": "framed-signature",
   "metadata": {},
   "outputs": [],
   "source": []
  },
  {
   "cell_type": "code",
   "execution_count": 47,
   "id": "mineral-perception",
   "metadata": {
    "ExecuteTime": {
     "end_time": "2021-03-12T01:29:34.241619Z",
     "start_time": "2021-03-12T01:29:34.234694Z"
    },
    "scrolled": true
   },
   "outputs": [
    {
     "data": {
      "text/plain": [
       "array([list(['winter_squash', 'mexican_seasoning', 'mixed_spice', 'honey', 'butter', 'olive_oil', 'salt']),\n",
       "       list(['prepared_pizza_crust', 'sausage_patty', 'eggs', 'milk', 'salt', 'pepper', 'cheese']),\n",
       "       list(['ground_beef', 'yellow_onions', 'diced_tomatoes', 'tomato_paste', 'tomato_soup', 'rotel_tomatoes', 'kidney_beans', 'water', 'chili_powder', 'ground_cumin', 'salt', 'lettuce', 'cheddar_cheese']),\n",
       "       ...,\n",
       "       list(['hard-cooked_eggs', 'mayonnaise', 'dijon_mustard', 'salt-free_cajun_seasoning', 'tabasco_sauce', 'salt', 'black_pepper', 'fresh_italian_parsley']),\n",
       "       list(['butter', 'eagle', 'br', 'condensed', 'milk', 'light_brown_sugar', 'sour_cream', 'egg', 'extract', 'nutmeg', 'self-rising_flour', 'bisquick', 'wooden_popsicle_sticks']),\n",
       "       list(['granulated_sugar', 'shortening', 'eggs', 'flour', 'cream_of_tartar', 'baking_soda', 'vanilla_extract'])],\n",
       "      dtype=object)"
      ]
     },
     "execution_count": 47,
     "metadata": {},
     "output_type": "execute_result"
    }
   ],
   "source": [
    "ingr_all.values"
   ]
  },
  {
   "cell_type": "code",
   "execution_count": 103,
   "id": "cultural-ideal",
   "metadata": {
    "ExecuteTime": {
     "end_time": "2021-03-12T22:50:29.794440Z",
     "start_time": "2021-03-12T22:50:29.769448Z"
    }
   },
   "outputs": [
    {
     "data": {
      "text/plain": [
       "[(8, 0.21683142), (23, 0.4523037), (42, 0.17418815)]"
      ]
     },
     "execution_count": 103,
     "metadata": {},
     "output_type": "execute_result"
    }
   ],
   "source": [
    "t = \"salt egg four butter nutmeg winter_squash\".split(\" \")\n",
    "lda_model[d.doc2bow(t)]"
   ]
  },
  {
   "cell_type": "code",
   "execution_count": null,
   "id": "changing-acoustic",
   "metadata": {},
   "outputs": [],
   "source": [
    "lda_model.similarity()"
   ]
  },
  {
   "cell_type": "code",
   "execution_count": null,
   "id": "solved-deadline",
   "metadata": {},
   "outputs": [],
   "source": [
    "gensim.matutils.cossim()"
   ]
  },
  {
   "cell_type": "code",
   "execution_count": 104,
   "id": "frequent-citizenship",
   "metadata": {
    "ExecuteTime": {
     "end_time": "2021-03-12T23:51:47.977129Z",
     "start_time": "2021-03-12T23:51:46.608259Z"
    }
   },
   "outputs": [
    {
     "data": {
      "text/plain": [
       "0                                  [(0, 1), (1, 1), (5, 1)]\n",
       "1                                  [(7, 1), (8, 1), (9, 1)]\n",
       "2                                [(5, 1), (19, 1), (23, 1)]\n",
       "3              [(5, 1), (10, 1), (28, 1), (31, 1), (33, 1)]\n",
       "4                                [(5, 1), (10, 1), (40, 1)]\n",
       "                                ...                        \n",
       "231632      [(40, 1), (97, 1), (99, 1), (119, 1), (155, 1)]\n",
       "231633                                   [(5, 1), (155, 1)]\n",
       "231634                                   [(5, 1), (338, 1)]\n",
       "231635    [(0, 1), (142, 1), (154, 1), (778, 1), (3314, 1)]\n",
       "231636                         [(8, 1), (110, 1), (283, 1)]\n",
       "Name: ingredients, Length: 231637, dtype: object"
      ]
     },
     "execution_count": 104,
     "metadata": {},
     "output_type": "execute_result"
    }
   ],
   "source": [
    "raw_recipe[\"ingredients\"].apply(lambda x: d.doc2bow(x))"
   ]
  },
  {
   "cell_type": "code",
   "execution_count": 107,
   "id": "recreational-coating",
   "metadata": {
    "ExecuteTime": {
     "end_time": "2021-03-13T00:39:50.163606Z",
     "start_time": "2021-03-13T00:39:45.889417Z"
    }
   },
   "outputs": [],
   "source": [
    "raw_inter = pd.read_csv(\"src/data/kaggle_food_data/RAW_interactions.csv\")"
   ]
  },
  {
   "cell_type": "code",
   "execution_count": 112,
   "id": "temporal-degree",
   "metadata": {
    "ExecuteTime": {
     "end_time": "2021-03-13T00:40:33.203328Z",
     "start_time": "2021-03-13T00:40:33.195803Z"
    }
   },
   "outputs": [
    {
     "data": {
      "text/plain": [
       "0"
      ]
     },
     "execution_count": 112,
     "metadata": {},
     "output_type": "execute_result"
    }
   ],
   "source": []
  }
 ],
 "metadata": {
  "kernelspec": {
   "display_name": "Python 3",
   "language": "python",
   "name": "python3"
  },
  "language_info": {
   "codemirror_mode": {
    "name": "ipython",
    "version": 3
   },
   "file_extension": ".py",
   "mimetype": "text/x-python",
   "name": "python",
   "nbconvert_exporter": "python",
   "pygments_lexer": "ipython3",
   "version": "3.7.9"
  }
 },
 "nbformat": 4,
 "nbformat_minor": 5
}
